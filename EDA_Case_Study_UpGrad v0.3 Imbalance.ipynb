{
 "cells": [
  {
   "cell_type": "markdown",
   "metadata": {
    "id": "49xdK6wPcIKB"
   },
   "source": [
    "#  EDA Case Study\n"
   ]
  },
  {
   "cell_type": "markdown",
   "metadata": {
    "id": "2ZVjCmYbcqzK"
   },
   "source": [
    "First, let's import all the dependancies"
   ]
  },
  {
   "cell_type": "code",
   "execution_count": 3,
   "metadata": {
    "colab": {
     "base_uri": "https://localhost:8080/"
    },
    "id": "0Wi49UZQcB4_",
    "outputId": "57c20563-cd83-4ca7-e72e-eaf16fa77e2d"
   },
   "outputs": [
    {
     "name": "stdout",
     "output_type": "stream",
     "text": [
      "Packages imported successfully\n"
     ]
    }
   ],
   "source": [
    "import pandas as pd\n",
    "import numpy as np\n",
    "import matplotlib.pyplot as plt\n",
    "import seaborn as sns\n",
    "import warnings\n",
    "print('Packages imported successfully')"
   ]
  },
  {
   "cell_type": "markdown",
   "metadata": {
    "id": "NLwiUg8FdBjT"
   },
   "source": [
    "Now. let's import the data sets"
   ]
  },
  {
   "cell_type": "code",
   "execution_count": 4,
   "metadata": {
    "id": "u_PcPvu1dAqT"
   },
   "outputs": [],
   "source": [
    "data_app = pd.read_csv('Data\\\\application_data.csv')"
   ]
  },
  {
   "cell_type": "code",
   "execution_count": 5,
   "metadata": {
    "id": "F3eYwJu4d4XY"
   },
   "outputs": [],
   "source": [
    "# Shape of dataframe\n",
    "data_app_rows, data_app_cols = data_app.shape"
   ]
  },
  {
   "cell_type": "code",
   "execution_count": 6,
   "metadata": {
    "id": "eJnPu9dPeAc_"
   },
   "outputs": [],
   "source": [
    "data_prev_app = pd.read_csv('Data\\\\previous_application.csv')"
   ]
  },
  {
   "cell_type": "code",
   "execution_count": 7,
   "metadata": {
    "id": "dhOBHymDeFiw"
   },
   "outputs": [],
   "source": [
    "# Shape of dataframe\n",
    "data_prv_app_rows, data_prv_app_cols = data_prev_app.shape"
   ]
  },
  {
   "cell_type": "markdown",
   "metadata": {
    "id": "6jTY2LEi27Ws"
   },
   "source": [
    "Lets find columns with missing values"
   ]
  },
  {
   "cell_type": "code",
   "execution_count": 8,
   "metadata": {
    "id": "7NuX_AJRzz8h"
   },
   "outputs": [],
   "source": [
    " app_data_mis_vals = round(data_app.isnull().sum()/data_app_rows*100,2)"
   ]
  },
  {
   "cell_type": "code",
   "execution_count": 9,
   "metadata": {
    "colab": {
     "base_uri": "https://localhost:8080/",
     "height": 404
    },
    "id": "N_NxwJRd1Eut",
    "outputId": "d6c1daf1-cb88-4f06-b94a-83cd49fae63c"
   },
   "outputs": [
    {
     "data": {
      "image/png": "[encoded data removed]",
      "text/plain": [
       "<Figure size 720x432 with 1 Axes>"
      ]
     },
     "metadata": {
      "needs_background": "light"
     },
     "output_type": "display_data"
    }
   ],
   "source": [
    "plt.figure(figsize=[10,6])\n",
    "app_data_mis_vals.plot.hist().set(xlabel='Percentage Missing Values',ylabel='Number of Columns',title='Percent Missing Values vs Number of Columns')\n",
    "plt.show()"
   ]
  },
  {
   "cell_type": "markdown",
   "metadata": {
    "id": "rpXRszZE6ANC"
   },
   "source": [
    "From the above graph it is evident that there are many columns with missing values percentage more than 40%, since 40% is significant number for missing value we can drop these values."
   ]
  },
  {
   "cell_type": "code",
   "execution_count": 10,
   "metadata": {
    "id": "UBYna3EN5XyY"
   },
   "outputs": [],
   "source": [
    "#List of columns with missing values percentage greater than 40\n",
    "drop_cols = app_data_mis_vals[app_data_mis_vals>40].index.tolist()"
   ]
  },
  {
   "cell_type": "code",
   "execution_count": 11,
   "metadata": {
    "colab": {
     "base_uri": "https://localhost:8080/"
    },
    "id": "dbDcifW06_JO",
    "outputId": "98bd0a7f-dd54-4efb-da07-55440fd6f475"
   },
   "outputs": [
    {
     "data": {
      "text/plain": [
       "49"
      ]
     },
     "execution_count": 11,
     "metadata": {},
     "output_type": "execute_result"
    }
   ],
   "source": [
    "#Count of columns that need to be dropped\n",
    "len(drop_cols)"
   ]
  },
  {
   "cell_type": "code",
   "execution_count": 12,
   "metadata": {
    "id": "BvK4bzDf6nBh"
   },
   "outputs": [],
   "source": [
    "#Dropping above columns\n",
    "data_app.drop(labels=drop_cols,axis=1,inplace=True)"
   ]
  },
  {
   "cell_type": "code",
   "execution_count": 13,
   "metadata": {
    "colab": {
     "base_uri": "https://localhost:8080/"
    },
    "id": "voGnjN9A67NJ",
    "outputId": "bbda2ddc-cf49-49aa-8b91-e427f295a99c"
   },
   "outputs": [
    {
     "data": {
      "text/plain": [
       "(307511, 73)"
      ]
     },
     "execution_count": 13,
     "metadata": {},
     "output_type": "execute_result"
    }
   ],
   "source": [
    "#Verifying the shape of the dataframe \n",
    "data_app.shape"
   ]
  },
  {
   "cell_type": "code",
   "execution_count": 14,
   "metadata": {
    "colab": {
     "base_uri": "https://localhost:8080/"
    },
    "id": "Xz2RZ9nozo2E",
    "outputId": "759c052c-2b76-4aa0-f77b-23a407a0ab93"
   },
   "outputs": [
    {
     "name": "stdout",
     "output_type": "stream",
     "text": [
      "<class 'pandas.core.frame.DataFrame'>\n",
      "RangeIndex: 307511 entries, 0 to 307510\n",
      "Data columns (total 73 columns):\n",
      " #   Column                       Dtype  \n",
      "---  ------                       -----  \n",
      " 0   SK_ID_CURR                   int64  \n",
      " 1   TARGET                       int64  \n",
      " 2   NAME_CONTRACT_TYPE           object \n",
      " 3   CODE_GENDER                  object \n",
      " 4   FLAG_OWN_CAR                 object \n",
      " 5   FLAG_OWN_REALTY              object \n",
      " 6   CNT_CHILDREN                 int64  \n",
      " 7   AMT_INCOME_TOTAL             float64\n",
      " 8   AMT_CREDIT                   float64\n",
      " 9   AMT_ANNUITY                  float64\n",
      " 10  AMT_GOODS_PRICE              float64\n",
      " 11  NAME_TYPE_SUITE              object \n",
      " 12  NAME_INCOME_TYPE             object \n",
      " 13  NAME_EDUCATION_TYPE          object \n",
      " 14  NAME_FAMILY_STATUS           object \n",
      " 15  NAME_HOUSING_TYPE            object \n",
      " 16  REGION_POPULATION_RELATIVE   float64\n",
      " 17  DAYS_BIRTH                   int64  \n",
      " 18  DAYS_EMPLOYED                int64  \n",
      " 19  DAYS_REGISTRATION            float64\n",
      " 20  DAYS_ID_PUBLISH              int64  \n",
      " 21  FLAG_MOBIL                   int64  \n",
      " 22  FLAG_EMP_PHONE               int64  \n",
      " 23  FLAG_WORK_PHONE              int64  \n",
      " 24  FLAG_CONT_MOBILE             int64  \n",
      " 25  FLAG_PHONE                   int64  \n",
      " 26  FLAG_EMAIL                   int64  \n",
      " 27  OCCUPATION_TYPE              object \n",
      " 28  CNT_FAM_MEMBERS              float64\n",
      " 29  REGION_RATING_CLIENT         int64  \n",
      " 30  REGION_RATING_CLIENT_W_CITY  int64  \n",
      " 31  WEEKDAY_APPR_PROCESS_START   object \n",
      " 32  HOUR_APPR_PROCESS_START      int64  \n",
      " 33  REG_REGION_NOT_LIVE_REGION   int64  \n",
      " 34  REG_REGION_NOT_WORK_REGION   int64  \n",
      " 35  LIVE_REGION_NOT_WORK_REGION  int64  \n",
      " 36  REG_CITY_NOT_LIVE_CITY       int64  \n",
      " 37  REG_CITY_NOT_WORK_CITY       int64  \n",
      " 38  LIVE_CITY_NOT_WORK_CITY      int64  \n",
      " 39  ORGANIZATION_TYPE            object \n",
      " 40  EXT_SOURCE_2                 float64\n",
      " 41  EXT_SOURCE_3                 float64\n",
      " 42  OBS_30_CNT_SOCIAL_CIRCLE     float64\n",
      " 43  DEF_30_CNT_SOCIAL_CIRCLE     float64\n",
      " 44  OBS_60_CNT_SOCIAL_CIRCLE     float64\n",
      " 45  DEF_60_CNT_SOCIAL_CIRCLE     float64\n",
      " 46  DAYS_LAST_PHONE_CHANGE       float64\n",
      " 47  FLAG_DOCUMENT_2              int64  \n",
      " 48  FLAG_DOCUMENT_3              int64  \n",
      " 49  FLAG_DOCUMENT_4              int64  \n",
      " 50  FLAG_DOCUMENT_5              int64  \n",
      " 51  FLAG_DOCUMENT_6              int64  \n",
      " 52  FLAG_DOCUMENT_7              int64  \n",
      " 53  FLAG_DOCUMENT_8              int64  \n",
      " 54  FLAG_DOCUMENT_9              int64  \n",
      " 55  FLAG_DOCUMENT_10             int64  \n",
      " 56  FLAG_DOCUMENT_11             int64  \n",
      " 57  FLAG_DOCUMENT_12             int64  \n",
      " 58  FLAG_DOCUMENT_13             int64  \n",
      " 59  FLAG_DOCUMENT_14             int64  \n",
      " 60  FLAG_DOCUMENT_15             int64  \n",
      " 61  FLAG_DOCUMENT_16             int64  \n",
      " 62  FLAG_DOCUMENT_17             int64  \n",
      " 63  FLAG_DOCUMENT_18             int64  \n",
      " 64  FLAG_DOCUMENT_19             int64  \n",
      " 65  FLAG_DOCUMENT_20             int64  \n",
      " 66  FLAG_DOCUMENT_21             int64  \n",
      " 67  AMT_REQ_CREDIT_BUREAU_HOUR   float64\n",
      " 68  AMT_REQ_CREDIT_BUREAU_DAY    float64\n",
      " 69  AMT_REQ_CREDIT_BUREAU_WEEK   float64\n",
      " 70  AMT_REQ_CREDIT_BUREAU_MON    float64\n",
      " 71  AMT_REQ_CREDIT_BUREAU_QRT    float64\n",
      " 72  AMT_REQ_CREDIT_BUREAU_YEAR   float64\n",
      "dtypes: float64(20), int64(41), object(12)\n",
      "memory usage: 171.3+ MB\n"
     ]
    },
    {
     "name": "stderr",
     "output_type": "stream",
     "text": [
      "<ipython-input-14-e5d740f19301>:2: FutureWarning: null_counts is deprecated. Use show_counts instead\n",
      "  data_app.info(verbose=True,null_counts=False)\n"
     ]
    }
   ],
   "source": [
    "#Lets get information obout the dataframe now\n",
    "data_app.info(verbose=True,null_counts=False)"
   ]
  },
  {
   "cell_type": "code",
   "execution_count": 15,
   "metadata": {
    "id": "aBgh8syB7sqW"
   },
   "outputs": [],
   "source": [
    " impute_cols = data_app.isnull().sum()/data_app_rows*100"
   ]
  },
  {
   "cell_type": "code",
   "execution_count": 16,
   "metadata": {
    "id": "vYR6Gi6I71MW"
   },
   "outputs": [],
   "source": [
    "impute_cols_list = impute_cols[impute_cols>0].index.tolist()"
   ]
  },
  {
   "cell_type": "code",
   "execution_count": 17,
   "metadata": {
    "colab": {
     "base_uri": "https://localhost:8080/"
    },
    "id": "iOJf5bjG_hyH",
    "outputId": "fd9cb994-5402-42f9-e44a-a66cb398cf84"
   },
   "outputs": [
    {
     "data": {
      "text/plain": [
       "['AMT_ANNUITY',\n",
       " 'AMT_GOODS_PRICE',\n",
       " 'NAME_TYPE_SUITE',\n",
       " 'OCCUPATION_TYPE',\n",
       " 'CNT_FAM_MEMBERS',\n",
       " 'EXT_SOURCE_2',\n",
       " 'EXT_SOURCE_3',\n",
       " 'OBS_30_CNT_SOCIAL_CIRCLE',\n",
       " 'DEF_30_CNT_SOCIAL_CIRCLE',\n",
       " 'OBS_60_CNT_SOCIAL_CIRCLE',\n",
       " 'DEF_60_CNT_SOCIAL_CIRCLE',\n",
       " 'DAYS_LAST_PHONE_CHANGE',\n",
       " 'AMT_REQ_CREDIT_BUREAU_HOUR',\n",
       " 'AMT_REQ_CREDIT_BUREAU_DAY',\n",
       " 'AMT_REQ_CREDIT_BUREAU_WEEK',\n",
       " 'AMT_REQ_CREDIT_BUREAU_MON',\n",
       " 'AMT_REQ_CREDIT_BUREAU_QRT',\n",
       " 'AMT_REQ_CREDIT_BUREAU_YEAR']"
      ]
     },
     "execution_count": 17,
     "metadata": {},
     "output_type": "execute_result"
    }
   ],
   "source": [
    "impute_cols_list"
   ]
  },
  {
   "cell_type": "code",
   "execution_count": 18,
   "metadata": {
    "id": "Ca6LMz6f9EH2"
   },
   "outputs": [],
   "source": [
    "null_data = data_app[data_app.isnull().any(axis=1)]"
   ]
  },
  {
   "cell_type": "code",
   "execution_count": 19,
   "metadata": {
    "colab": {
     "base_uri": "https://localhost:8080/",
     "height": 592
    },
    "id": "g_JB5fyp-diG",
    "outputId": "e966cc31-e57d-41ed-e25d-3951372a4cc3"
   },
   "outputs": [
    {
     "data": {
      "text/html": [
       "<div>\n",
       "<style scoped>\n",
       "    .dataframe tbody tr th:only-of-type {\n",
       "        vertical-align: middle;\n",
       "    }\n",
       "\n",
       "    .dataframe tbody tr th {\n",
       "        vertical-align: top;\n",
       "    }\n",
       "\n",
       "    .dataframe thead th {\n",
       "        text-align: right;\n",
       "    }\n",
       "</style>\n",
       "<table border=\"1\" class=\"dataframe\">\n",
       "  <thead>\n",
       "    <tr style=\"text-align: right;\">\n",
       "      <th></th>\n",
       "      <th>SK_ID_CURR</th>\n",
       "      <th>TARGET</th>\n",
       "      <th>NAME_CONTRACT_TYPE</th>\n",
       "      <th>CODE_GENDER</th>\n",
       "      <th>FLAG_OWN_CAR</th>\n",
       "      <th>FLAG_OWN_REALTY</th>\n",
       "      <th>CNT_CHILDREN</th>\n",
       "      <th>AMT_INCOME_TOTAL</th>\n",
       "      <th>AMT_CREDIT</th>\n",
       "      <th>AMT_ANNUITY</th>\n",
       "      <th>...</th>\n",
       "      <th>FLAG_DOCUMENT_18</th>\n",
       "      <th>FLAG_DOCUMENT_19</th>\n",
       "      <th>FLAG_DOCUMENT_20</th>\n",
       "      <th>FLAG_DOCUMENT_21</th>\n",
       "      <th>AMT_REQ_CREDIT_BUREAU_HOUR</th>\n",
       "      <th>AMT_REQ_CREDIT_BUREAU_DAY</th>\n",
       "      <th>AMT_REQ_CREDIT_BUREAU_WEEK</th>\n",
       "      <th>AMT_REQ_CREDIT_BUREAU_MON</th>\n",
       "      <th>AMT_REQ_CREDIT_BUREAU_QRT</th>\n",
       "      <th>AMT_REQ_CREDIT_BUREAU_YEAR</th>\n",
       "    </tr>\n",
       "  </thead>\n",
       "  <tbody>\n",
       "    <tr>\n",
       "      <th>1</th>\n",
       "      <td>100003</td>\n",
       "      <td>0</td>\n",
       "      <td>Cash loans</td>\n",
       "      <td>F</td>\n",
       "      <td>N</td>\n",
       "      <td>N</td>\n",
       "      <td>0</td>\n",
       "      <td>270000.0</td>\n",
       "      <td>1293502.5</td>\n",
       "      <td>35698.5</td>\n",
       "      <td>...</td>\n",
       "      <td>0</td>\n",
       "      <td>0</td>\n",
       "      <td>0</td>\n",
       "      <td>0</td>\n",
       "      <td>0.0</td>\n",
       "      <td>0.0</td>\n",
       "      <td>0.0</td>\n",
       "      <td>0.0</td>\n",
       "      <td>0.0</td>\n",
       "      <td>0.0</td>\n",
       "    </tr>\n",
       "    <tr>\n",
       "      <th>3</th>\n",
       "      <td>100006</td>\n",
       "      <td>0</td>\n",
       "      <td>Cash loans</td>\n",
       "      <td>F</td>\n",
       "      <td>N</td>\n",
       "      <td>Y</td>\n",
       "      <td>0</td>\n",
       "      <td>135000.0</td>\n",
       "      <td>312682.5</td>\n",
       "      <td>29686.5</td>\n",
       "      <td>...</td>\n",
       "      <td>0</td>\n",
       "      <td>0</td>\n",
       "      <td>0</td>\n",
       "      <td>0</td>\n",
       "      <td>NaN</td>\n",
       "      <td>NaN</td>\n",
       "      <td>NaN</td>\n",
       "      <td>NaN</td>\n",
       "      <td>NaN</td>\n",
       "      <td>NaN</td>\n",
       "    </tr>\n",
       "    <tr>\n",
       "      <th>4</th>\n",
       "      <td>100007</td>\n",
       "      <td>0</td>\n",
       "      <td>Cash loans</td>\n",
       "      <td>M</td>\n",
       "      <td>N</td>\n",
       "      <td>Y</td>\n",
       "      <td>0</td>\n",
       "      <td>121500.0</td>\n",
       "      <td>513000.0</td>\n",
       "      <td>21865.5</td>\n",
       "      <td>...</td>\n",
       "      <td>0</td>\n",
       "      <td>0</td>\n",
       "      <td>0</td>\n",
       "      <td>0</td>\n",
       "      <td>0.0</td>\n",
       "      <td>0.0</td>\n",
       "      <td>0.0</td>\n",
       "      <td>0.0</td>\n",
       "      <td>0.0</td>\n",
       "      <td>0.0</td>\n",
       "    </tr>\n",
       "    <tr>\n",
       "      <th>8</th>\n",
       "      <td>100011</td>\n",
       "      <td>0</td>\n",
       "      <td>Cash loans</td>\n",
       "      <td>F</td>\n",
       "      <td>N</td>\n",
       "      <td>Y</td>\n",
       "      <td>0</td>\n",
       "      <td>112500.0</td>\n",
       "      <td>1019610.0</td>\n",
       "      <td>33826.5</td>\n",
       "      <td>...</td>\n",
       "      <td>0</td>\n",
       "      <td>0</td>\n",
       "      <td>0</td>\n",
       "      <td>0</td>\n",
       "      <td>0.0</td>\n",
       "      <td>0.0</td>\n",
       "      <td>0.0</td>\n",
       "      <td>0.0</td>\n",
       "      <td>0.0</td>\n",
       "      <td>1.0</td>\n",
       "    </tr>\n",
       "    <tr>\n",
       "      <th>9</th>\n",
       "      <td>100012</td>\n",
       "      <td>0</td>\n",
       "      <td>Revolving loans</td>\n",
       "      <td>M</td>\n",
       "      <td>N</td>\n",
       "      <td>Y</td>\n",
       "      <td>0</td>\n",
       "      <td>135000.0</td>\n",
       "      <td>405000.0</td>\n",
       "      <td>20250.0</td>\n",
       "      <td>...</td>\n",
       "      <td>0</td>\n",
       "      <td>0</td>\n",
       "      <td>0</td>\n",
       "      <td>0</td>\n",
       "      <td>NaN</td>\n",
       "      <td>NaN</td>\n",
       "      <td>NaN</td>\n",
       "      <td>NaN</td>\n",
       "      <td>NaN</td>\n",
       "      <td>NaN</td>\n",
       "    </tr>\n",
       "    <tr>\n",
       "      <th>...</th>\n",
       "      <td>...</td>\n",
       "      <td>...</td>\n",
       "      <td>...</td>\n",
       "      <td>...</td>\n",
       "      <td>...</td>\n",
       "      <td>...</td>\n",
       "      <td>...</td>\n",
       "      <td>...</td>\n",
       "      <td>...</td>\n",
       "      <td>...</td>\n",
       "      <td>...</td>\n",
       "      <td>...</td>\n",
       "      <td>...</td>\n",
       "      <td>...</td>\n",
       "      <td>...</td>\n",
       "      <td>...</td>\n",
       "      <td>...</td>\n",
       "      <td>...</td>\n",
       "      <td>...</td>\n",
       "      <td>...</td>\n",
       "      <td>...</td>\n",
       "    </tr>\n",
       "    <tr>\n",
       "      <th>307501</th>\n",
       "      <td>456245</td>\n",
       "      <td>0</td>\n",
       "      <td>Cash loans</td>\n",
       "      <td>F</td>\n",
       "      <td>N</td>\n",
       "      <td>Y</td>\n",
       "      <td>3</td>\n",
       "      <td>81000.0</td>\n",
       "      <td>269550.0</td>\n",
       "      <td>11871.0</td>\n",
       "      <td>...</td>\n",
       "      <td>0</td>\n",
       "      <td>0</td>\n",
       "      <td>0</td>\n",
       "      <td>0</td>\n",
       "      <td>NaN</td>\n",
       "      <td>NaN</td>\n",
       "      <td>NaN</td>\n",
       "      <td>NaN</td>\n",
       "      <td>NaN</td>\n",
       "      <td>NaN</td>\n",
       "    </tr>\n",
       "    <tr>\n",
       "      <th>307504</th>\n",
       "      <td>456248</td>\n",
       "      <td>0</td>\n",
       "      <td>Cash loans</td>\n",
       "      <td>F</td>\n",
       "      <td>N</td>\n",
       "      <td>Y</td>\n",
       "      <td>0</td>\n",
       "      <td>153000.0</td>\n",
       "      <td>331920.0</td>\n",
       "      <td>16096.5</td>\n",
       "      <td>...</td>\n",
       "      <td>0</td>\n",
       "      <td>0</td>\n",
       "      <td>0</td>\n",
       "      <td>0</td>\n",
       "      <td>NaN</td>\n",
       "      <td>NaN</td>\n",
       "      <td>NaN</td>\n",
       "      <td>NaN</td>\n",
       "      <td>NaN</td>\n",
       "      <td>NaN</td>\n",
       "    </tr>\n",
       "    <tr>\n",
       "      <th>307505</th>\n",
       "      <td>456249</td>\n",
       "      <td>0</td>\n",
       "      <td>Cash loans</td>\n",
       "      <td>F</td>\n",
       "      <td>N</td>\n",
       "      <td>Y</td>\n",
       "      <td>0</td>\n",
       "      <td>112500.0</td>\n",
       "      <td>225000.0</td>\n",
       "      <td>22050.0</td>\n",
       "      <td>...</td>\n",
       "      <td>0</td>\n",
       "      <td>0</td>\n",
       "      <td>0</td>\n",
       "      <td>0</td>\n",
       "      <td>0.0</td>\n",
       "      <td>0.0</td>\n",
       "      <td>0.0</td>\n",
       "      <td>2.0</td>\n",
       "      <td>0.0</td>\n",
       "      <td>0.0</td>\n",
       "    </tr>\n",
       "    <tr>\n",
       "      <th>307506</th>\n",
       "      <td>456251</td>\n",
       "      <td>0</td>\n",
       "      <td>Cash loans</td>\n",
       "      <td>M</td>\n",
       "      <td>N</td>\n",
       "      <td>N</td>\n",
       "      <td>0</td>\n",
       "      <td>157500.0</td>\n",
       "      <td>254700.0</td>\n",
       "      <td>27558.0</td>\n",
       "      <td>...</td>\n",
       "      <td>0</td>\n",
       "      <td>0</td>\n",
       "      <td>0</td>\n",
       "      <td>0</td>\n",
       "      <td>NaN</td>\n",
       "      <td>NaN</td>\n",
       "      <td>NaN</td>\n",
       "      <td>NaN</td>\n",
       "      <td>NaN</td>\n",
       "      <td>NaN</td>\n",
       "    </tr>\n",
       "    <tr>\n",
       "      <th>307507</th>\n",
       "      <td>456252</td>\n",
       "      <td>0</td>\n",
       "      <td>Cash loans</td>\n",
       "      <td>F</td>\n",
       "      <td>N</td>\n",
       "      <td>Y</td>\n",
       "      <td>0</td>\n",
       "      <td>72000.0</td>\n",
       "      <td>269550.0</td>\n",
       "      <td>12001.5</td>\n",
       "      <td>...</td>\n",
       "      <td>0</td>\n",
       "      <td>0</td>\n",
       "      <td>0</td>\n",
       "      <td>0</td>\n",
       "      <td>NaN</td>\n",
       "      <td>NaN</td>\n",
       "      <td>NaN</td>\n",
       "      <td>NaN</td>\n",
       "      <td>NaN</td>\n",
       "      <td>NaN</td>\n",
       "    </tr>\n",
       "  </tbody>\n",
       "</table>\n",
       "<p>139779 rows × 73 columns</p>\n",
       "</div>"
      ],
      "text/plain": [
       "        SK_ID_CURR  TARGET NAME_CONTRACT_TYPE CODE_GENDER FLAG_OWN_CAR  \\\n",
       "1           100003       0         Cash loans           F            N   \n",
       "3           100006       0         Cash loans           F            N   \n",
       "4           100007       0         Cash loans           M            N   \n",
       "8           100011       0         Cash loans           F            N   \n",
       "9           100012       0    Revolving loans           M            N   \n",
       "...            ...     ...                ...         ...          ...   \n",
       "307501      456245       0         Cash loans           F            N   \n",
       "307504      456248       0         Cash loans           F            N   \n",
       "307505      456249       0         Cash loans           F            N   \n",
       "307506      456251       0         Cash loans           M            N   \n",
       "307507      456252       0         Cash loans           F            N   \n",
       "\n",
       "       FLAG_OWN_REALTY  CNT_CHILDREN  AMT_INCOME_TOTAL  AMT_CREDIT  \\\n",
       "1                    N             0          270000.0   1293502.5   \n",
       "3                    Y             0          135000.0    312682.5   \n",
       "4                    Y             0          121500.0    513000.0   \n",
       "8                    Y             0          112500.0   1019610.0   \n",
       "9                    Y             0          135000.0    405000.0   \n",
       "...                ...           ...               ...         ...   \n",
       "307501               Y             3           81000.0    269550.0   \n",
       "307504               Y             0          153000.0    331920.0   \n",
       "307505               Y             0          112500.0    225000.0   \n",
       "307506               N             0          157500.0    254700.0   \n",
       "307507               Y             0           72000.0    269550.0   \n",
       "\n",
       "        AMT_ANNUITY  ...  FLAG_DOCUMENT_18 FLAG_DOCUMENT_19 FLAG_DOCUMENT_20  \\\n",
       "1           35698.5  ...                 0                0                0   \n",
       "3           29686.5  ...                 0                0                0   \n",
       "4           21865.5  ...                 0                0                0   \n",
       "8           33826.5  ...                 0                0                0   \n",
       "9           20250.0  ...                 0                0                0   \n",
       "...             ...  ...               ...              ...              ...   \n",
       "307501      11871.0  ...                 0                0                0   \n",
       "307504      16096.5  ...                 0                0                0   \n",
       "307505      22050.0  ...                 0                0                0   \n",
       "307506      27558.0  ...                 0                0                0   \n",
       "307507      12001.5  ...                 0                0                0   \n",
       "\n",
       "       FLAG_DOCUMENT_21 AMT_REQ_CREDIT_BUREAU_HOUR AMT_REQ_CREDIT_BUREAU_DAY  \\\n",
       "1                     0                        0.0                       0.0   \n",
       "3                     0                        NaN                       NaN   \n",
       "4                     0                        0.0                       0.0   \n",
       "8                     0                        0.0                       0.0   \n",
       "9                     0                        NaN                       NaN   \n",
       "...                 ...                        ...                       ...   \n",
       "307501                0                        NaN                       NaN   \n",
       "307504                0                        NaN                       NaN   \n",
       "307505                0                        0.0                       0.0   \n",
       "307506                0                        NaN                       NaN   \n",
       "307507                0                        NaN                       NaN   \n",
       "\n",
       "        AMT_REQ_CREDIT_BUREAU_WEEK  AMT_REQ_CREDIT_BUREAU_MON  \\\n",
       "1                              0.0                        0.0   \n",
       "3                              NaN                        NaN   \n",
       "4                              0.0                        0.0   \n",
       "8                              0.0                        0.0   \n",
       "9                              NaN                        NaN   \n",
       "...                            ...                        ...   \n",
       "307501                         NaN                        NaN   \n",
       "307504                         NaN                        NaN   \n",
       "307505                         0.0                        2.0   \n",
       "307506                         NaN                        NaN   \n",
       "307507                         NaN                        NaN   \n",
       "\n",
       "        AMT_REQ_CREDIT_BUREAU_QRT  AMT_REQ_CREDIT_BUREAU_YEAR  \n",
       "1                             0.0                         0.0  \n",
       "3                             NaN                         NaN  \n",
       "4                             0.0                         0.0  \n",
       "8                             0.0                         1.0  \n",
       "9                             NaN                         NaN  \n",
       "...                           ...                         ...  \n",
       "307501                        NaN                         NaN  \n",
       "307504                        NaN                         NaN  \n",
       "307505                        0.0                         0.0  \n",
       "307506                        NaN                         NaN  \n",
       "307507                        NaN                         NaN  \n",
       "\n",
       "[139779 rows x 73 columns]"
      ]
     },
     "execution_count": 19,
     "metadata": {},
     "output_type": "execute_result"
    }
   ],
   "source": [
    "null_data"
   ]
  },
  {
   "cell_type": "code",
   "execution_count": 20,
   "metadata": {
    "colab": {
     "base_uri": "https://localhost:8080/"
    },
    "id": "MtgyrfL7_Vkm",
    "outputId": "fa3503ee-ff8f-40a0-8f5d-59dbb139c1e4"
   },
   "outputs": [
    {
     "data": {
      "text/plain": [
       "0.746300    0.005922\n",
       "0.713631    0.005334\n",
       "0.694093    0.005176\n",
       "0.670652    0.004831\n",
       "0.652897    0.004681\n",
       "              ...   \n",
       "0.013948    0.000004\n",
       "0.014148    0.000004\n",
       "0.017506    0.000004\n",
       "0.020455    0.000004\n",
       "0.028275    0.000004\n",
       "Name: EXT_SOURCE_3, Length: 814, dtype: float64"
      ]
     },
     "execution_count": 20,
     "metadata": {},
     "output_type": "execute_result"
    }
   ],
   "source": [
    "data_app['EXT_SOURCE_3'].value_counts(normalize=True)"
   ]
  },
  {
   "cell_type": "code",
   "execution_count": 21,
   "metadata": {
    "id": "ZGAPNE8HBFKl"
   },
   "outputs": [],
   "source": [
    "#This is normalized score form data source 3, we can impute missing values with average value\n",
    "data_app['EXT_SOURCE_3'].fillna(data_app.EXT_SOURCE_3.mean,inplace=True)"
   ]
  },
  {
   "cell_type": "code",
   "execution_count": 22,
   "metadata": {
    "colab": {
     "base_uri": "https://localhost:8080/"
    },
    "id": "vAX7V_kzt8gU",
    "outputId": "61110ddd-0778-4c32-9434-f3287cce8714"
   },
   "outputs": [
    {
     "data": {
      "text/plain": [
       "0.285898    0.002350\n",
       "0.262258    0.001359\n",
       "0.265256    0.001118\n",
       "0.159679    0.001049\n",
       "0.265312    0.000997\n",
       "              ...   \n",
       "0.157007    0.000003\n",
       "0.721955    0.000003\n",
       "0.032513    0.000003\n",
       "0.204329    0.000003\n",
       "0.064909    0.000003\n",
       "Name: EXT_SOURCE_2, Length: 119831, dtype: float64"
      ]
     },
     "execution_count": 22,
     "metadata": {},
     "output_type": "execute_result"
    }
   ],
   "source": [
    "data_app['EXT_SOURCE_2'].value_counts(normalize=True)"
   ]
  },
  {
   "cell_type": "code",
   "execution_count": 23,
   "metadata": {
    "colab": {
     "base_uri": "https://localhost:8080/"
    },
    "id": "jB7lbUsruP1s",
    "outputId": "7ba7c281-605c-4608-8cd0-af331d99d31d"
   },
   "outputs": [
    {
     "data": {
      "text/plain": [
       "96391"
      ]
     },
     "execution_count": 23,
     "metadata": {},
     "output_type": "execute_result"
    }
   ],
   "source": [
    "data_app['OCCUPATION_TYPE'].isnull().sum()"
   ]
  },
  {
   "cell_type": "code",
   "execution_count": 24,
   "metadata": {
    "colab": {
     "base_uri": "https://localhost:8080/"
    },
    "id": "DRLDi_EhvIES",
    "outputId": "b21213f9-d51c-44fa-8a51-a07389b1b8e3"
   },
   "outputs": [
    {
     "data": {
      "text/plain": [
       "Laborers                 55186\n",
       "Sales staff              32102\n",
       "Core staff               27570\n",
       "Managers                 21371\n",
       "Drivers                  18603\n",
       "High skill tech staff    11380\n",
       "Accountants               9813\n",
       "Medicine staff            8537\n",
       "Security staff            6721\n",
       "Cooking staff             5946\n",
       "Cleaning staff            4653\n",
       "Private service staff     2652\n",
       "Low-skill Laborers        2093\n",
       "Waiters/barmen staff      1348\n",
       "Secretaries               1305\n",
       "Realty agents              751\n",
       "HR staff                   563\n",
       "IT staff                   526\n",
       "Name: OCCUPATION_TYPE, dtype: int64"
      ]
     },
     "execution_count": 24,
     "metadata": {},
     "output_type": "execute_result"
    }
   ],
   "source": [
    "data_app['OCCUPATION_TYPE'].value_counts()"
   ]
  },
  {
   "cell_type": "code",
   "execution_count": 25,
   "metadata": {
    "id": "kGQxVxdDt-70"
   },
   "outputs": [],
   "source": [
    "#OCCUPATION_TYPE column has unordered categorical values, we can impute missing values with a value 'Unavailable'\n",
    "data_app['OCCUPATION_TYPE'].fillna('Unavailable',inplace=True)"
   ]
  },
  {
   "cell_type": "code",
   "execution_count": 26,
   "metadata": {
    "colab": {
     "base_uri": "https://localhost:8080/"
    },
    "id": "NqMIoaOr2klj",
    "outputId": "eb05c3d3-a9fb-4909-9593-10d7158ff978"
   },
   "outputs": [
    {
     "data": {
      "text/plain": [
       "2"
      ]
     },
     "execution_count": 26,
     "metadata": {},
     "output_type": "execute_result"
    }
   ],
   "source": [
    "#Lets look at CNT_FAM_MEMBERS column, number of missing values\n",
    "data_app['CNT_FAM_MEMBERS'].isnull().sum()"
   ]
  },
  {
   "cell_type": "code",
   "execution_count": 27,
   "metadata": {
    "id": "NRgwTY52v7ik"
   },
   "outputs": [],
   "source": [
    "#Lets look at CNT_FAM_MEMBERS column, \n",
    "df = data_app['CNT_FAM_MEMBERS'].value_counts().to_frame(name='Number of Families')\n",
    "df['Count of Family Members']= df.index.astype('Int64')\n",
    "df.reset_index(drop=True, inplace=True)"
   ]
  },
  {
   "cell_type": "code",
   "execution_count": 28,
   "metadata": {
    "colab": {
     "base_uri": "https://localhost:8080/",
     "height": 279
    },
    "id": "8PtVg3InzFH4",
    "outputId": "2c9ad90c-787d-420f-ec84-5317622a4690"
   },
   "outputs": [
    {
     "data": {
      "image/png": "[encoded data removed]",
      "text/plain": [
       "<Figure size 432x288 with 1 Axes>"
      ]
     },
     "metadata": {
      "needs_background": "light"
     },
     "output_type": "display_data"
    }
   ],
   "source": [
    "sns.barplot(data=df, x='Count of Family Members', y='Number of Families')\n",
    "plt.show()"
   ]
  },
  {
   "cell_type": "markdown",
   "metadata": {
    "id": "qrUun-q92_R3"
   },
   "source": [
    "It can be seen most of the families 2 family members, hence it is safe to impute missing values with Mode of CNT_FAM_MEMBERS column"
   ]
  },
  {
   "cell_type": "code",
   "execution_count": 29,
   "metadata": {
    "id": "Qh0CYhpx3QIu"
   },
   "outputs": [],
   "source": [
    "data_app['CNT_FAM_MEMBERS'].fillna(data_app.CNT_FAM_MEMBERS.mode,inplace=True)"
   ]
  },
  {
   "cell_type": "code",
   "execution_count": 30,
   "metadata": {
    "colab": {
     "base_uri": "https://localhost:8080/",
     "height": 711
    },
    "id": "gmG2HHw56t7Y",
    "outputId": "e685d60c-5360-4673-c307-8a9d9a44edd8"
   },
   "outputs": [
    {
     "data": {
      "image/png": "[encoded data removed]",
      "text/plain": [
       "<Figure size 1152x720 with 6 Axes>"
      ]
     },
     "metadata": {
      "needs_background": "light"
     },
     "output_type": "display_data"
    }
   ],
   "source": [
    "#Lets see the AMT_REQ_CREDIT_BUREAU_* columns\n",
    "\n",
    "plt.figure(figsize=[16,10],)\n",
    "\n",
    "plt.subplot(2,3,1) \n",
    "tmp_df = data_app.AMT_REQ_CREDIT_BUREAU_DAY.value_counts(normalize=True)*100\n",
    "tmp_df.plot.bar().set(xlabel= 'No. of Days', ylabel='Percent count of records',title='No of Days vs Percent Count of records')\n",
    "\n",
    "plt.subplot(2,3,2) \n",
    "tmp_df1 = data_app.AMT_REQ_CREDIT_BUREAU_WEEK.value_counts(normalize=True)*100\n",
    "tmp_df1.plot.bar().set(xlabel= 'No. of Weeks', ylabel='Percent count of records',title='No of Weeks vs Percent Count of records')\n",
    "\n",
    "plt.subplot(2,3,3) \n",
    "tmp_df2 = data_app.AMT_REQ_CREDIT_BUREAU_MON.value_counts(normalize=True)*100\n",
    "tmp_df2.plot.bar().set(xlabel= 'No. of Months', ylabel='Percent count of records',title='No of Months vs Percent Count of records')\n",
    "\n",
    "plt.subplot(2,3,4) \n",
    "tmp_df3 = data_app.AMT_REQ_CREDIT_BUREAU_QRT.value_counts(normalize=True)*100\n",
    "tmp_df3.plot.bar().set(xlabel= 'No. of Quarters', ylabel='Percent count of records',title='No of Quarters vs Percent Count of records')\n",
    "\n",
    "plt.subplot(2,3,5) \n",
    "tmp_df4 = data_app.AMT_REQ_CREDIT_BUREAU_YEAR.value_counts(normalize=True)*100\n",
    "tmp_df4.plot.bar().set(xlabel= 'No. of Years', ylabel='Percent count of records',title='No of Years vs Percent Count of records')\n",
    "\n",
    "plt.subplot(2,3,6) \n",
    "tmp_df5 = data_app.AMT_REQ_CREDIT_BUREAU_HOUR.value_counts(normalize=True)*100\n",
    "tmp_df5.plot.bar().set(xlabel= 'No. of Hours', ylabel='Percent count of records',title='No of Hours vs Percent Count of records')\n",
    "plt.tight_layout(pad=2.0)\n",
    "plt.show()\n"
   ]
  },
  {
   "cell_type": "markdown",
   "metadata": {
    "id": "PR4-DLg98zAE"
   },
   "source": [
    "As 99% of the values in AMT_REQ_CREDIT_BUREAU_HOUR, AMT_REQ_CREDIT_BUREAU_DAY, AMT_REQ_CREDIT_BUREAU_MON, AMT_REQ_CREDIT_BUREAU_WEEK, AMT_REQ_CREDIT_BUREAU_QRT columns are 0, hence it is safe to impute missing values with 0\n",
    "\n",
    "For AMT_REQ_CREDIT_BUREAU_YEAR column we can impute missing values with the median number of years"
   ]
  },
  {
   "cell_type": "code",
   "execution_count": 31,
   "metadata": {
    "id": "wrktz_A19eG7"
   },
   "outputs": [],
   "source": [
    "data_app.fillna({'AMT_REQ_CREDIT_BUREAU_HOUR':0,\n",
    " 'AMT_REQ_CREDIT_BUREAU_DAY':0,\n",
    " 'AMT_REQ_CREDIT_BUREAU_WEEK':0,\n",
    " 'AMT_REQ_CREDIT_BUREAU_MON':0,\n",
    " 'AMT_REQ_CREDIT_BUREAU_QRT':0,\n",
    " 'AMT_REQ_CREDIT_BUREAU_YEAR':data_app.AMT_REQ_CREDIT_BUREAU_YEAR.median()},inplace=True,)"
   ]
  },
  {
   "cell_type": "markdown",
   "metadata": {
    "id": "8TE6uVQ3DGoC"
   },
   "source": [
    "###AMT_ANNUITY and AMT_GOODS_PRICE columns"
   ]
  },
  {
   "cell_type": "code",
   "execution_count": 32,
   "metadata": {
    "colab": {
     "base_uri": "https://localhost:8080/"
    },
    "id": "I7g9Fc2dCAS-",
    "outputId": "a3103b85-8755-4a3a-d495-c8ea0ea3abb4"
   },
   "outputs": [
    {
     "data": {
      "text/plain": [
       "450000.0     26022\n",
       "225000.0     25282\n",
       "675000.0     24962\n",
       "900000.0     15416\n",
       "270000.0     11428\n",
       "             ...  \n",
       "592452.0         1\n",
       "1130125.5        1\n",
       "362632.5         1\n",
       "498856.5         1\n",
       "1271875.5        1\n",
       "Name: AMT_GOODS_PRICE, Length: 1002, dtype: int64"
      ]
     },
     "execution_count": 32,
     "metadata": {},
     "output_type": "execute_result"
    }
   ],
   "source": [
    "data_app['AMT_GOODS_PRICE'].value_counts()\n",
    "#data_app[['AMT_ANNUITY','AMT_GOODS_PRICE']].value_counts()"
   ]
  },
  {
   "cell_type": "markdown",
   "metadata": {
    "id": "mqw-Hv0WDPm1"
   },
   "source": [
    "##Let's look at Invalid data in the dataset if any"
   ]
  },
  {
   "cell_type": "markdown",
   "metadata": {
    "id": "F3b-sOkZMPEi"
   },
   "source": [
    "##First lets see columns with Object data types\n"
   ]
  },
  {
   "cell_type": "code",
   "execution_count": 33,
   "metadata": {
    "colab": {
     "base_uri": "https://localhost:8080/"
    },
    "id": "PLoe-KJbDOVn",
    "outputId": "69c55c94-5ba8-4a3d-e7be-2936ed8f4fbf"
   },
   "outputs": [
    {
     "name": "stdout",
     "output_type": "stream",
     "text": [
      "<class 'pandas.core.frame.DataFrame'>\n",
      "RangeIndex: 307511 entries, 0 to 307510\n",
      "Data columns (total 73 columns):\n",
      " #   Column                       Non-Null Count   Dtype  \n",
      "---  ------                       --------------   -----  \n",
      " 0   SK_ID_CURR                   307511 non-null  int64  \n",
      " 1   TARGET                       307511 non-null  int64  \n",
      " 2   NAME_CONTRACT_TYPE           307511 non-null  object \n",
      " 3   CODE_GENDER                  307511 non-null  object \n",
      " 4   FLAG_OWN_CAR                 307511 non-null  object \n",
      " 5   FLAG_OWN_REALTY              307511 non-null  object \n",
      " 6   CNT_CHILDREN                 307511 non-null  int64  \n",
      " 7   AMT_INCOME_TOTAL             307511 non-null  float64\n",
      " 8   AMT_CREDIT                   307511 non-null  float64\n",
      " 9   AMT_ANNUITY                  307499 non-null  float64\n",
      " 10  AMT_GOODS_PRICE              307233 non-null  float64\n",
      " 11  NAME_TYPE_SUITE              306219 non-null  object \n",
      " 12  NAME_INCOME_TYPE             307511 non-null  object \n",
      " 13  NAME_EDUCATION_TYPE          307511 non-null  object \n",
      " 14  NAME_FAMILY_STATUS           307511 non-null  object \n",
      " 15  NAME_HOUSING_TYPE            307511 non-null  object \n",
      " 16  REGION_POPULATION_RELATIVE   307511 non-null  float64\n",
      " 17  DAYS_BIRTH                   307511 non-null  int64  \n",
      " 18  DAYS_EMPLOYED                307511 non-null  int64  \n",
      " 19  DAYS_REGISTRATION            307511 non-null  float64\n",
      " 20  DAYS_ID_PUBLISH              307511 non-null  int64  \n",
      " 21  FLAG_MOBIL                   307511 non-null  int64  \n",
      " 22  FLAG_EMP_PHONE               307511 non-null  int64  \n",
      " 23  FLAG_WORK_PHONE              307511 non-null  int64  \n",
      " 24  FLAG_CONT_MOBILE             307511 non-null  int64  \n",
      " 25  FLAG_PHONE                   307511 non-null  int64  \n",
      " 26  FLAG_EMAIL                   307511 non-null  int64  \n",
      " 27  OCCUPATION_TYPE              307511 non-null  object \n",
      " 28  CNT_FAM_MEMBERS              307511 non-null  object \n",
      " 29  REGION_RATING_CLIENT         307511 non-null  int64  \n",
      " 30  REGION_RATING_CLIENT_W_CITY  307511 non-null  int64  \n",
      " 31  WEEKDAY_APPR_PROCESS_START   307511 non-null  object \n",
      " 32  HOUR_APPR_PROCESS_START      307511 non-null  int64  \n",
      " 33  REG_REGION_NOT_LIVE_REGION   307511 non-null  int64  \n",
      " 34  REG_REGION_NOT_WORK_REGION   307511 non-null  int64  \n",
      " 35  LIVE_REGION_NOT_WORK_REGION  307511 non-null  int64  \n",
      " 36  REG_CITY_NOT_LIVE_CITY       307511 non-null  int64  \n",
      " 37  REG_CITY_NOT_WORK_CITY       307511 non-null  int64  \n",
      " 38  LIVE_CITY_NOT_WORK_CITY      307511 non-null  int64  \n",
      " 39  ORGANIZATION_TYPE            307511 non-null  object \n",
      " 40  EXT_SOURCE_2                 306851 non-null  float64\n",
      " 41  EXT_SOURCE_3                 307511 non-null  object \n",
      " 42  OBS_30_CNT_SOCIAL_CIRCLE     306490 non-null  float64\n",
      " 43  DEF_30_CNT_SOCIAL_CIRCLE     306490 non-null  float64\n",
      " 44  OBS_60_CNT_SOCIAL_CIRCLE     306490 non-null  float64\n",
      " 45  DEF_60_CNT_SOCIAL_CIRCLE     306490 non-null  float64\n",
      " 46  DAYS_LAST_PHONE_CHANGE       307510 non-null  float64\n",
      " 47  FLAG_DOCUMENT_2              307511 non-null  int64  \n",
      " 48  FLAG_DOCUMENT_3              307511 non-null  int64  \n",
      " 49  FLAG_DOCUMENT_4              307511 non-null  int64  \n",
      " 50  FLAG_DOCUMENT_5              307511 non-null  int64  \n",
      " 51  FLAG_DOCUMENT_6              307511 non-null  int64  \n",
      " 52  FLAG_DOCUMENT_7              307511 non-null  int64  \n",
      " 53  FLAG_DOCUMENT_8              307511 non-null  int64  \n",
      " 54  FLAG_DOCUMENT_9              307511 non-null  int64  \n",
      " 55  FLAG_DOCUMENT_10             307511 non-null  int64  \n",
      " 56  FLAG_DOCUMENT_11             307511 non-null  int64  \n",
      " 57  FLAG_DOCUMENT_12             307511 non-null  int64  \n",
      " 58  FLAG_DOCUMENT_13             307511 non-null  int64  \n",
      " 59  FLAG_DOCUMENT_14             307511 non-null  int64  \n",
      " 60  FLAG_DOCUMENT_15             307511 non-null  int64  \n",
      " 61  FLAG_DOCUMENT_16             307511 non-null  int64  \n",
      " 62  FLAG_DOCUMENT_17             307511 non-null  int64  \n",
      " 63  FLAG_DOCUMENT_18             307511 non-null  int64  \n",
      " 64  FLAG_DOCUMENT_19             307511 non-null  int64  \n",
      " 65  FLAG_DOCUMENT_20             307511 non-null  int64  \n",
      " 66  FLAG_DOCUMENT_21             307511 non-null  int64  \n",
      " 67  AMT_REQ_CREDIT_BUREAU_HOUR   307511 non-null  float64\n",
      " 68  AMT_REQ_CREDIT_BUREAU_DAY    307511 non-null  float64\n",
      " 69  AMT_REQ_CREDIT_BUREAU_WEEK   307511 non-null  float64\n",
      " 70  AMT_REQ_CREDIT_BUREAU_MON    307511 non-null  float64\n",
      " 71  AMT_REQ_CREDIT_BUREAU_QRT    307511 non-null  float64\n",
      " 72  AMT_REQ_CREDIT_BUREAU_YEAR   307511 non-null  float64\n",
      "dtypes: float64(18), int64(41), object(14)\n",
      "memory usage: 171.3+ MB\n"
     ]
    }
   ],
   "source": [
    "data_app.info(verbose=True)"
   ]
  },
  {
   "cell_type": "code",
   "execution_count": 34,
   "metadata": {
    "colab": {
     "base_uri": "https://localhost:8080/"
    },
    "id": "HllCi-f1Dj75",
    "outputId": "91018758-07ba-4769-d00b-42a53e7fb6ff"
   },
   "outputs": [
    {
     "name": "stderr",
     "output_type": "stream",
     "text": [
      "<ipython-input-34-b169a4618e45>:1: DeprecationWarning: `np.object` is a deprecated alias for the builtin `object`. To silence this warning, use `object` by itself. Doing this will not modify any behavior and is safe. \n",
      "Deprecated in NumPy 1.20; for more details and guidance: https://numpy.org/devdocs/release/1.20.0-notes.html#deprecations\n",
      "  obj_cols = data_app.select_dtypes(np.object ).columns.tolist()\n"
     ]
    },
    {
     "data": {
      "text/plain": [
       "['NAME_CONTRACT_TYPE',\n",
       " 'CODE_GENDER',\n",
       " 'FLAG_OWN_CAR',\n",
       " 'FLAG_OWN_REALTY',\n",
       " 'NAME_TYPE_SUITE',\n",
       " 'NAME_INCOME_TYPE',\n",
       " 'NAME_EDUCATION_TYPE',\n",
       " 'NAME_FAMILY_STATUS',\n",
       " 'NAME_HOUSING_TYPE',\n",
       " 'OCCUPATION_TYPE',\n",
       " 'CNT_FAM_MEMBERS',\n",
       " 'WEEKDAY_APPR_PROCESS_START',\n",
       " 'ORGANIZATION_TYPE',\n",
       " 'EXT_SOURCE_3']"
      ]
     },
     "execution_count": 34,
     "metadata": {},
     "output_type": "execute_result"
    }
   ],
   "source": [
    "obj_cols = data_app.select_dtypes(np.object ).columns.tolist()\n",
    "obj_cols"
   ]
  },
  {
   "cell_type": "code",
   "execution_count": 35,
   "metadata": {
    "colab": {
     "base_uri": "https://localhost:8080/"
    },
    "id": "KdNQ05XyDziY",
    "outputId": "8200914a-a293-40da-ddfc-1b0501c5a178"
   },
   "outputs": [
    {
     "data": {
      "text/plain": [
       "Cash loans         278232\n",
       "Revolving loans     29279\n",
       "Name: NAME_CONTRACT_TYPE, dtype: int64"
      ]
     },
     "execution_count": 35,
     "metadata": {},
     "output_type": "execute_result"
    }
   ],
   "source": [
    "data_app.NAME_CONTRACT_TYPE.value_counts()\n",
    "#No issues with this column"
   ]
  },
  {
   "cell_type": "code",
   "execution_count": 36,
   "metadata": {
    "colab": {
     "base_uri": "https://localhost:8080/"
    },
    "id": "NZU4F6cnEADX",
    "outputId": "36e5ad84-e81d-4c00-c1a1-02972f91239c"
   },
   "outputs": [
    {
     "data": {
      "text/plain": [
       "F      202448\n",
       "M      105059\n",
       "XNA         4\n",
       "Name: CODE_GENDER, dtype: int64"
      ]
     },
     "execution_count": 36,
     "metadata": {},
     "output_type": "execute_result"
    }
   ],
   "source": [
    "data_app.CODE_GENDER.value_counts()"
   ]
  },
  {
   "cell_type": "markdown",
   "metadata": {
    "id": "QlAreZI2EPbg"
   },
   "source": [
    "There are 4 records that do not belong to Male or Female customers, hence we can drop the records respective to these values"
   ]
  },
  {
   "cell_type": "code",
   "execution_count": 37,
   "metadata": {
    "id": "H-CFNxSWEfzN"
   },
   "outputs": [],
   "source": [
    "drop_genders = data_app[data_app.CODE_GENDER ==\"XNA\"].index\n",
    "data_app.drop(drop_genders, inplace=True)"
   ]
  },
  {
   "cell_type": "code",
   "execution_count": 38,
   "metadata": {
    "id": "SFLq8FfXJz1W"
   },
   "outputs": [],
   "source": [
    "#data_app = data_app[~ (data_app.CODE_GENDER ==\"XNA\")]"
   ]
  },
  {
   "cell_type": "code",
   "execution_count": 39,
   "metadata": {
    "colab": {
     "base_uri": "https://localhost:8080/"
    },
    "id": "tNTcy6TGGxz5",
    "outputId": "a96a11d6-63cb-4f92-cd5a-3087788faf4e"
   },
   "outputs": [
    {
     "data": {
      "text/plain": [
       "N    202922\n",
       "Y    104585\n",
       "Name: FLAG_OWN_CAR, dtype: int64"
      ]
     },
     "execution_count": 39,
     "metadata": {},
     "output_type": "execute_result"
    }
   ],
   "source": [
    "data_app.FLAG_OWN_CAR.value_counts()\n",
    "#No issues with this column"
   ]
  },
  {
   "cell_type": "code",
   "execution_count": 40,
   "metadata": {
    "colab": {
     "base_uri": "https://localhost:8080/"
    },
    "id": "NmQ0PWkjHEJy",
    "outputId": "e6196b2c-60ea-4656-87e9-4cdeb98e5a36"
   },
   "outputs": [
    {
     "data": {
      "text/plain": [
       "Y    213308\n",
       "N     94199\n",
       "Name: FLAG_OWN_REALTY, dtype: int64"
      ]
     },
     "execution_count": 40,
     "metadata": {},
     "output_type": "execute_result"
    }
   ],
   "source": [
    "data_app.FLAG_OWN_REALTY.value_counts()\n",
    "#No issues with this column"
   ]
  },
  {
   "cell_type": "code",
   "execution_count": 41,
   "metadata": {
    "colab": {
     "base_uri": "https://localhost:8080/"
    },
    "id": "5wCoG79mHNg-",
    "outputId": "630d86c4-c485-4c42-bf25-26987be5b302"
   },
   "outputs": [
    {
     "data": {
      "text/plain": [
       "Unaccompanied      248523\n",
       "Family              40148\n",
       "Spouse, partner     11370\n",
       "Children             3267\n",
       "Other_B              1770\n",
       "Other_A               866\n",
       "Group of people       271\n",
       "Name: NAME_TYPE_SUITE, dtype: int64"
      ]
     },
     "execution_count": 41,
     "metadata": {},
     "output_type": "execute_result"
    }
   ],
   "source": [
    "data_app.NAME_TYPE_SUITE.value_counts()\n",
    "#No issues with this column"
   ]
  },
  {
   "cell_type": "code",
   "execution_count": 42,
   "metadata": {
    "colab": {
     "base_uri": "https://localhost:8080/"
    },
    "id": "dppnXzU5HdTq",
    "outputId": "7333871a-2f38-47a3-c118-8f7d82736281"
   },
   "outputs": [
    {
     "data": {
      "text/plain": [
       "Business Entity Type 3    67992\n",
       "XNA                       55374\n",
       "Self-employed             38412\n",
       "Other                     16683\n",
       "Medicine                  11192\n",
       "Business Entity Type 2    10553\n",
       "Government                10404\n",
       "School                     8893\n",
       "Trade: type 7              7831\n",
       "Kindergarten               6879\n",
       "Construction               6721\n",
       "Business Entity Type 1     5983\n",
       "Transport: type 4          5398\n",
       "Trade: type 3              3492\n",
       "Industry: type 9           3368\n",
       "Industry: type 3           3277\n",
       "Security                   3247\n",
       "Housing                    2958\n",
       "Industry: type 11          2704\n",
       "Military                   2634\n",
       "Bank                       2507\n",
       "Agriculture                2454\n",
       "Police                     2341\n",
       "Transport: type 2          2204\n",
       "Postal                     2157\n",
       "Security Ministries        1974\n",
       "Trade: type 2              1900\n",
       "Restaurant                 1811\n",
       "Services                   1575\n",
       "University                 1327\n",
       "Industry: type 7           1307\n",
       "Transport: type 3          1187\n",
       "Industry: type 1           1039\n",
       "Hotel                       966\n",
       "Electricity                 950\n",
       "Industry: type 4            877\n",
       "Trade: type 6               631\n",
       "Industry: type 5            599\n",
       "Insurance                   597\n",
       "Telecom                     577\n",
       "Emergency                   560\n",
       "Industry: type 2            458\n",
       "Advertising                 429\n",
       "Realtor                     396\n",
       "Culture                     379\n",
       "Industry: type 12           369\n",
       "Trade: type 1               348\n",
       "Mobile                      317\n",
       "Legal Services              305\n",
       "Cleaning                    260\n",
       "Transport: type 1           201\n",
       "Industry: type 6            112\n",
       "Industry: type 10           109\n",
       "Religion                     85\n",
       "Industry: type 13            67\n",
       "Trade: type 4                64\n",
       "Trade: type 5                49\n",
       "Industry: type 8             24\n",
       "Name: ORGANIZATION_TYPE, dtype: int64"
      ]
     },
     "execution_count": 42,
     "metadata": {},
     "output_type": "execute_result"
    }
   ],
   "source": [
    "data_app.ORGANIZATION_TYPE.value_counts()\n",
    "#No issues with this column"
   ]
  },
  {
   "cell_type": "markdown",
   "metadata": {
    "id": "DVzHEe_WHsNj"
   },
   "source": [
    "There are 55374 records where there is no information about the Organisation Type, we can keep it as-is."
   ]
  },
  {
   "cell_type": "code",
   "execution_count": 43,
   "metadata": {
    "colab": {
     "base_uri": "https://localhost:8080/"
    },
    "id": "mCYadK7qLmdj",
    "outputId": "dd02c564-42d1-42e1-a5a8-ac47f9e45d14"
   },
   "outputs": [
    {
     "data": {
      "text/plain": [
       "House / apartment      272865\n",
       "With parents            14840\n",
       "Municipal apartment     11182\n",
       "Rented apartment         4881\n",
       "Office apartment         2617\n",
       "Co-op apartment          1122\n",
       "Name: NAME_HOUSING_TYPE, dtype: int64"
      ]
     },
     "execution_count": 43,
     "metadata": {},
     "output_type": "execute_result"
    }
   ],
   "source": [
    "data_app.NAME_HOUSING_TYPE.value_counts()\n",
    "#No issues with this column"
   ]
  },
  {
   "cell_type": "markdown",
   "metadata": {
    "id": "_6PLd30mMZqo"
   },
   "source": [
    "##Now lets look at invalid data in numeric columns "
   ]
  },
  {
   "cell_type": "code",
   "execution_count": 44,
   "metadata": {
    "colab": {
     "base_uri": "https://localhost:8080/",
     "height": 439
    },
    "id": "t_s3alszMY-o",
    "outputId": "7892708f-a0ae-4daa-e0f4-1c826b7c99a4"
   },
   "outputs": [
    {
     "data": {
      "text/html": [
       "<div>\n",
       "<style scoped>\n",
       "    .dataframe tbody tr th:only-of-type {\n",
       "        vertical-align: middle;\n",
       "    }\n",
       "\n",
       "    .dataframe tbody tr th {\n",
       "        vertical-align: top;\n",
       "    }\n",
       "\n",
       "    .dataframe thead th {\n",
       "        text-align: right;\n",
       "    }\n",
       "</style>\n",
       "<table border=\"1\" class=\"dataframe\">\n",
       "  <thead>\n",
       "    <tr style=\"text-align: right;\">\n",
       "      <th></th>\n",
       "      <th>SK_ID_CURR</th>\n",
       "      <th>TARGET</th>\n",
       "      <th>CNT_CHILDREN</th>\n",
       "      <th>DAYS_BIRTH</th>\n",
       "      <th>DAYS_EMPLOYED</th>\n",
       "      <th>DAYS_ID_PUBLISH</th>\n",
       "      <th>FLAG_MOBIL</th>\n",
       "      <th>FLAG_EMP_PHONE</th>\n",
       "      <th>FLAG_WORK_PHONE</th>\n",
       "      <th>FLAG_CONT_MOBILE</th>\n",
       "      <th>...</th>\n",
       "      <th>FLAG_DOCUMENT_12</th>\n",
       "      <th>FLAG_DOCUMENT_13</th>\n",
       "      <th>FLAG_DOCUMENT_14</th>\n",
       "      <th>FLAG_DOCUMENT_15</th>\n",
       "      <th>FLAG_DOCUMENT_16</th>\n",
       "      <th>FLAG_DOCUMENT_17</th>\n",
       "      <th>FLAG_DOCUMENT_18</th>\n",
       "      <th>FLAG_DOCUMENT_19</th>\n",
       "      <th>FLAG_DOCUMENT_20</th>\n",
       "      <th>FLAG_DOCUMENT_21</th>\n",
       "    </tr>\n",
       "  </thead>\n",
       "  <tbody>\n",
       "    <tr>\n",
       "      <th>0</th>\n",
       "      <td>100002</td>\n",
       "      <td>1</td>\n",
       "      <td>0</td>\n",
       "      <td>-9461</td>\n",
       "      <td>-637</td>\n",
       "      <td>-2120</td>\n",
       "      <td>1</td>\n",
       "      <td>1</td>\n",
       "      <td>0</td>\n",
       "      <td>1</td>\n",
       "      <td>...</td>\n",
       "      <td>0</td>\n",
       "      <td>0</td>\n",
       "      <td>0</td>\n",
       "      <td>0</td>\n",
       "      <td>0</td>\n",
       "      <td>0</td>\n",
       "      <td>0</td>\n",
       "      <td>0</td>\n",
       "      <td>0</td>\n",
       "      <td>0</td>\n",
       "    </tr>\n",
       "    <tr>\n",
       "      <th>1</th>\n",
       "      <td>100003</td>\n",
       "      <td>0</td>\n",
       "      <td>0</td>\n",
       "      <td>-16765</td>\n",
       "      <td>-1188</td>\n",
       "      <td>-291</td>\n",
       "      <td>1</td>\n",
       "      <td>1</td>\n",
       "      <td>0</td>\n",
       "      <td>1</td>\n",
       "      <td>...</td>\n",
       "      <td>0</td>\n",
       "      <td>0</td>\n",
       "      <td>0</td>\n",
       "      <td>0</td>\n",
       "      <td>0</td>\n",
       "      <td>0</td>\n",
       "      <td>0</td>\n",
       "      <td>0</td>\n",
       "      <td>0</td>\n",
       "      <td>0</td>\n",
       "    </tr>\n",
       "    <tr>\n",
       "      <th>2</th>\n",
       "      <td>100004</td>\n",
       "      <td>0</td>\n",
       "      <td>0</td>\n",
       "      <td>-19046</td>\n",
       "      <td>-225</td>\n",
       "      <td>-2531</td>\n",
       "      <td>1</td>\n",
       "      <td>1</td>\n",
       "      <td>1</td>\n",
       "      <td>1</td>\n",
       "      <td>...</td>\n",
       "      <td>0</td>\n",
       "      <td>0</td>\n",
       "      <td>0</td>\n",
       "      <td>0</td>\n",
       "      <td>0</td>\n",
       "      <td>0</td>\n",
       "      <td>0</td>\n",
       "      <td>0</td>\n",
       "      <td>0</td>\n",
       "      <td>0</td>\n",
       "    </tr>\n",
       "    <tr>\n",
       "      <th>3</th>\n",
       "      <td>100006</td>\n",
       "      <td>0</td>\n",
       "      <td>0</td>\n",
       "      <td>-19005</td>\n",
       "      <td>-3039</td>\n",
       "      <td>-2437</td>\n",
       "      <td>1</td>\n",
       "      <td>1</td>\n",
       "      <td>0</td>\n",
       "      <td>1</td>\n",
       "      <td>...</td>\n",
       "      <td>0</td>\n",
       "      <td>0</td>\n",
       "      <td>0</td>\n",
       "      <td>0</td>\n",
       "      <td>0</td>\n",
       "      <td>0</td>\n",
       "      <td>0</td>\n",
       "      <td>0</td>\n",
       "      <td>0</td>\n",
       "      <td>0</td>\n",
       "    </tr>\n",
       "    <tr>\n",
       "      <th>4</th>\n",
       "      <td>100007</td>\n",
       "      <td>0</td>\n",
       "      <td>0</td>\n",
       "      <td>-19932</td>\n",
       "      <td>-3038</td>\n",
       "      <td>-3458</td>\n",
       "      <td>1</td>\n",
       "      <td>1</td>\n",
       "      <td>0</td>\n",
       "      <td>1</td>\n",
       "      <td>...</td>\n",
       "      <td>0</td>\n",
       "      <td>0</td>\n",
       "      <td>0</td>\n",
       "      <td>0</td>\n",
       "      <td>0</td>\n",
       "      <td>0</td>\n",
       "      <td>0</td>\n",
       "      <td>0</td>\n",
       "      <td>0</td>\n",
       "      <td>0</td>\n",
       "    </tr>\n",
       "    <tr>\n",
       "      <th>...</th>\n",
       "      <td>...</td>\n",
       "      <td>...</td>\n",
       "      <td>...</td>\n",
       "      <td>...</td>\n",
       "      <td>...</td>\n",
       "      <td>...</td>\n",
       "      <td>...</td>\n",
       "      <td>...</td>\n",
       "      <td>...</td>\n",
       "      <td>...</td>\n",
       "      <td>...</td>\n",
       "      <td>...</td>\n",
       "      <td>...</td>\n",
       "      <td>...</td>\n",
       "      <td>...</td>\n",
       "      <td>...</td>\n",
       "      <td>...</td>\n",
       "      <td>...</td>\n",
       "      <td>...</td>\n",
       "      <td>...</td>\n",
       "      <td>...</td>\n",
       "    </tr>\n",
       "    <tr>\n",
       "      <th>307506</th>\n",
       "      <td>456251</td>\n",
       "      <td>0</td>\n",
       "      <td>0</td>\n",
       "      <td>-9327</td>\n",
       "      <td>-236</td>\n",
       "      <td>-1982</td>\n",
       "      <td>1</td>\n",
       "      <td>1</td>\n",
       "      <td>0</td>\n",
       "      <td>1</td>\n",
       "      <td>...</td>\n",
       "      <td>0</td>\n",
       "      <td>0</td>\n",
       "      <td>0</td>\n",
       "      <td>0</td>\n",
       "      <td>0</td>\n",
       "      <td>0</td>\n",
       "      <td>0</td>\n",
       "      <td>0</td>\n",
       "      <td>0</td>\n",
       "      <td>0</td>\n",
       "    </tr>\n",
       "    <tr>\n",
       "      <th>307507</th>\n",
       "      <td>456252</td>\n",
       "      <td>0</td>\n",
       "      <td>0</td>\n",
       "      <td>-20775</td>\n",
       "      <td>365243</td>\n",
       "      <td>-4090</td>\n",
       "      <td>1</td>\n",
       "      <td>0</td>\n",
       "      <td>0</td>\n",
       "      <td>1</td>\n",
       "      <td>...</td>\n",
       "      <td>0</td>\n",
       "      <td>0</td>\n",
       "      <td>0</td>\n",
       "      <td>0</td>\n",
       "      <td>0</td>\n",
       "      <td>0</td>\n",
       "      <td>0</td>\n",
       "      <td>0</td>\n",
       "      <td>0</td>\n",
       "      <td>0</td>\n",
       "    </tr>\n",
       "    <tr>\n",
       "      <th>307508</th>\n",
       "      <td>456253</td>\n",
       "      <td>0</td>\n",
       "      <td>0</td>\n",
       "      <td>-14966</td>\n",
       "      <td>-7921</td>\n",
       "      <td>-5150</td>\n",
       "      <td>1</td>\n",
       "      <td>1</td>\n",
       "      <td>0</td>\n",
       "      <td>1</td>\n",
       "      <td>...</td>\n",
       "      <td>0</td>\n",
       "      <td>0</td>\n",
       "      <td>0</td>\n",
       "      <td>0</td>\n",
       "      <td>0</td>\n",
       "      <td>0</td>\n",
       "      <td>0</td>\n",
       "      <td>0</td>\n",
       "      <td>0</td>\n",
       "      <td>0</td>\n",
       "    </tr>\n",
       "    <tr>\n",
       "      <th>307509</th>\n",
       "      <td>456254</td>\n",
       "      <td>1</td>\n",
       "      <td>0</td>\n",
       "      <td>-11961</td>\n",
       "      <td>-4786</td>\n",
       "      <td>-931</td>\n",
       "      <td>1</td>\n",
       "      <td>1</td>\n",
       "      <td>0</td>\n",
       "      <td>1</td>\n",
       "      <td>...</td>\n",
       "      <td>0</td>\n",
       "      <td>0</td>\n",
       "      <td>0</td>\n",
       "      <td>0</td>\n",
       "      <td>0</td>\n",
       "      <td>0</td>\n",
       "      <td>0</td>\n",
       "      <td>0</td>\n",
       "      <td>0</td>\n",
       "      <td>0</td>\n",
       "    </tr>\n",
       "    <tr>\n",
       "      <th>307510</th>\n",
       "      <td>456255</td>\n",
       "      <td>0</td>\n",
       "      <td>0</td>\n",
       "      <td>-16856</td>\n",
       "      <td>-1262</td>\n",
       "      <td>-410</td>\n",
       "      <td>1</td>\n",
       "      <td>1</td>\n",
       "      <td>1</td>\n",
       "      <td>1</td>\n",
       "      <td>...</td>\n",
       "      <td>0</td>\n",
       "      <td>0</td>\n",
       "      <td>0</td>\n",
       "      <td>0</td>\n",
       "      <td>0</td>\n",
       "      <td>0</td>\n",
       "      <td>0</td>\n",
       "      <td>0</td>\n",
       "      <td>0</td>\n",
       "      <td>0</td>\n",
       "    </tr>\n",
       "  </tbody>\n",
       "</table>\n",
       "<p>307507 rows × 41 columns</p>\n",
       "</div>"
      ],
      "text/plain": [
       "        SK_ID_CURR  TARGET  CNT_CHILDREN  DAYS_BIRTH  DAYS_EMPLOYED  \\\n",
       "0           100002       1             0       -9461           -637   \n",
       "1           100003       0             0      -16765          -1188   \n",
       "2           100004       0             0      -19046           -225   \n",
       "3           100006       0             0      -19005          -3039   \n",
       "4           100007       0             0      -19932          -3038   \n",
       "...            ...     ...           ...         ...            ...   \n",
       "307506      456251       0             0       -9327           -236   \n",
       "307507      456252       0             0      -20775         365243   \n",
       "307508      456253       0             0      -14966          -7921   \n",
       "307509      456254       1             0      -11961          -4786   \n",
       "307510      456255       0             0      -16856          -1262   \n",
       "\n",
       "        DAYS_ID_PUBLISH  FLAG_MOBIL  FLAG_EMP_PHONE  FLAG_WORK_PHONE  \\\n",
       "0                 -2120           1               1                0   \n",
       "1                  -291           1               1                0   \n",
       "2                 -2531           1               1                1   \n",
       "3                 -2437           1               1                0   \n",
       "4                 -3458           1               1                0   \n",
       "...                 ...         ...             ...              ...   \n",
       "307506            -1982           1               1                0   \n",
       "307507            -4090           1               0                0   \n",
       "307508            -5150           1               1                0   \n",
       "307509             -931           1               1                0   \n",
       "307510             -410           1               1                1   \n",
       "\n",
       "        FLAG_CONT_MOBILE  ...  FLAG_DOCUMENT_12  FLAG_DOCUMENT_13  \\\n",
       "0                      1  ...                 0                 0   \n",
       "1                      1  ...                 0                 0   \n",
       "2                      1  ...                 0                 0   \n",
       "3                      1  ...                 0                 0   \n",
       "4                      1  ...                 0                 0   \n",
       "...                  ...  ...               ...               ...   \n",
       "307506                 1  ...                 0                 0   \n",
       "307507                 1  ...                 0                 0   \n",
       "307508                 1  ...                 0                 0   \n",
       "307509                 1  ...                 0                 0   \n",
       "307510                 1  ...                 0                 0   \n",
       "\n",
       "        FLAG_DOCUMENT_14  FLAG_DOCUMENT_15  FLAG_DOCUMENT_16  \\\n",
       "0                      0                 0                 0   \n",
       "1                      0                 0                 0   \n",
       "2                      0                 0                 0   \n",
       "3                      0                 0                 0   \n",
       "4                      0                 0                 0   \n",
       "...                  ...               ...               ...   \n",
       "307506                 0                 0                 0   \n",
       "307507                 0                 0                 0   \n",
       "307508                 0                 0                 0   \n",
       "307509                 0                 0                 0   \n",
       "307510                 0                 0                 0   \n",
       "\n",
       "        FLAG_DOCUMENT_17  FLAG_DOCUMENT_18  FLAG_DOCUMENT_19  \\\n",
       "0                      0                 0                 0   \n",
       "1                      0                 0                 0   \n",
       "2                      0                 0                 0   \n",
       "3                      0                 0                 0   \n",
       "4                      0                 0                 0   \n",
       "...                  ...               ...               ...   \n",
       "307506                 0                 0                 0   \n",
       "307507                 0                 0                 0   \n",
       "307508                 0                 0                 0   \n",
       "307509                 0                 0                 0   \n",
       "307510                 0                 0                 0   \n",
       "\n",
       "        FLAG_DOCUMENT_20  FLAG_DOCUMENT_21  \n",
       "0                      0                 0  \n",
       "1                      0                 0  \n",
       "2                      0                 0  \n",
       "3                      0                 0  \n",
       "4                      0                 0  \n",
       "...                  ...               ...  \n",
       "307506                 0                 0  \n",
       "307507                 0                 0  \n",
       "307508                 0                 0  \n",
       "307509                 0                 0  \n",
       "307510                 0                 0  \n",
       "\n",
       "[307507 rows x 41 columns]"
      ]
     },
     "execution_count": 44,
     "metadata": {},
     "output_type": "execute_result"
    }
   ],
   "source": [
    "int_cols = data_app.select_dtypes(np.int64).columns.tolist()\n",
    "data_app[int_cols]"
   ]
  },
  {
   "cell_type": "markdown",
   "metadata": {
    "id": "txy3GylJNSEX"
   },
   "source": [
    "Since there are Days_* columns with the duration data till the loan application was made, as we do not have age data of the customer we can calculate the same from DAYS_BIRTH"
   ]
  },
  {
   "cell_type": "code",
   "execution_count": 45,
   "metadata": {
    "id": "djgh-fXpN-HK"
   },
   "outputs": [],
   "source": [
    "data_app['Age_Years'] = data_app.DAYS_BIRTH.apply(lambda x: int(np.floor(abs(x)/365)))"
   ]
  },
  {
   "cell_type": "code",
   "execution_count": 46,
   "metadata": {
    "colab": {
     "base_uri": "https://localhost:8080/"
    },
    "id": "Pn2dTIl7O84X",
    "outputId": "9b6d208a-56e9-4561-ed0b-f361d8a19e89"
   },
   "outputs": [
    {
     "data": {
      "text/plain": [
       "0         25\n",
       "1         45\n",
       "2         52\n",
       "3         52\n",
       "4         54\n",
       "          ..\n",
       "307506    25\n",
       "307507    56\n",
       "307508    41\n",
       "307509    32\n",
       "307510    46\n",
       "Name: Age_Years, Length: 307507, dtype: int64"
      ]
     },
     "execution_count": 46,
     "metadata": {},
     "output_type": "execute_result"
    }
   ],
   "source": [
    "data_app.Age_Years"
   ]
  },
  {
   "cell_type": "code",
   "execution_count": 47,
   "metadata": {
    "colab": {
     "base_uri": "https://localhost:8080/",
     "height": 439
    },
    "id": "SDHAmNbCPPXF",
    "outputId": "6c5b07dd-29bc-460d-9f3d-01258ac32722"
   },
   "outputs": [
    {
     "data": {
      "text/html": [
       "<div>\n",
       "<style scoped>\n",
       "    .dataframe tbody tr th:only-of-type {\n",
       "        vertical-align: middle;\n",
       "    }\n",
       "\n",
       "    .dataframe tbody tr th {\n",
       "        vertical-align: top;\n",
       "    }\n",
       "\n",
       "    .dataframe thead th {\n",
       "        text-align: right;\n",
       "    }\n",
       "</style>\n",
       "<table border=\"1\" class=\"dataframe\">\n",
       "  <thead>\n",
       "    <tr style=\"text-align: right;\">\n",
       "      <th></th>\n",
       "      <th>AMT_INCOME_TOTAL</th>\n",
       "      <th>AMT_CREDIT</th>\n",
       "      <th>AMT_ANNUITY</th>\n",
       "      <th>AMT_GOODS_PRICE</th>\n",
       "      <th>REGION_POPULATION_RELATIVE</th>\n",
       "      <th>DAYS_REGISTRATION</th>\n",
       "      <th>EXT_SOURCE_2</th>\n",
       "      <th>OBS_30_CNT_SOCIAL_CIRCLE</th>\n",
       "      <th>DEF_30_CNT_SOCIAL_CIRCLE</th>\n",
       "      <th>OBS_60_CNT_SOCIAL_CIRCLE</th>\n",
       "      <th>DEF_60_CNT_SOCIAL_CIRCLE</th>\n",
       "      <th>DAYS_LAST_PHONE_CHANGE</th>\n",
       "      <th>AMT_REQ_CREDIT_BUREAU_HOUR</th>\n",
       "      <th>AMT_REQ_CREDIT_BUREAU_DAY</th>\n",
       "      <th>AMT_REQ_CREDIT_BUREAU_WEEK</th>\n",
       "      <th>AMT_REQ_CREDIT_BUREAU_MON</th>\n",
       "      <th>AMT_REQ_CREDIT_BUREAU_QRT</th>\n",
       "      <th>AMT_REQ_CREDIT_BUREAU_YEAR</th>\n",
       "    </tr>\n",
       "  </thead>\n",
       "  <tbody>\n",
       "    <tr>\n",
       "      <th>0</th>\n",
       "      <td>202500.0</td>\n",
       "      <td>406597.5</td>\n",
       "      <td>24700.5</td>\n",
       "      <td>351000.0</td>\n",
       "      <td>0.018801</td>\n",
       "      <td>-3648.0</td>\n",
       "      <td>0.262949</td>\n",
       "      <td>2.0</td>\n",
       "      <td>2.0</td>\n",
       "      <td>2.0</td>\n",
       "      <td>2.0</td>\n",
       "      <td>-1134.0</td>\n",
       "      <td>0.0</td>\n",
       "      <td>0.0</td>\n",
       "      <td>0.0</td>\n",
       "      <td>0.0</td>\n",
       "      <td>0.0</td>\n",
       "      <td>1.0</td>\n",
       "    </tr>\n",
       "    <tr>\n",
       "      <th>1</th>\n",
       "      <td>270000.0</td>\n",
       "      <td>1293502.5</td>\n",
       "      <td>35698.5</td>\n",
       "      <td>1129500.0</td>\n",
       "      <td>0.003541</td>\n",
       "      <td>-1186.0</td>\n",
       "      <td>0.622246</td>\n",
       "      <td>1.0</td>\n",
       "      <td>0.0</td>\n",
       "      <td>1.0</td>\n",
       "      <td>0.0</td>\n",
       "      <td>-828.0</td>\n",
       "      <td>0.0</td>\n",
       "      <td>0.0</td>\n",
       "      <td>0.0</td>\n",
       "      <td>0.0</td>\n",
       "      <td>0.0</td>\n",
       "      <td>0.0</td>\n",
       "    </tr>\n",
       "    <tr>\n",
       "      <th>2</th>\n",
       "      <td>67500.0</td>\n",
       "      <td>135000.0</td>\n",
       "      <td>6750.0</td>\n",
       "      <td>135000.0</td>\n",
       "      <td>0.010032</td>\n",
       "      <td>-4260.0</td>\n",
       "      <td>0.555912</td>\n",
       "      <td>0.0</td>\n",
       "      <td>0.0</td>\n",
       "      <td>0.0</td>\n",
       "      <td>0.0</td>\n",
       "      <td>-815.0</td>\n",
       "      <td>0.0</td>\n",
       "      <td>0.0</td>\n",
       "      <td>0.0</td>\n",
       "      <td>0.0</td>\n",
       "      <td>0.0</td>\n",
       "      <td>0.0</td>\n",
       "    </tr>\n",
       "    <tr>\n",
       "      <th>3</th>\n",
       "      <td>135000.0</td>\n",
       "      <td>312682.5</td>\n",
       "      <td>29686.5</td>\n",
       "      <td>297000.0</td>\n",
       "      <td>0.008019</td>\n",
       "      <td>-9833.0</td>\n",
       "      <td>0.650442</td>\n",
       "      <td>2.0</td>\n",
       "      <td>0.0</td>\n",
       "      <td>2.0</td>\n",
       "      <td>0.0</td>\n",
       "      <td>-617.0</td>\n",
       "      <td>0.0</td>\n",
       "      <td>0.0</td>\n",
       "      <td>0.0</td>\n",
       "      <td>0.0</td>\n",
       "      <td>0.0</td>\n",
       "      <td>1.0</td>\n",
       "    </tr>\n",
       "    <tr>\n",
       "      <th>4</th>\n",
       "      <td>121500.0</td>\n",
       "      <td>513000.0</td>\n",
       "      <td>21865.5</td>\n",
       "      <td>513000.0</td>\n",
       "      <td>0.028663</td>\n",
       "      <td>-4311.0</td>\n",
       "      <td>0.322738</td>\n",
       "      <td>0.0</td>\n",
       "      <td>0.0</td>\n",
       "      <td>0.0</td>\n",
       "      <td>0.0</td>\n",
       "      <td>-1106.0</td>\n",
       "      <td>0.0</td>\n",
       "      <td>0.0</td>\n",
       "      <td>0.0</td>\n",
       "      <td>0.0</td>\n",
       "      <td>0.0</td>\n",
       "      <td>0.0</td>\n",
       "    </tr>\n",
       "    <tr>\n",
       "      <th>...</th>\n",
       "      <td>...</td>\n",
       "      <td>...</td>\n",
       "      <td>...</td>\n",
       "      <td>...</td>\n",
       "      <td>...</td>\n",
       "      <td>...</td>\n",
       "      <td>...</td>\n",
       "      <td>...</td>\n",
       "      <td>...</td>\n",
       "      <td>...</td>\n",
       "      <td>...</td>\n",
       "      <td>...</td>\n",
       "      <td>...</td>\n",
       "      <td>...</td>\n",
       "      <td>...</td>\n",
       "      <td>...</td>\n",
       "      <td>...</td>\n",
       "      <td>...</td>\n",
       "    </tr>\n",
       "    <tr>\n",
       "      <th>307506</th>\n",
       "      <td>157500.0</td>\n",
       "      <td>254700.0</td>\n",
       "      <td>27558.0</td>\n",
       "      <td>225000.0</td>\n",
       "      <td>0.032561</td>\n",
       "      <td>-8456.0</td>\n",
       "      <td>0.681632</td>\n",
       "      <td>0.0</td>\n",
       "      <td>0.0</td>\n",
       "      <td>0.0</td>\n",
       "      <td>0.0</td>\n",
       "      <td>-273.0</td>\n",
       "      <td>0.0</td>\n",
       "      <td>0.0</td>\n",
       "      <td>0.0</td>\n",
       "      <td>0.0</td>\n",
       "      <td>0.0</td>\n",
       "      <td>1.0</td>\n",
       "    </tr>\n",
       "    <tr>\n",
       "      <th>307507</th>\n",
       "      <td>72000.0</td>\n",
       "      <td>269550.0</td>\n",
       "      <td>12001.5</td>\n",
       "      <td>225000.0</td>\n",
       "      <td>0.025164</td>\n",
       "      <td>-4388.0</td>\n",
       "      <td>0.115992</td>\n",
       "      <td>0.0</td>\n",
       "      <td>0.0</td>\n",
       "      <td>0.0</td>\n",
       "      <td>0.0</td>\n",
       "      <td>0.0</td>\n",
       "      <td>0.0</td>\n",
       "      <td>0.0</td>\n",
       "      <td>0.0</td>\n",
       "      <td>0.0</td>\n",
       "      <td>0.0</td>\n",
       "      <td>1.0</td>\n",
       "    </tr>\n",
       "    <tr>\n",
       "      <th>307508</th>\n",
       "      <td>153000.0</td>\n",
       "      <td>677664.0</td>\n",
       "      <td>29979.0</td>\n",
       "      <td>585000.0</td>\n",
       "      <td>0.005002</td>\n",
       "      <td>-6737.0</td>\n",
       "      <td>0.535722</td>\n",
       "      <td>6.0</td>\n",
       "      <td>0.0</td>\n",
       "      <td>6.0</td>\n",
       "      <td>0.0</td>\n",
       "      <td>-1909.0</td>\n",
       "      <td>1.0</td>\n",
       "      <td>0.0</td>\n",
       "      <td>0.0</td>\n",
       "      <td>1.0</td>\n",
       "      <td>0.0</td>\n",
       "      <td>1.0</td>\n",
       "    </tr>\n",
       "    <tr>\n",
       "      <th>307509</th>\n",
       "      <td>171000.0</td>\n",
       "      <td>370107.0</td>\n",
       "      <td>20205.0</td>\n",
       "      <td>319500.0</td>\n",
       "      <td>0.005313</td>\n",
       "      <td>-2562.0</td>\n",
       "      <td>0.514163</td>\n",
       "      <td>0.0</td>\n",
       "      <td>0.0</td>\n",
       "      <td>0.0</td>\n",
       "      <td>0.0</td>\n",
       "      <td>-322.0</td>\n",
       "      <td>0.0</td>\n",
       "      <td>0.0</td>\n",
       "      <td>0.0</td>\n",
       "      <td>0.0</td>\n",
       "      <td>0.0</td>\n",
       "      <td>0.0</td>\n",
       "    </tr>\n",
       "    <tr>\n",
       "      <th>307510</th>\n",
       "      <td>157500.0</td>\n",
       "      <td>675000.0</td>\n",
       "      <td>49117.5</td>\n",
       "      <td>675000.0</td>\n",
       "      <td>0.046220</td>\n",
       "      <td>-5128.0</td>\n",
       "      <td>0.708569</td>\n",
       "      <td>0.0</td>\n",
       "      <td>0.0</td>\n",
       "      <td>0.0</td>\n",
       "      <td>0.0</td>\n",
       "      <td>-787.0</td>\n",
       "      <td>0.0</td>\n",
       "      <td>0.0</td>\n",
       "      <td>0.0</td>\n",
       "      <td>2.0</td>\n",
       "      <td>0.0</td>\n",
       "      <td>1.0</td>\n",
       "    </tr>\n",
       "  </tbody>\n",
       "</table>\n",
       "<p>307507 rows × 18 columns</p>\n",
       "</div>"
      ],
      "text/plain": [
       "        AMT_INCOME_TOTAL  AMT_CREDIT  AMT_ANNUITY  AMT_GOODS_PRICE  \\\n",
       "0               202500.0    406597.5      24700.5         351000.0   \n",
       "1               270000.0   1293502.5      35698.5        1129500.0   \n",
       "2                67500.0    135000.0       6750.0         135000.0   \n",
       "3               135000.0    312682.5      29686.5         297000.0   \n",
       "4               121500.0    513000.0      21865.5         513000.0   \n",
       "...                  ...         ...          ...              ...   \n",
       "307506          157500.0    254700.0      27558.0         225000.0   \n",
       "307507           72000.0    269550.0      12001.5         225000.0   \n",
       "307508          153000.0    677664.0      29979.0         585000.0   \n",
       "307509          171000.0    370107.0      20205.0         319500.0   \n",
       "307510          157500.0    675000.0      49117.5         675000.0   \n",
       "\n",
       "        REGION_POPULATION_RELATIVE  DAYS_REGISTRATION  EXT_SOURCE_2  \\\n",
       "0                         0.018801            -3648.0      0.262949   \n",
       "1                         0.003541            -1186.0      0.622246   \n",
       "2                         0.010032            -4260.0      0.555912   \n",
       "3                         0.008019            -9833.0      0.650442   \n",
       "4                         0.028663            -4311.0      0.322738   \n",
       "...                            ...                ...           ...   \n",
       "307506                    0.032561            -8456.0      0.681632   \n",
       "307507                    0.025164            -4388.0      0.115992   \n",
       "307508                    0.005002            -6737.0      0.535722   \n",
       "307509                    0.005313            -2562.0      0.514163   \n",
       "307510                    0.046220            -5128.0      0.708569   \n",
       "\n",
       "        OBS_30_CNT_SOCIAL_CIRCLE  DEF_30_CNT_SOCIAL_CIRCLE  \\\n",
       "0                            2.0                       2.0   \n",
       "1                            1.0                       0.0   \n",
       "2                            0.0                       0.0   \n",
       "3                            2.0                       0.0   \n",
       "4                            0.0                       0.0   \n",
       "...                          ...                       ...   \n",
       "307506                       0.0                       0.0   \n",
       "307507                       0.0                       0.0   \n",
       "307508                       6.0                       0.0   \n",
       "307509                       0.0                       0.0   \n",
       "307510                       0.0                       0.0   \n",
       "\n",
       "        OBS_60_CNT_SOCIAL_CIRCLE  DEF_60_CNT_SOCIAL_CIRCLE  \\\n",
       "0                            2.0                       2.0   \n",
       "1                            1.0                       0.0   \n",
       "2                            0.0                       0.0   \n",
       "3                            2.0                       0.0   \n",
       "4                            0.0                       0.0   \n",
       "...                          ...                       ...   \n",
       "307506                       0.0                       0.0   \n",
       "307507                       0.0                       0.0   \n",
       "307508                       6.0                       0.0   \n",
       "307509                       0.0                       0.0   \n",
       "307510                       0.0                       0.0   \n",
       "\n",
       "        DAYS_LAST_PHONE_CHANGE  AMT_REQ_CREDIT_BUREAU_HOUR  \\\n",
       "0                      -1134.0                         0.0   \n",
       "1                       -828.0                         0.0   \n",
       "2                       -815.0                         0.0   \n",
       "3                       -617.0                         0.0   \n",
       "4                      -1106.0                         0.0   \n",
       "...                        ...                         ...   \n",
       "307506                  -273.0                         0.0   \n",
       "307507                     0.0                         0.0   \n",
       "307508                 -1909.0                         1.0   \n",
       "307509                  -322.0                         0.0   \n",
       "307510                  -787.0                         0.0   \n",
       "\n",
       "        AMT_REQ_CREDIT_BUREAU_DAY  AMT_REQ_CREDIT_BUREAU_WEEK  \\\n",
       "0                             0.0                         0.0   \n",
       "1                             0.0                         0.0   \n",
       "2                             0.0                         0.0   \n",
       "3                             0.0                         0.0   \n",
       "4                             0.0                         0.0   \n",
       "...                           ...                         ...   \n",
       "307506                        0.0                         0.0   \n",
       "307507                        0.0                         0.0   \n",
       "307508                        0.0                         0.0   \n",
       "307509                        0.0                         0.0   \n",
       "307510                        0.0                         0.0   \n",
       "\n",
       "        AMT_REQ_CREDIT_BUREAU_MON  AMT_REQ_CREDIT_BUREAU_QRT  \\\n",
       "0                             0.0                        0.0   \n",
       "1                             0.0                        0.0   \n",
       "2                             0.0                        0.0   \n",
       "3                             0.0                        0.0   \n",
       "4                             0.0                        0.0   \n",
       "...                           ...                        ...   \n",
       "307506                        0.0                        0.0   \n",
       "307507                        0.0                        0.0   \n",
       "307508                        1.0                        0.0   \n",
       "307509                        0.0                        0.0   \n",
       "307510                        2.0                        0.0   \n",
       "\n",
       "        AMT_REQ_CREDIT_BUREAU_YEAR  \n",
       "0                              1.0  \n",
       "1                              0.0  \n",
       "2                              0.0  \n",
       "3                              1.0  \n",
       "4                              0.0  \n",
       "...                            ...  \n",
       "307506                         1.0  \n",
       "307507                         1.0  \n",
       "307508                         1.0  \n",
       "307509                         0.0  \n",
       "307510                         1.0  \n",
       "\n",
       "[307507 rows x 18 columns]"
      ]
     },
     "execution_count": 47,
     "metadata": {},
     "output_type": "execute_result"
    }
   ],
   "source": [
    "float_cols = data_app.select_dtypes(np.float64).columns.tolist()\n",
    "data_app[float_cols]"
   ]
  },
  {
   "cell_type": "markdown",
   "metadata": {
    "id": "Z3NQbEwSPegA"
   },
   "source": [
    "There are two columns DAYS_REGISTRATION and DAYS_LAST_PHONE_CHANGE which should have been of type int64, so lets change their data type"
   ]
  },
  {
   "cell_type": "code",
   "execution_count": 48,
   "metadata": {
    "id": "mxhv0VlBPeQ1"
   },
   "outputs": [],
   "source": [
    "data_app.DAYS_REGISTRATION = data_app.DAYS_REGISTRATION.astype('int64')\n",
    "data_app.DAYS_LAST_PHONE_CHANGE = data_app.DAYS_LAST_PHONE_CHANGE.notna().astype('int64')"
   ]
  },
  {
   "cell_type": "code",
   "execution_count": 49,
   "metadata": {
    "colab": {
     "base_uri": "https://localhost:8080/"
    },
    "id": "4OJQhw4dRRWU",
    "outputId": "686916b3-8dba-4fba-8458-5299b2c8ac8b"
   },
   "outputs": [
    {
     "data": {
      "text/plain": [
       "0        -3648\n",
       "1        -1186\n",
       "2        -4260\n",
       "3        -9833\n",
       "4        -4311\n",
       "          ... \n",
       "307506   -8456\n",
       "307507   -4388\n",
       "307508   -6737\n",
       "307509   -2562\n",
       "307510   -5128\n",
       "Name: DAYS_REGISTRATION, Length: 307507, dtype: int64"
      ]
     },
     "execution_count": 49,
     "metadata": {},
     "output_type": "execute_result"
    }
   ],
   "source": [
    "data_app.DAYS_REGISTRATION"
   ]
  },
  {
   "cell_type": "markdown",
   "metadata": {
    "id": "0x_zESKs0mX6"
   },
   "source": [
    "#Finding Outliers in the Dataset"
   ]
  },
  {
   "cell_type": "code",
   "execution_count": 50,
   "metadata": {
    "colab": {
     "base_uri": "https://localhost:8080/"
    },
    "id": "017uUlJD0lsS",
    "outputId": "462f41e9-572e-4b1f-cafa-724870a2aa73"
   },
   "outputs": [
    {
     "data": {
      "text/plain": [
       "['SK_ID_CURR',\n",
       " 'TARGET',\n",
       " 'CNT_CHILDREN',\n",
       " 'AMT_INCOME_TOTAL',\n",
       " 'AMT_CREDIT',\n",
       " 'AMT_ANNUITY',\n",
       " 'AMT_GOODS_PRICE',\n",
       " 'REGION_POPULATION_RELATIVE',\n",
       " 'DAYS_BIRTH',\n",
       " 'DAYS_EMPLOYED',\n",
       " 'DAYS_REGISTRATION',\n",
       " 'DAYS_ID_PUBLISH',\n",
       " 'FLAG_MOBIL',\n",
       " 'FLAG_EMP_PHONE',\n",
       " 'FLAG_WORK_PHONE',\n",
       " 'FLAG_CONT_MOBILE',\n",
       " 'FLAG_PHONE',\n",
       " 'FLAG_EMAIL',\n",
       " 'REGION_RATING_CLIENT',\n",
       " 'REGION_RATING_CLIENT_W_CITY',\n",
       " 'HOUR_APPR_PROCESS_START',\n",
       " 'REG_REGION_NOT_LIVE_REGION',\n",
       " 'REG_REGION_NOT_WORK_REGION',\n",
       " 'LIVE_REGION_NOT_WORK_REGION',\n",
       " 'REG_CITY_NOT_LIVE_CITY',\n",
       " 'REG_CITY_NOT_WORK_CITY',\n",
       " 'LIVE_CITY_NOT_WORK_CITY',\n",
       " 'EXT_SOURCE_2',\n",
       " 'OBS_30_CNT_SOCIAL_CIRCLE',\n",
       " 'DEF_30_CNT_SOCIAL_CIRCLE',\n",
       " 'OBS_60_CNT_SOCIAL_CIRCLE',\n",
       " 'DEF_60_CNT_SOCIAL_CIRCLE',\n",
       " 'DAYS_LAST_PHONE_CHANGE',\n",
       " 'FLAG_DOCUMENT_2',\n",
       " 'FLAG_DOCUMENT_3',\n",
       " 'FLAG_DOCUMENT_4',\n",
       " 'FLAG_DOCUMENT_5',\n",
       " 'FLAG_DOCUMENT_6',\n",
       " 'FLAG_DOCUMENT_7',\n",
       " 'FLAG_DOCUMENT_8',\n",
       " 'FLAG_DOCUMENT_9',\n",
       " 'FLAG_DOCUMENT_10',\n",
       " 'FLAG_DOCUMENT_11',\n",
       " 'FLAG_DOCUMENT_12',\n",
       " 'FLAG_DOCUMENT_13',\n",
       " 'FLAG_DOCUMENT_14',\n",
       " 'FLAG_DOCUMENT_15',\n",
       " 'FLAG_DOCUMENT_16',\n",
       " 'FLAG_DOCUMENT_17',\n",
       " 'FLAG_DOCUMENT_18',\n",
       " 'FLAG_DOCUMENT_19',\n",
       " 'FLAG_DOCUMENT_20',\n",
       " 'FLAG_DOCUMENT_21',\n",
       " 'AMT_REQ_CREDIT_BUREAU_HOUR',\n",
       " 'AMT_REQ_CREDIT_BUREAU_DAY',\n",
       " 'AMT_REQ_CREDIT_BUREAU_WEEK',\n",
       " 'AMT_REQ_CREDIT_BUREAU_MON',\n",
       " 'AMT_REQ_CREDIT_BUREAU_QRT',\n",
       " 'AMT_REQ_CREDIT_BUREAU_YEAR',\n",
       " 'Age_Years']"
      ]
     },
     "execution_count": 50,
     "metadata": {},
     "output_type": "execute_result"
    }
   ],
   "source": [
    "num_cols = data_app.select_dtypes([np.int64,np.float64]).columns.tolist()\n",
    "num_cols"
   ]
  },
  {
   "cell_type": "code",
   "execution_count": 51,
   "metadata": {
    "colab": {
     "base_uri": "https://localhost:8080/",
     "height": 529
    },
    "id": "K8UZQJPO1h5S",
    "outputId": "32525b4b-5d41-470e-9a14-4934fff891ba"
   },
   "outputs": [
    {
     "data": {
      "text/plain": [
       "[Text(0.5, 1.0, 'Box plot for Total Income Amount')]"
      ]
     },
     "execution_count": 51,
     "metadata": {},
     "output_type": "execute_result"
    },
    {
     "data": {
      "image/png": "[encoded data removed]",
      "text/plain": [
       "<Figure size 1440x576 with 1 Axes>"
      ]
     },
     "metadata": {
      "needs_background": "light"
     },
     "output_type": "display_data"
    }
   ],
   "source": [
    "plt.figure(figsize=[20,8])\n",
    "INCOME_TOTAL = data_app.AMT_INCOME_TOTAL\n",
    "sns.boxplot(data=INCOME_TOTAL, orient='h').set(title='Box plot for Total Income Amount')\n"
   ]
  },
  {
   "cell_type": "code",
   "execution_count": 52,
   "metadata": {
    "colab": {
     "base_uri": "https://localhost:8080/",
     "height": 873
    },
    "id": "4stXGEsd3BQ1",
    "outputId": "e7f6ad27-48a3-4817-8fae-70fb1d7b5dd9"
   },
   "outputs": [
    {
     "data": {
      "image/png": "[encoded data removed]",
      "text/plain": [
       "<Figure size 1152x864 with 6 Axes>"
      ]
     },
     "metadata": {
      "needs_background": "light"
     },
     "output_type": "display_data"
    }
   ],
   "source": [
    "plt.figure(figsize=[16,12])\n",
    "\n",
    "plt.subplot(2,3,1)\n",
    "INCOME_TOTAL = data_app.AMT_INCOME_TOTAL\n",
    "sns.boxplot(data=INCOME_TOTAL).set(title='Box plot for Total Income Amount')\n",
    "\n",
    "plt.subplot(2,3,2)\n",
    "CREDIT = data_app.AMT_CREDIT\n",
    "sns.boxplot(data=CREDIT).set(title='Box plot for Total Credit Amount')\n",
    "\n",
    "plt.subplot(2,3,3)\n",
    "ANNUITY = data_app.AMT_ANNUITY\n",
    "sns.boxplot(data=ANNUITY).set(title='Box plot for Annuity')\n",
    "\n",
    "plt.subplot(2,3,4)\n",
    "GOODS_PRICE = data_app.AMT_GOODS_PRICE\n",
    "sns.boxplot(data=GOODS_PRICE).set(title='Box plot for Goods Price Amount')\n",
    "\n",
    "plt.subplot(2,3,5)\n",
    "AGE = data_app.Age_Years\n",
    "sns.boxplot(data=AGE).set(title='Box plot for Goods Price Amount')\n",
    "\n",
    "plt.subplot(2,3,6)\n",
    "CHILDREN = data_app.CNT_CHILDREN\n",
    "sns.boxplot(data=CHILDREN).set(title='Box plot for Count of Children')\n",
    "plt.tight_layout()\n",
    "plt.show()"
   ]
  },
  {
   "cell_type": "markdown",
   "metadata": {
    "id": "jzcdrtsTAKaW"
   },
   "source": [
    "##Lets remove the outliers"
   ]
  },
  {
   "cell_type": "code",
   "execution_count": 53,
   "metadata": {
    "id": "fn1yQp0Q7UIM"
   },
   "outputs": [],
   "source": [
    "INCOME_90 = data_app.AMT_INCOME_TOTAL.quantile(q=0.9)"
   ]
  },
  {
   "cell_type": "code",
   "execution_count": 54,
   "metadata": {
    "colab": {
     "base_uri": "https://localhost:8080/"
    },
    "id": "r33N9wP-Ao5T",
    "outputId": "4de4139d-46b4-4856-febd-9060dedb1ae7"
   },
   "outputs": [
    {
     "data": {
      "text/plain": [
       "count    3.075070e+05\n",
       "mean     5.990286e+05\n",
       "std      4.024926e+05\n",
       "min      4.500000e+04\n",
       "25%      2.700000e+05\n",
       "50%      5.135310e+05\n",
       "75%      8.086500e+05\n",
       "max      4.050000e+06\n",
       "Name: AMT_CREDIT, dtype: float64"
      ]
     },
     "execution_count": 54,
     "metadata": {},
     "output_type": "execute_result"
    }
   ],
   "source": [
    "data_app.AMT_CREDIT.describe()"
   ]
  },
  {
   "cell_type": "code",
   "execution_count": 55,
   "metadata": {
    "id": "Jhckx6dGBX6y"
   },
   "outputs": [],
   "source": [
    "CREDIT_95 = data_app.AMT_CREDIT.quantile(q=0.95)"
   ]
  },
  {
   "cell_type": "code",
   "execution_count": 56,
   "metadata": {
    "colab": {
     "base_uri": "https://localhost:8080/"
    },
    "id": "fu9bpmtYC3st",
    "outputId": "d9bd30ae-4964-48ad-91af-95e0184b5973"
   },
   "outputs": [
    {
     "data": {
      "text/plain": [
       "count    307495.000000\n",
       "mean      27108.666786\n",
       "std       14493.798379\n",
       "min        1615.500000\n",
       "25%       16524.000000\n",
       "50%       24903.000000\n",
       "75%       34596.000000\n",
       "max      258025.500000\n",
       "Name: AMT_ANNUITY, dtype: float64"
      ]
     },
     "execution_count": 56,
     "metadata": {},
     "output_type": "execute_result"
    }
   ],
   "source": [
    "data_app.AMT_ANNUITY.describe()"
   ]
  },
  {
   "cell_type": "code",
   "execution_count": 57,
   "metadata": {
    "id": "Q_KYzFciDDmc"
   },
   "outputs": [],
   "source": [
    "ANNUITY_97 = data_app.AMT_ANNUITY.quantile(q=0.97)"
   ]
  },
  {
   "cell_type": "code",
   "execution_count": 58,
   "metadata": {
    "colab": {
     "base_uri": "https://localhost:8080/"
    },
    "id": "wLINx4EnDXQQ",
    "outputId": "30dfe105-a33f-4801-845e-d478b04e4298"
   },
   "outputs": [
    {
     "data": {
      "text/plain": [
       "count    3.072290e+05\n",
       "mean     5.383977e+05\n",
       "std      3.694472e+05\n",
       "min      4.050000e+04\n",
       "25%      2.385000e+05\n",
       "50%      4.500000e+05\n",
       "75%      6.795000e+05\n",
       "max      4.050000e+06\n",
       "Name: AMT_GOODS_PRICE, dtype: float64"
      ]
     },
     "execution_count": 58,
     "metadata": {},
     "output_type": "execute_result"
    }
   ],
   "source": [
    "data_app.AMT_GOODS_PRICE.describe()"
   ]
  },
  {
   "cell_type": "code",
   "execution_count": 59,
   "metadata": {
    "id": "bCIMJl_mDebM"
   },
   "outputs": [],
   "source": [
    "GOODS_PRICE_97 = data_app.AMT_GOODS_PRICE.quantile(q=0.97)"
   ]
  },
  {
   "cell_type": "code",
   "execution_count": 60,
   "metadata": {
    "colab": {
     "base_uri": "https://localhost:8080/"
    },
    "id": "3_wOh_8WDvVh",
    "outputId": "e5b87645-8f72-48d6-acff-8391169c283d"
   },
   "outputs": [
    {
     "data": {
      "text/plain": [
       "count    307507.000000\n",
       "mean          0.417047\n",
       "std           0.722119\n",
       "min           0.000000\n",
       "25%           0.000000\n",
       "50%           0.000000\n",
       "75%           1.000000\n",
       "max          19.000000\n",
       "Name: CNT_CHILDREN, dtype: float64"
      ]
     },
     "execution_count": 60,
     "metadata": {},
     "output_type": "execute_result"
    }
   ],
   "source": [
    "data_app.CNT_CHILDREN.describe()"
   ]
  },
  {
   "cell_type": "code",
   "execution_count": 61,
   "metadata": {
    "id": "zP47XHtfD70g"
   },
   "outputs": [],
   "source": [
    "CNT_CHILDREN_999 = data_app.CNT_CHILDREN.quantile(q=0.999)"
   ]
  },
  {
   "cell_type": "markdown",
   "metadata": {
    "id": "02hdYwQ1EJ0C"
   },
   "source": [
    "#Removing the outliers"
   ]
  },
  {
   "cell_type": "code",
   "execution_count": 62,
   "metadata": {
    "id": "5WL1XZ7GEHoX"
   },
   "outputs": [],
   "source": [
    "app_data_final=data_app.copy()\n",
    "app_data_final=app_data_final[app_data_final['AMT_INCOME_TOTAL'] <=INCOME_90]\n",
    "app_data_final=app_data_final[app_data_final['AMT_ANNUITY'] <=ANNUITY_97]\n",
    "app_data_final=app_data_final[app_data_final['AMT_GOODS_PRICE'] <=GOODS_PRICE_97]\n",
    "app_data_final=app_data_final[app_data_final['CNT_CHILDREN'] <=CNT_CHILDREN_999]\n",
    "app_data_final=app_data_final[app_data_final['AMT_CREDIT'] <=CREDIT_95]"
   ]
  },
  {
   "cell_type": "code",
   "execution_count": 63,
   "metadata": {
    "colab": {
     "base_uri": "https://localhost:8080/",
     "height": 873
    },
    "id": "bry43ps-UQBn",
    "outputId": "a1fe35b4-79f7-4195-fcb3-e6599abe52b1"
   },
   "outputs": [
    {
     "data": {
      "image/png": "[encoded data removed]",
      "text/plain": [
       "<Figure size 1152x864 with 6 Axes>"
      ]
     },
     "metadata": {
      "needs_background": "light"
     },
     "output_type": "display_data"
    }
   ],
   "source": [
    "plt.figure(figsize=[16,12])\n",
    "\n",
    "plt.subplot(2,3,1)\n",
    "INCOME_TOTAL_NEW = app_data_final.AMT_INCOME_TOTAL\n",
    "sns.boxplot(data=INCOME_TOTAL_NEW).set(title='Box plot for Total Income Amount')\n",
    "\n",
    "plt.subplot(2,3,2)\n",
    "CREDIT_NEW = app_data_final.AMT_CREDIT\n",
    "sns.boxplot(data=CREDIT_NEW).set(title='Box plot for Total Credit Amount')\n",
    "\n",
    "plt.subplot(2,3,3)\n",
    "ANNUITY_NEW = app_data_final.AMT_ANNUITY\n",
    "sns.boxplot(data=ANNUITY_NEW).set(title='Box plot for Annuity')\n",
    "\n",
    "plt.subplot(2,3,4)\n",
    "GOODS_PRICE_NEW = app_data_final.AMT_GOODS_PRICE\n",
    "sns.boxplot(data=GOODS_PRICE_NEW).set(title='Box plot for Goods Price Amount')\n",
    "\n",
    "plt.subplot(2,3,5)\n",
    "AGE_NEW = app_data_final.Age_Years\n",
    "sns.boxplot(data=AGE_NEW).set(title='Box plot for Goods Price Amount')\n",
    "\n",
    "plt.subplot(2,3,6)\n",
    "CHILDREN_NEW = app_data_final.CNT_CHILDREN\n",
    "sns.boxplot(data=CHILDREN_NEW).set(title='Box plot for Count of Children')\n",
    "plt.tight_layout()\n",
    "plt.show()"
   ]
  },
  {
   "cell_type": "markdown",
   "metadata": {
    "id": "2Xhq-9raVHHJ"
   },
   "source": [
    "#From the above graphs we can see that the most of the outliers have been removed"
   ]
  },
  {
   "cell_type": "markdown",
   "metadata": {
    "id": "gsk6VDOrVdjC"
   },
   "source": [
    "#Lets see if there are any contious numerical columns"
   ]
  },
  {
   "cell_type": "code",
   "execution_count": 64,
   "metadata": {
    "colab": {
     "base_uri": "https://localhost:8080/",
     "height": 799
    },
    "id": "alxIyNyPVQ5y",
    "outputId": "0fecb00b-dbfe-4948-e0c3-e951a3fdb5c9"
   },
   "outputs": [
    {
     "data": {
      "text/html": [
       "<div>\n",
       "<style scoped>\n",
       "    .dataframe tbody tr th:only-of-type {\n",
       "        vertical-align: middle;\n",
       "    }\n",
       "\n",
       "    .dataframe tbody tr th {\n",
       "        vertical-align: top;\n",
       "    }\n",
       "\n",
       "    .dataframe thead th {\n",
       "        text-align: right;\n",
       "    }\n",
       "</style>\n",
       "<table border=\"1\" class=\"dataframe\">\n",
       "  <thead>\n",
       "    <tr style=\"text-align: right;\">\n",
       "      <th></th>\n",
       "      <th>SK_ID_CURR</th>\n",
       "      <th>TARGET</th>\n",
       "      <th>NAME_CONTRACT_TYPE</th>\n",
       "      <th>CODE_GENDER</th>\n",
       "      <th>FLAG_OWN_CAR</th>\n",
       "      <th>FLAG_OWN_REALTY</th>\n",
       "      <th>CNT_CHILDREN</th>\n",
       "      <th>AMT_INCOME_TOTAL</th>\n",
       "      <th>AMT_CREDIT</th>\n",
       "      <th>AMT_ANNUITY</th>\n",
       "      <th>...</th>\n",
       "      <th>FLAG_DOCUMENT_19</th>\n",
       "      <th>FLAG_DOCUMENT_20</th>\n",
       "      <th>FLAG_DOCUMENT_21</th>\n",
       "      <th>AMT_REQ_CREDIT_BUREAU_HOUR</th>\n",
       "      <th>AMT_REQ_CREDIT_BUREAU_DAY</th>\n",
       "      <th>AMT_REQ_CREDIT_BUREAU_WEEK</th>\n",
       "      <th>AMT_REQ_CREDIT_BUREAU_MON</th>\n",
       "      <th>AMT_REQ_CREDIT_BUREAU_QRT</th>\n",
       "      <th>AMT_REQ_CREDIT_BUREAU_YEAR</th>\n",
       "      <th>Age_Years</th>\n",
       "    </tr>\n",
       "  </thead>\n",
       "  <tbody>\n",
       "    <tr>\n",
       "      <th>0</th>\n",
       "      <td>100002</td>\n",
       "      <td>1</td>\n",
       "      <td>Cash loans</td>\n",
       "      <td>M</td>\n",
       "      <td>N</td>\n",
       "      <td>Y</td>\n",
       "      <td>0</td>\n",
       "      <td>202500.000</td>\n",
       "      <td>406597.5</td>\n",
       "      <td>24700.5</td>\n",
       "      <td>...</td>\n",
       "      <td>0</td>\n",
       "      <td>0</td>\n",
       "      <td>0</td>\n",
       "      <td>0.0</td>\n",
       "      <td>0.0</td>\n",
       "      <td>0.0</td>\n",
       "      <td>0.0</td>\n",
       "      <td>0.0</td>\n",
       "      <td>1.0</td>\n",
       "      <td>25</td>\n",
       "    </tr>\n",
       "    <tr>\n",
       "      <th>1</th>\n",
       "      <td>100003</td>\n",
       "      <td>0</td>\n",
       "      <td>Cash loans</td>\n",
       "      <td>F</td>\n",
       "      <td>N</td>\n",
       "      <td>N</td>\n",
       "      <td>0</td>\n",
       "      <td>270000.000</td>\n",
       "      <td>1293502.5</td>\n",
       "      <td>35698.5</td>\n",
       "      <td>...</td>\n",
       "      <td>0</td>\n",
       "      <td>0</td>\n",
       "      <td>0</td>\n",
       "      <td>0.0</td>\n",
       "      <td>0.0</td>\n",
       "      <td>0.0</td>\n",
       "      <td>0.0</td>\n",
       "      <td>0.0</td>\n",
       "      <td>0.0</td>\n",
       "      <td>45</td>\n",
       "    </tr>\n",
       "    <tr>\n",
       "      <th>2</th>\n",
       "      <td>100004</td>\n",
       "      <td>0</td>\n",
       "      <td>Revolving loans</td>\n",
       "      <td>M</td>\n",
       "      <td>Y</td>\n",
       "      <td>Y</td>\n",
       "      <td>0</td>\n",
       "      <td>67500.000</td>\n",
       "      <td>135000.0</td>\n",
       "      <td>6750.0</td>\n",
       "      <td>...</td>\n",
       "      <td>0</td>\n",
       "      <td>0</td>\n",
       "      <td>0</td>\n",
       "      <td>0.0</td>\n",
       "      <td>0.0</td>\n",
       "      <td>0.0</td>\n",
       "      <td>0.0</td>\n",
       "      <td>0.0</td>\n",
       "      <td>0.0</td>\n",
       "      <td>52</td>\n",
       "    </tr>\n",
       "    <tr>\n",
       "      <th>3</th>\n",
       "      <td>100006</td>\n",
       "      <td>0</td>\n",
       "      <td>Cash loans</td>\n",
       "      <td>F</td>\n",
       "      <td>N</td>\n",
       "      <td>Y</td>\n",
       "      <td>0</td>\n",
       "      <td>135000.000</td>\n",
       "      <td>312682.5</td>\n",
       "      <td>29686.5</td>\n",
       "      <td>...</td>\n",
       "      <td>0</td>\n",
       "      <td>0</td>\n",
       "      <td>0</td>\n",
       "      <td>0.0</td>\n",
       "      <td>0.0</td>\n",
       "      <td>0.0</td>\n",
       "      <td>0.0</td>\n",
       "      <td>0.0</td>\n",
       "      <td>1.0</td>\n",
       "      <td>52</td>\n",
       "    </tr>\n",
       "    <tr>\n",
       "      <th>4</th>\n",
       "      <td>100007</td>\n",
       "      <td>0</td>\n",
       "      <td>Cash loans</td>\n",
       "      <td>M</td>\n",
       "      <td>N</td>\n",
       "      <td>Y</td>\n",
       "      <td>0</td>\n",
       "      <td>121500.000</td>\n",
       "      <td>513000.0</td>\n",
       "      <td>21865.5</td>\n",
       "      <td>...</td>\n",
       "      <td>0</td>\n",
       "      <td>0</td>\n",
       "      <td>0</td>\n",
       "      <td>0.0</td>\n",
       "      <td>0.0</td>\n",
       "      <td>0.0</td>\n",
       "      <td>0.0</td>\n",
       "      <td>0.0</td>\n",
       "      <td>0.0</td>\n",
       "      <td>54</td>\n",
       "    </tr>\n",
       "    <tr>\n",
       "      <th>5</th>\n",
       "      <td>100008</td>\n",
       "      <td>0</td>\n",
       "      <td>Cash loans</td>\n",
       "      <td>M</td>\n",
       "      <td>N</td>\n",
       "      <td>Y</td>\n",
       "      <td>0</td>\n",
       "      <td>99000.000</td>\n",
       "      <td>490495.5</td>\n",
       "      <td>27517.5</td>\n",
       "      <td>...</td>\n",
       "      <td>0</td>\n",
       "      <td>0</td>\n",
       "      <td>0</td>\n",
       "      <td>0.0</td>\n",
       "      <td>0.0</td>\n",
       "      <td>0.0</td>\n",
       "      <td>0.0</td>\n",
       "      <td>1.0</td>\n",
       "      <td>1.0</td>\n",
       "      <td>46</td>\n",
       "    </tr>\n",
       "    <tr>\n",
       "      <th>8</th>\n",
       "      <td>100011</td>\n",
       "      <td>0</td>\n",
       "      <td>Cash loans</td>\n",
       "      <td>F</td>\n",
       "      <td>N</td>\n",
       "      <td>Y</td>\n",
       "      <td>0</td>\n",
       "      <td>112500.000</td>\n",
       "      <td>1019610.0</td>\n",
       "      <td>33826.5</td>\n",
       "      <td>...</td>\n",
       "      <td>0</td>\n",
       "      <td>0</td>\n",
       "      <td>0</td>\n",
       "      <td>0.0</td>\n",
       "      <td>0.0</td>\n",
       "      <td>0.0</td>\n",
       "      <td>0.0</td>\n",
       "      <td>0.0</td>\n",
       "      <td>1.0</td>\n",
       "      <td>55</td>\n",
       "    </tr>\n",
       "    <tr>\n",
       "      <th>9</th>\n",
       "      <td>100012</td>\n",
       "      <td>0</td>\n",
       "      <td>Revolving loans</td>\n",
       "      <td>M</td>\n",
       "      <td>N</td>\n",
       "      <td>Y</td>\n",
       "      <td>0</td>\n",
       "      <td>135000.000</td>\n",
       "      <td>405000.0</td>\n",
       "      <td>20250.0</td>\n",
       "      <td>...</td>\n",
       "      <td>0</td>\n",
       "      <td>0</td>\n",
       "      <td>0</td>\n",
       "      <td>0.0</td>\n",
       "      <td>0.0</td>\n",
       "      <td>0.0</td>\n",
       "      <td>0.0</td>\n",
       "      <td>0.0</td>\n",
       "      <td>1.0</td>\n",
       "      <td>39</td>\n",
       "    </tr>\n",
       "    <tr>\n",
       "      <th>10</th>\n",
       "      <td>100014</td>\n",
       "      <td>0</td>\n",
       "      <td>Cash loans</td>\n",
       "      <td>F</td>\n",
       "      <td>N</td>\n",
       "      <td>Y</td>\n",
       "      <td>1</td>\n",
       "      <td>112500.000</td>\n",
       "      <td>652500.0</td>\n",
       "      <td>21177.0</td>\n",
       "      <td>...</td>\n",
       "      <td>0</td>\n",
       "      <td>0</td>\n",
       "      <td>0</td>\n",
       "      <td>0.0</td>\n",
       "      <td>0.0</td>\n",
       "      <td>0.0</td>\n",
       "      <td>1.0</td>\n",
       "      <td>0.0</td>\n",
       "      <td>0.0</td>\n",
       "      <td>27</td>\n",
       "    </tr>\n",
       "    <tr>\n",
       "      <th>11</th>\n",
       "      <td>100015</td>\n",
       "      <td>0</td>\n",
       "      <td>Cash loans</td>\n",
       "      <td>F</td>\n",
       "      <td>N</td>\n",
       "      <td>Y</td>\n",
       "      <td>0</td>\n",
       "      <td>38419.155</td>\n",
       "      <td>148365.0</td>\n",
       "      <td>10678.5</td>\n",
       "      <td>...</td>\n",
       "      <td>0</td>\n",
       "      <td>0</td>\n",
       "      <td>0</td>\n",
       "      <td>0.0</td>\n",
       "      <td>0.0</td>\n",
       "      <td>0.0</td>\n",
       "      <td>0.0</td>\n",
       "      <td>0.0</td>\n",
       "      <td>2.0</td>\n",
       "      <td>55</td>\n",
       "    </tr>\n",
       "  </tbody>\n",
       "</table>\n",
       "<p>10 rows × 74 columns</p>\n",
       "</div>"
      ],
      "text/plain": [
       "    SK_ID_CURR  TARGET NAME_CONTRACT_TYPE CODE_GENDER FLAG_OWN_CAR  \\\n",
       "0       100002       1         Cash loans           M            N   \n",
       "1       100003       0         Cash loans           F            N   \n",
       "2       100004       0    Revolving loans           M            Y   \n",
       "3       100006       0         Cash loans           F            N   \n",
       "4       100007       0         Cash loans           M            N   \n",
       "5       100008       0         Cash loans           M            N   \n",
       "8       100011       0         Cash loans           F            N   \n",
       "9       100012       0    Revolving loans           M            N   \n",
       "10      100014       0         Cash loans           F            N   \n",
       "11      100015       0         Cash loans           F            N   \n",
       "\n",
       "   FLAG_OWN_REALTY  CNT_CHILDREN  AMT_INCOME_TOTAL  AMT_CREDIT  AMT_ANNUITY  \\\n",
       "0                Y             0        202500.000    406597.5      24700.5   \n",
       "1                N             0        270000.000   1293502.5      35698.5   \n",
       "2                Y             0         67500.000    135000.0       6750.0   \n",
       "3                Y             0        135000.000    312682.5      29686.5   \n",
       "4                Y             0        121500.000    513000.0      21865.5   \n",
       "5                Y             0         99000.000    490495.5      27517.5   \n",
       "8                Y             0        112500.000   1019610.0      33826.5   \n",
       "9                Y             0        135000.000    405000.0      20250.0   \n",
       "10               Y             1        112500.000    652500.0      21177.0   \n",
       "11               Y             0         38419.155    148365.0      10678.5   \n",
       "\n",
       "    ...  FLAG_DOCUMENT_19 FLAG_DOCUMENT_20 FLAG_DOCUMENT_21  \\\n",
       "0   ...                 0                0                0   \n",
       "1   ...                 0                0                0   \n",
       "2   ...                 0                0                0   \n",
       "3   ...                 0                0                0   \n",
       "4   ...                 0                0                0   \n",
       "5   ...                 0                0                0   \n",
       "8   ...                 0                0                0   \n",
       "9   ...                 0                0                0   \n",
       "10  ...                 0                0                0   \n",
       "11  ...                 0                0                0   \n",
       "\n",
       "   AMT_REQ_CREDIT_BUREAU_HOUR AMT_REQ_CREDIT_BUREAU_DAY  \\\n",
       "0                         0.0                       0.0   \n",
       "1                         0.0                       0.0   \n",
       "2                         0.0                       0.0   \n",
       "3                         0.0                       0.0   \n",
       "4                         0.0                       0.0   \n",
       "5                         0.0                       0.0   \n",
       "8                         0.0                       0.0   \n",
       "9                         0.0                       0.0   \n",
       "10                        0.0                       0.0   \n",
       "11                        0.0                       0.0   \n",
       "\n",
       "   AMT_REQ_CREDIT_BUREAU_WEEK  AMT_REQ_CREDIT_BUREAU_MON  \\\n",
       "0                         0.0                        0.0   \n",
       "1                         0.0                        0.0   \n",
       "2                         0.0                        0.0   \n",
       "3                         0.0                        0.0   \n",
       "4                         0.0                        0.0   \n",
       "5                         0.0                        0.0   \n",
       "8                         0.0                        0.0   \n",
       "9                         0.0                        0.0   \n",
       "10                        0.0                        1.0   \n",
       "11                        0.0                        0.0   \n",
       "\n",
       "    AMT_REQ_CREDIT_BUREAU_QRT  AMT_REQ_CREDIT_BUREAU_YEAR  Age_Years  \n",
       "0                         0.0                         1.0         25  \n",
       "1                         0.0                         0.0         45  \n",
       "2                         0.0                         0.0         52  \n",
       "3                         0.0                         1.0         52  \n",
       "4                         0.0                         0.0         54  \n",
       "5                         1.0                         1.0         46  \n",
       "8                         0.0                         1.0         55  \n",
       "9                         0.0                         1.0         39  \n",
       "10                        0.0                         0.0         27  \n",
       "11                        0.0                         2.0         55  \n",
       "\n",
       "[10 rows x 74 columns]"
      ]
     },
     "execution_count": 64,
     "metadata": {},
     "output_type": "execute_result"
    }
   ],
   "source": [
    "app_data_final.head(10)"
   ]
  },
  {
   "cell_type": "markdown",
   "metadata": {},
   "source": [
    "There are AMT_* columns and Age_Years which has continous numerical values, we can perform binning on these columns"
   ]
  },
  {
   "cell_type": "code",
   "execution_count": 68,
   "metadata": {},
   "outputs": [
    {
     "data": {
      "text/plain": [
       "count    267610.000000\n",
       "mean         43.457326\n",
       "std          12.163040\n",
       "min          20.000000\n",
       "25%          33.000000\n",
       "50%          43.000000\n",
       "75%          54.000000\n",
       "max          69.000000\n",
       "Name: Age_Years, dtype: float64"
      ]
     },
     "execution_count": 68,
     "metadata": {},
     "output_type": "execute_result"
    }
   ],
   "source": [
    "app_data_final.Age_Years.describe()"
   ]
  },
  {
   "cell_type": "code",
   "execution_count": 69,
   "metadata": {},
   "outputs": [],
   "source": [
    "cut_labels = ['0-10', '11-20', '21-30', '31-40','41-50','51-60','61-70','71-80']\n",
    "cut_bins = [0, 10,20,30,40,50,60,70,80]\n",
    "app_data_final['Age_Groups'] = pd.cut(app_data_final['Age_Years'], bins=cut_bins, labels=cut_labels)"
   ]
  },
  {
   "cell_type": "code",
   "execution_count": 70,
   "metadata": {},
   "outputs": [
    {
     "data": {
      "text/plain": [
       "0         21-30\n",
       "1         41-50\n",
       "2         51-60\n",
       "3         51-60\n",
       "4         51-60\n",
       "          ...  \n",
       "307506    21-30\n",
       "307507    51-60\n",
       "307508    41-50\n",
       "307509    31-40\n",
       "307510    41-50\n",
       "Name: Age_Groups, Length: 267610, dtype: category\n",
       "Categories (8, object): ['0-10' < '11-20' < '21-30' < '31-40' < '41-50' < '51-60' < '61-70' < '71-80']"
      ]
     },
     "execution_count": 70,
     "metadata": {},
     "output_type": "execute_result"
    }
   ],
   "source": [
    "app_data_final['Age_Groups']"
   ]
  },
  {
   "cell_type": "markdown",
   "metadata": {},
   "source": [
    "Now lets bin the AMT_INCOME_TOTAL column"
   ]
  },
  {
   "cell_type": "code",
   "execution_count": 71,
   "metadata": {},
   "outputs": [
    {
     "data": {
      "text/plain": [
       "count    267610.000000\n",
       "mean     144650.112098\n",
       "std       54791.690530\n",
       "min       25650.000000\n",
       "25%      106200.000000\n",
       "50%      135000.000000\n",
       "75%      180000.000000\n",
       "max      270000.000000\n",
       "Name: AMT_INCOME_TOTAL, dtype: float64"
      ]
     },
     "execution_count": 71,
     "metadata": {},
     "output_type": "execute_result"
    }
   ],
   "source": [
    "app_data_final.AMT_INCOME_TOTAL.describe()"
   ]
  },
  {
   "cell_type": "code",
   "execution_count": 73,
   "metadata": {},
   "outputs": [],
   "source": [
    "cut_lbl = ['0-50000', '50001-100000', '100001-150000', '150001-200000','200001-250000','250001-300000']\n",
    "cut_bns = [0, 50000, 100000, 150000, 200000, 250000, 300000]\n",
    "app_data_final['INCOME_GROUP'] = pd.cut(app_data_final['AMT_INCOME_TOTAL'], bins=cut_bns, labels=cut_lbl)"
   ]
  },
  {
   "cell_type": "code",
   "execution_count": 74,
   "metadata": {},
   "outputs": [
    {
     "data": {
      "text/plain": [
       "0         200001-250000\n",
       "1         250001-300000\n",
       "2          50001-100000\n",
       "3         100001-150000\n",
       "4         100001-150000\n",
       "              ...      \n",
       "307506    150001-200000\n",
       "307507     50001-100000\n",
       "307508    150001-200000\n",
       "307509    150001-200000\n",
       "307510    150001-200000\n",
       "Name: INCOME_GROUP, Length: 267610, dtype: category\n",
       "Categories (6, object): ['0-50000' < '50001-100000' < '100001-150000' < '150001-200000' < '200001-250000' < '250001-300000']"
      ]
     },
     "execution_count": 74,
     "metadata": {},
     "output_type": "execute_result"
    }
   ],
   "source": [
    "app_data_final['INCOME_GROUP']"
   ]
  },
  {
   "cell_type": "markdown",
   "metadata": {},
   "source": [
    "### Lets see how is the distribution of the data in the columns, we can see if the data is skewed or balanced, We will be analysing the Gender, Income and Age"
   ]
  },
  {
   "cell_type": "code",
   "execution_count": 171,
   "metadata": {},
   "outputs": [
    {
     "data": {
      "text/plain": [
       "<AxesSubplot:xlabel='Age_Groups', ylabel='Count'>"
      ]
     },
     "execution_count": 171,
     "metadata": {},
     "output_type": "execute_result"
    },
    {
     "data": {
      "image/png": "[encoded data removed]",
      "text/plain": [
       "<Figure size 432x288 with 1 Axes>"
      ]
     },
     "metadata": {
      "needs_background": "light"
     },
     "output_type": "display_data"
    }
   ],
   "source": [
    "AGE = app_data_final.Age_Groups\n",
    "sns.histplot(AGE)"
   ]
  },
  {
   "cell_type": "code",
   "execution_count": 163,
   "metadata": {},
   "outputs": [
    {
     "data": {
      "text/html": [
       "<div>\n",
       "<style scoped>\n",
       "    .dataframe tbody tr th:only-of-type {\n",
       "        vertical-align: middle;\n",
       "    }\n",
       "\n",
       "    .dataframe tbody tr th {\n",
       "        vertical-align: top;\n",
       "    }\n",
       "\n",
       "    .dataframe thead th {\n",
       "        text-align: right;\n",
       "    }\n",
       "</style>\n",
       "<table border=\"1\" class=\"dataframe\">\n",
       "  <thead>\n",
       "    <tr style=\"text-align: right;\">\n",
       "      <th></th>\n",
       "      <th>No of Applicants</th>\n",
       "    </tr>\n",
       "    <tr>\n",
       "      <th>Age_Groups</th>\n",
       "      <th></th>\n",
       "    </tr>\n",
       "  </thead>\n",
       "  <tbody>\n",
       "    <tr>\n",
       "      <th>31-40</th>\n",
       "      <td>71076</td>\n",
       "    </tr>\n",
       "    <tr>\n",
       "      <th>41-50</th>\n",
       "      <td>62605</td>\n",
       "    </tr>\n",
       "    <tr>\n",
       "      <th>51-60</th>\n",
       "      <td>59001</td>\n",
       "    </tr>\n",
       "    <tr>\n",
       "      <th>21-30</th>\n",
       "      <td>47802</td>\n",
       "    </tr>\n",
       "    <tr>\n",
       "      <th>61-70</th>\n",
       "      <td>27125</td>\n",
       "    </tr>\n",
       "    <tr>\n",
       "      <th>11-20</th>\n",
       "      <td>1</td>\n",
       "    </tr>\n",
       "    <tr>\n",
       "      <th>0-10</th>\n",
       "      <td>0</td>\n",
       "    </tr>\n",
       "    <tr>\n",
       "      <th>71-80</th>\n",
       "      <td>0</td>\n",
       "    </tr>\n",
       "  </tbody>\n",
       "</table>\n",
       "</div>"
      ],
      "text/plain": [
       "            No of Applicants\n",
       "Age_Groups                  \n",
       "31-40                  71076\n",
       "41-50                  62605\n",
       "51-60                  59001\n",
       "21-30                  47802\n",
       "61-70                  27125\n",
       "11-20                      1\n",
       "0-10                       0\n",
       "71-80                      0"
      ]
     },
     "execution_count": 163,
     "metadata": {},
     "output_type": "execute_result"
    }
   ],
   "source": [
    "AGE"
   ]
  },
  {
   "cell_type": "code",
   "execution_count": 181,
   "metadata": {
    "scrolled": true
   },
   "outputs": [
    {
     "data": {
      "image/png": "[encoded data removed]",
      "text/plain": [
       "<Figure size 1440x432 with 3 Axes>"
      ]
     },
     "metadata": {
      "needs_background": "light"
     },
     "output_type": "display_data"
    }
   ],
   "source": [
    "plt.figure(figsize=[20,6])\n",
    "\n",
    "plt.subplot(1,3,1)\n",
    "\n",
    "GENDER = app_data_final.CODE_GENDER.value_counts(normalize=True).rename_axis('Gender').reset_index(name='Count')\n",
    "plt.pie(data=GENDER, x=GENDER.Count, labels=GENDER.Gender, autopct='%1.1f%%')\n",
    "plt.title('Gender Distribution among applicants')\n",
    "\n",
    "plt.subplot(1,3,2)\n",
    "INCOME = app_data_final.INCOME_GROUP.value_counts().rename_axis('Income_Groups').reset_index(name='Income Amount')\n",
    "sns.barplot(y=INCOME.Income_Groups, x=INCOME['Income Amount']).set(xlabel='No of Applicants', ylabel='Income Groups', title='No of Applicants vs Income Groups')\n",
    "\n",
    "plt.subplot(1,3,3)\n",
    "AGE = app_data_final.Age_Groups\n",
    "sns.histplot(AGE).set(xlabel='Age Groups', ylabel='No of Applicants', title='Histogram of Age Groups')\n",
    "\n",
    "\n",
    "plt.tight_layout()\n",
    "plt.show()"
   ]
  },
  {
   "cell_type": "code",
   "execution_count": null,
   "metadata": {},
   "outputs": [],
   "source": []
  }
 ],
 "metadata": {
  "colab": {
   "collapsed_sections": [],
   "name": "EDA Case Study UpGrad.ipynb",
   "provenance": []
  },
  "kernelspec": {
   "display_name": "Python 3",
   "language": "python",
   "name": "python3"
  },
  "language_info": {
   "codemirror_mode": {
    "name": "ipython",
    "version": 3
   },
   "file_extension": ".py",
   "mimetype": "text/x-python",
   "name": "python",
   "nbconvert_exporter": "python",
   "pygments_lexer": "ipython3",
   "version": "3.8.8"
  }
 },
 "nbformat": 4,
 "nbformat_minor": 1
}
