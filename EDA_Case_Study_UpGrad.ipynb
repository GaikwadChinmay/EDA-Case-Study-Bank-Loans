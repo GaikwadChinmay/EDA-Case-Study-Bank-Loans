{
  "nbformat": 4,
  "nbformat_minor": 0,
  "metadata": {
    "colab": {
      "name": "EDA Case Study UpGrad.ipynb",
      "provenance": [],
      "collapsed_sections": [],
      "mount_file_id": "1gCYm0mjCPNl9FrxWg71koo-e_X-p8E2z",
      "authorship_tag": "ABX9TyMhkYZuas/6ty/UJ0wLtrpq",
      "include_colab_link": true
    },
    "kernelspec": {
      "name": "python3",
      "display_name": "Python 3"
    },
    "language_info": {
      "name": "python"
    }
  },
  "cells": [
    {
      "cell_type": "markdown",
      "metadata": {
        "id": "view-in-github",
        "colab_type": "text"
      },
      "source": [
        "<a href=\"https://colab.research.google.com/github/GaikwadChinmay/EDA-Case-Study-Bank-Loans/blob/main/EDA_Case_Study_UpGrad.ipynb\" target=\"_parent\"><img src=\"https://colab.research.google.com/assets/colab-badge.svg\" alt=\"Open In Colab\"/></a>"
      ]
    },
    {
      "cell_type": "markdown",
      "metadata": {
        "id": "49xdK6wPcIKB"
      },
      "source": [
        "#  EDA Case Study\n"
      ]
    },
    {
      "cell_type": "markdown",
      "metadata": {
        "id": "2ZVjCmYbcqzK"
      },
      "source": [
        "First, let's import all the dependancies"
      ]
    },
    {
      "cell_type": "code",
      "metadata": {
        "colab": {
          "base_uri": "https://localhost:8080/"
        },
        "id": "0Wi49UZQcB4_",
        "outputId": "8f8b234d-beeb-444f-d091-a8a97c0adea1"
      },
      "source": [
        "import pandas as pd\n",
        "import numpy as np\n",
        "import matplotlib.pyplot as plt\n",
        "import seaborn as sns\n",
        "import warnings\n",
        "print('Packages imported successfully')"
      ],
      "execution_count": 1,
      "outputs": [
        {
          "output_type": "stream",
          "text": [
            "Packages imported successfully\n"
          ],
          "name": "stdout"
        }
      ]
    },
    {
      "cell_type": "markdown",
      "metadata": {
        "id": "NLwiUg8FdBjT"
      },
      "source": [
        "Now. let's import the data sets"
      ]
    },
    {
      "cell_type": "code",
      "metadata": {
        "id": "u_PcPvu1dAqT"
      },
      "source": [
        "data_app = pd.read_csv('/content/drive/MyDrive/Data Science/Data/application_data.csv')"
      ],
      "execution_count": 2,
      "outputs": []
    },
    {
      "cell_type": "code",
      "metadata": {
        "id": "F3eYwJu4d4XY"
      },
      "source": [
        "# Shape of dataframe\n",
        "data_app_rows, data_app_cols = data_app.shape"
      ],
      "execution_count": 3,
      "outputs": []
    },
    {
      "cell_type": "code",
      "metadata": {
        "id": "eJnPu9dPeAc_"
      },
      "source": [
        "data_prev_app = pd.read_csv('/content/drive/MyDrive/Data Science/Data/previous_application.csv')"
      ],
      "execution_count": 4,
      "outputs": []
    },
    {
      "cell_type": "code",
      "metadata": {
        "id": "dhOBHymDeFiw"
      },
      "source": [
        "# Shape of dataframe\n",
        "data_prv_app_rows, data_prv_app_cols = data_prev_app.shape"
      ],
      "execution_count": 5,
      "outputs": []
    },
    {
      "cell_type": "markdown",
      "metadata": {
        "id": "6jTY2LEi27Ws"
      },
      "source": [
        "Lets find columns with missing values"
      ]
    },
    {
      "cell_type": "code",
      "metadata": {
        "id": "7NuX_AJRzz8h"
      },
      "source": [
        " app_data_mis_vals = round(data_app.isnull().sum()/data_app_rows*100,2)"
      ],
      "execution_count": 6,
      "outputs": []
    },
    {
      "cell_type": "code",
      "metadata": {
        "colab": {
          "base_uri": "https://localhost:8080/",
          "height": 404
        },
        "id": "N_NxwJRd1Eut",
        "outputId": "7cc71caf-08e9-4bf9-d55f-d361fc5859b4"
      },
      "source": [
        "plt.figure(figsize=[10,6])\n",
        "app_data_mis_vals.plot.hist().set(xlabel='Percentage Missing Values',ylabel='Number of Columns',title='Percent Missing Values vs Number of Columns')\n",
        "plt.show()"
      ],
      "execution_count": 7,
      "outputs": [
        {
          "output_type": "display_data",
          "data": {
            "image/png": "[encoded data removed]",
            "text/plain": [
              "<Figure size 720x432 with 1 Axes>"
            ]
          },
          "metadata": {
            "tags": [],
            "needs_background": "light"
          }
        }
      ]
    },
    {
      "cell_type": "markdown",
      "metadata": {
        "id": "rpXRszZE6ANC"
      },
      "source": [
        "From the above graph it is evident that there are many columns with missing values percentage more than 40%, since 40% is significant number for missing value we can drop these values."
      ]
    },
    {
      "cell_type": "code",
      "metadata": {
        "id": "UBYna3EN5XyY"
      },
      "source": [
        "#List of columns with missing values percentage greater than 40\n",
        "drop_cols = app_data_mis_vals[app_data_mis_vals>40].index.tolist()"
      ],
      "execution_count": 8,
      "outputs": []
    },
    {
      "cell_type": "code",
      "metadata": {
        "colab": {
          "base_uri": "https://localhost:8080/"
        },
        "id": "dbDcifW06_JO",
        "outputId": "3195cc96-4e27-4a4d-9ebc-c222478ea304"
      },
      "source": [
        "#Count of columns that need to be dropped\n",
        "len(drop_cols)"
      ],
      "execution_count": 9,
      "outputs": [
        {
          "output_type": "execute_result",
          "data": {
            "text/plain": [
              "49"
            ]
          },
          "metadata": {
            "tags": []
          },
          "execution_count": 9
        }
      ]
    },
    {
      "cell_type": "code",
      "metadata": {
        "id": "BvK4bzDf6nBh"
      },
      "source": [
        "#Dropping above columns\n",
        "data_app.drop(labels=drop_cols,axis=1,inplace=True)"
      ],
      "execution_count": 10,
      "outputs": []
    },
    {
      "cell_type": "code",
      "metadata": {
        "colab": {
          "base_uri": "https://localhost:8080/"
        },
        "id": "voGnjN9A67NJ",
        "outputId": "31854d98-571c-4e54-836c-4cd0adf65684"
      },
      "source": [
        "#Verifying the shape of the dataframe \n",
        "data_app.shape"
      ],
      "execution_count": 11,
      "outputs": [
        {
          "output_type": "execute_result",
          "data": {
            "text/plain": [
              "(307511, 73)"
            ]
          },
          "metadata": {
            "tags": []
          },
          "execution_count": 11
        }
      ]
    },
    {
      "cell_type": "code",
      "metadata": {
        "colab": {
          "base_uri": "https://localhost:8080/"
        },
        "id": "Xz2RZ9nozo2E",
        "outputId": "365aeb3b-9597-4b2d-ed38-29e0b96f1da2"
      },
      "source": [
        "#Lets get information obout the dataframe now\n",
        "data_app.info(verbose=True,null_counts=False)"
      ],
      "execution_count": 12,
      "outputs": [
        {
          "output_type": "stream",
          "text": [
            "<class 'pandas.core.frame.DataFrame'>\n",
            "RangeIndex: 307511 entries, 0 to 307510\n",
            "Data columns (total 73 columns):\n",
            " #   Column                       Dtype  \n",
            "---  ------                       -----  \n",
            " 0   SK_ID_CURR                   int64  \n",
            " 1   TARGET                       int64  \n",
            " 2   NAME_CONTRACT_TYPE           object \n",
            " 3   CODE_GENDER                  object \n",
            " 4   FLAG_OWN_CAR                 object \n",
            " 5   FLAG_OWN_REALTY              object \n",
            " 6   CNT_CHILDREN                 int64  \n",
            " 7   AMT_INCOME_TOTAL             float64\n",
            " 8   AMT_CREDIT                   float64\n",
            " 9   AMT_ANNUITY                  float64\n",
            " 10  AMT_GOODS_PRICE              float64\n",
            " 11  NAME_TYPE_SUITE              object \n",
            " 12  NAME_INCOME_TYPE             object \n",
            " 13  NAME_EDUCATION_TYPE          object \n",
            " 14  NAME_FAMILY_STATUS           object \n",
            " 15  NAME_HOUSING_TYPE            object \n",
            " 16  REGION_POPULATION_RELATIVE   float64\n",
            " 17  DAYS_BIRTH                   int64  \n",
            " 18  DAYS_EMPLOYED                int64  \n",
            " 19  DAYS_REGISTRATION            float64\n",
            " 20  DAYS_ID_PUBLISH              int64  \n",
            " 21  FLAG_MOBIL                   int64  \n",
            " 22  FLAG_EMP_PHONE               int64  \n",
            " 23  FLAG_WORK_PHONE              int64  \n",
            " 24  FLAG_CONT_MOBILE             int64  \n",
            " 25  FLAG_PHONE                   int64  \n",
            " 26  FLAG_EMAIL                   int64  \n",
            " 27  OCCUPATION_TYPE              object \n",
            " 28  CNT_FAM_MEMBERS              float64\n",
            " 29  REGION_RATING_CLIENT         int64  \n",
            " 30  REGION_RATING_CLIENT_W_CITY  int64  \n",
            " 31  WEEKDAY_APPR_PROCESS_START   object \n",
            " 32  HOUR_APPR_PROCESS_START      int64  \n",
            " 33  REG_REGION_NOT_LIVE_REGION   int64  \n",
            " 34  REG_REGION_NOT_WORK_REGION   int64  \n",
            " 35  LIVE_REGION_NOT_WORK_REGION  int64  \n",
            " 36  REG_CITY_NOT_LIVE_CITY       int64  \n",
            " 37  REG_CITY_NOT_WORK_CITY       int64  \n",
            " 38  LIVE_CITY_NOT_WORK_CITY      int64  \n",
            " 39  ORGANIZATION_TYPE            object \n",
            " 40  EXT_SOURCE_2                 float64\n",
            " 41  EXT_SOURCE_3                 float64\n",
            " 42  OBS_30_CNT_SOCIAL_CIRCLE     float64\n",
            " 43  DEF_30_CNT_SOCIAL_CIRCLE     float64\n",
            " 44  OBS_60_CNT_SOCIAL_CIRCLE     float64\n",
            " 45  DEF_60_CNT_SOCIAL_CIRCLE     float64\n",
            " 46  DAYS_LAST_PHONE_CHANGE       float64\n",
            " 47  FLAG_DOCUMENT_2              int64  \n",
            " 48  FLAG_DOCUMENT_3              int64  \n",
            " 49  FLAG_DOCUMENT_4              int64  \n",
            " 50  FLAG_DOCUMENT_5              int64  \n",
            " 51  FLAG_DOCUMENT_6              int64  \n",
            " 52  FLAG_DOCUMENT_7              int64  \n",
            " 53  FLAG_DOCUMENT_8              int64  \n",
            " 54  FLAG_DOCUMENT_9              int64  \n",
            " 55  FLAG_DOCUMENT_10             int64  \n",
            " 56  FLAG_DOCUMENT_11             int64  \n",
            " 57  FLAG_DOCUMENT_12             int64  \n",
            " 58  FLAG_DOCUMENT_13             int64  \n",
            " 59  FLAG_DOCUMENT_14             int64  \n",
            " 60  FLAG_DOCUMENT_15             int64  \n",
            " 61  FLAG_DOCUMENT_16             int64  \n",
            " 62  FLAG_DOCUMENT_17             int64  \n",
            " 63  FLAG_DOCUMENT_18             int64  \n",
            " 64  FLAG_DOCUMENT_19             int64  \n",
            " 65  FLAG_DOCUMENT_20             int64  \n",
            " 66  FLAG_DOCUMENT_21             int64  \n",
            " 67  AMT_REQ_CREDIT_BUREAU_HOUR   float64\n",
            " 68  AMT_REQ_CREDIT_BUREAU_DAY    float64\n",
            " 69  AMT_REQ_CREDIT_BUREAU_WEEK   float64\n",
            " 70  AMT_REQ_CREDIT_BUREAU_MON    float64\n",
            " 71  AMT_REQ_CREDIT_BUREAU_QRT    float64\n",
            " 72  AMT_REQ_CREDIT_BUREAU_YEAR   float64\n",
            "dtypes: float64(20), int64(41), object(12)\n",
            "memory usage: 171.3+ MB\n"
          ],
          "name": "stdout"
        }
      ]
    },
    {
      "cell_type": "code",
      "metadata": {
        "id": "aBgh8syB7sqW"
      },
      "source": [
        " impute_cols = data_app.isnull().sum()/data_app_rows*100"
      ],
      "execution_count": 182,
      "outputs": []
    },
    {
      "cell_type": "code",
      "metadata": {
        "id": "vYR6Gi6I71MW"
      },
      "source": [
        "impute_cols_list = impute_cols[impute_cols>0].index.tolist()"
      ],
      "execution_count": 183,
      "outputs": []
    },
    {
      "cell_type": "code",
      "metadata": {
        "colab": {
          "base_uri": "https://localhost:8080/"
        },
        "id": "iOJf5bjG_hyH",
        "outputId": "8b9c8aa2-e99e-413c-9b6f-c3bcf56cb638"
      },
      "source": [
        "impute_cols_list"
      ],
      "execution_count": 184,
      "outputs": [
        {
          "output_type": "execute_result",
          "data": {
            "text/plain": [
              "['AMT_ANNUITY',\n",
              " 'AMT_GOODS_PRICE',\n",
              " 'NAME_TYPE_SUITE',\n",
              " 'OBS_30_CNT_SOCIAL_CIRCLE',\n",
              " 'DEF_30_CNT_SOCIAL_CIRCLE',\n",
              " 'OBS_60_CNT_SOCIAL_CIRCLE',\n",
              " 'DEF_60_CNT_SOCIAL_CIRCLE',\n",
              " 'DAYS_LAST_PHONE_CHANGE']"
            ]
          },
          "metadata": {
            "tags": []
          },
          "execution_count": 184
        }
      ]
    },
    {
      "cell_type": "code",
      "metadata": {
        "id": "Ca6LMz6f9EH2"
      },
      "source": [
        "null_data = data_app[data_app.isnull().any(axis=1)]"
      ],
      "execution_count": 16,
      "outputs": []
    },
    {
      "cell_type": "code",
      "metadata": {
        "colab": {
          "base_uri": "https://localhost:8080/",
          "height": 588
        },
        "id": "g_JB5fyp-diG",
        "outputId": "df56edb7-3508-4285-b409-6fcb8ff7a725"
      },
      "source": [
        "null_data"
      ],
      "execution_count": 17,
      "outputs": [
        {
          "output_type": "execute_result",
          "data": {
            "text/html": [
              "<div>\n",
              "<style scoped>\n",
              "    .dataframe tbody tr th:only-of-type {\n",
              "        vertical-align: middle;\n",
              "    }\n",
              "\n",
              "    .dataframe tbody tr th {\n",
              "        vertical-align: top;\n",
              "    }\n",
              "\n",
              "    .dataframe thead th {\n",
              "        text-align: right;\n",
              "    }\n",
              "</style>\n",
              "<table border=\"1\" class=\"dataframe\">\n",
              "  <thead>\n",
              "    <tr style=\"text-align: right;\">\n",
              "      <th></th>\n",
              "      <th>SK_ID_CURR</th>\n",
              "      <th>TARGET</th>\n",
              "      <th>NAME_CONTRACT_TYPE</th>\n",
              "      <th>CODE_GENDER</th>\n",
              "      <th>FLAG_OWN_CAR</th>\n",
              "      <th>FLAG_OWN_REALTY</th>\n",
              "      <th>CNT_CHILDREN</th>\n",
              "      <th>AMT_INCOME_TOTAL</th>\n",
              "      <th>AMT_CREDIT</th>\n",
              "      <th>AMT_ANNUITY</th>\n",
              "      <th>AMT_GOODS_PRICE</th>\n",
              "      <th>NAME_TYPE_SUITE</th>\n",
              "      <th>NAME_INCOME_TYPE</th>\n",
              "      <th>NAME_EDUCATION_TYPE</th>\n",
              "      <th>NAME_FAMILY_STATUS</th>\n",
              "      <th>NAME_HOUSING_TYPE</th>\n",
              "      <th>REGION_POPULATION_RELATIVE</th>\n",
              "      <th>DAYS_BIRTH</th>\n",
              "      <th>DAYS_EMPLOYED</th>\n",
              "      <th>DAYS_REGISTRATION</th>\n",
              "      <th>DAYS_ID_PUBLISH</th>\n",
              "      <th>FLAG_MOBIL</th>\n",
              "      <th>FLAG_EMP_PHONE</th>\n",
              "      <th>FLAG_WORK_PHONE</th>\n",
              "      <th>FLAG_CONT_MOBILE</th>\n",
              "      <th>FLAG_PHONE</th>\n",
              "      <th>FLAG_EMAIL</th>\n",
              "      <th>OCCUPATION_TYPE</th>\n",
              "      <th>CNT_FAM_MEMBERS</th>\n",
              "      <th>REGION_RATING_CLIENT</th>\n",
              "      <th>REGION_RATING_CLIENT_W_CITY</th>\n",
              "      <th>WEEKDAY_APPR_PROCESS_START</th>\n",
              "      <th>HOUR_APPR_PROCESS_START</th>\n",
              "      <th>REG_REGION_NOT_LIVE_REGION</th>\n",
              "      <th>REG_REGION_NOT_WORK_REGION</th>\n",
              "      <th>LIVE_REGION_NOT_WORK_REGION</th>\n",
              "      <th>REG_CITY_NOT_LIVE_CITY</th>\n",
              "      <th>REG_CITY_NOT_WORK_CITY</th>\n",
              "      <th>LIVE_CITY_NOT_WORK_CITY</th>\n",
              "      <th>ORGANIZATION_TYPE</th>\n",
              "      <th>EXT_SOURCE_2</th>\n",
              "      <th>EXT_SOURCE_3</th>\n",
              "      <th>OBS_30_CNT_SOCIAL_CIRCLE</th>\n",
              "      <th>DEF_30_CNT_SOCIAL_CIRCLE</th>\n",
              "      <th>OBS_60_CNT_SOCIAL_CIRCLE</th>\n",
              "      <th>DEF_60_CNT_SOCIAL_CIRCLE</th>\n",
              "      <th>DAYS_LAST_PHONE_CHANGE</th>\n",
              "      <th>FLAG_DOCUMENT_2</th>\n",
              "      <th>FLAG_DOCUMENT_3</th>\n",
              "      <th>FLAG_DOCUMENT_4</th>\n",
              "      <th>FLAG_DOCUMENT_5</th>\n",
              "      <th>FLAG_DOCUMENT_6</th>\n",
              "      <th>FLAG_DOCUMENT_7</th>\n",
              "      <th>FLAG_DOCUMENT_8</th>\n",
              "      <th>FLAG_DOCUMENT_9</th>\n",
              "      <th>FLAG_DOCUMENT_10</th>\n",
              "      <th>FLAG_DOCUMENT_11</th>\n",
              "      <th>FLAG_DOCUMENT_12</th>\n",
              "      <th>FLAG_DOCUMENT_13</th>\n",
              "      <th>FLAG_DOCUMENT_14</th>\n",
              "      <th>FLAG_DOCUMENT_15</th>\n",
              "      <th>FLAG_DOCUMENT_16</th>\n",
              "      <th>FLAG_DOCUMENT_17</th>\n",
              "      <th>FLAG_DOCUMENT_18</th>\n",
              "      <th>FLAG_DOCUMENT_19</th>\n",
              "      <th>FLAG_DOCUMENT_20</th>\n",
              "      <th>FLAG_DOCUMENT_21</th>\n",
              "      <th>AMT_REQ_CREDIT_BUREAU_HOUR</th>\n",
              "      <th>AMT_REQ_CREDIT_BUREAU_DAY</th>\n",
              "      <th>AMT_REQ_CREDIT_BUREAU_WEEK</th>\n",
              "      <th>AMT_REQ_CREDIT_BUREAU_MON</th>\n",
              "      <th>AMT_REQ_CREDIT_BUREAU_QRT</th>\n",
              "      <th>AMT_REQ_CREDIT_BUREAU_YEAR</th>\n",
              "    </tr>\n",
              "  </thead>\n",
              "  <tbody>\n",
              "    <tr>\n",
              "      <th>1</th>\n",
              "      <td>100003</td>\n",
              "      <td>0</td>\n",
              "      <td>Cash loans</td>\n",
              "      <td>F</td>\n",
              "      <td>N</td>\n",
              "      <td>N</td>\n",
              "      <td>0</td>\n",
              "      <td>270000.0</td>\n",
              "      <td>1293502.5</td>\n",
              "      <td>35698.5</td>\n",
              "      <td>1129500.0</td>\n",
              "      <td>Family</td>\n",
              "      <td>State servant</td>\n",
              "      <td>Higher education</td>\n",
              "      <td>Married</td>\n",
              "      <td>House / apartment</td>\n",
              "      <td>0.003541</td>\n",
              "      <td>-16765</td>\n",
              "      <td>-1188</td>\n",
              "      <td>-1186.0</td>\n",
              "      <td>-291</td>\n",
              "      <td>1</td>\n",
              "      <td>1</td>\n",
              "      <td>0</td>\n",
              "      <td>1</td>\n",
              "      <td>1</td>\n",
              "      <td>0</td>\n",
              "      <td>Core staff</td>\n",
              "      <td>2.0</td>\n",
              "      <td>1</td>\n",
              "      <td>1</td>\n",
              "      <td>MONDAY</td>\n",
              "      <td>11</td>\n",
              "      <td>0</td>\n",
              "      <td>0</td>\n",
              "      <td>0</td>\n",
              "      <td>0</td>\n",
              "      <td>0</td>\n",
              "      <td>0</td>\n",
              "      <td>School</td>\n",
              "      <td>0.622246</td>\n",
              "      <td>NaN</td>\n",
              "      <td>1.0</td>\n",
              "      <td>0.0</td>\n",
              "      <td>1.0</td>\n",
              "      <td>0.0</td>\n",
              "      <td>-828.0</td>\n",
              "      <td>0</td>\n",
              "      <td>1</td>\n",
              "      <td>0</td>\n",
              "      <td>0</td>\n",
              "      <td>0</td>\n",
              "      <td>0</td>\n",
              "      <td>0</td>\n",
              "      <td>0</td>\n",
              "      <td>0</td>\n",
              "      <td>0</td>\n",
              "      <td>0</td>\n",
              "      <td>0</td>\n",
              "      <td>0</td>\n",
              "      <td>0</td>\n",
              "      <td>0</td>\n",
              "      <td>0</td>\n",
              "      <td>0</td>\n",
              "      <td>0</td>\n",
              "      <td>0</td>\n",
              "      <td>0</td>\n",
              "      <td>0.0</td>\n",
              "      <td>0.0</td>\n",
              "      <td>0.0</td>\n",
              "      <td>0.0</td>\n",
              "      <td>0.0</td>\n",
              "      <td>0.0</td>\n",
              "    </tr>\n",
              "    <tr>\n",
              "      <th>3</th>\n",
              "      <td>100006</td>\n",
              "      <td>0</td>\n",
              "      <td>Cash loans</td>\n",
              "      <td>F</td>\n",
              "      <td>N</td>\n",
              "      <td>Y</td>\n",
              "      <td>0</td>\n",
              "      <td>135000.0</td>\n",
              "      <td>312682.5</td>\n",
              "      <td>29686.5</td>\n",
              "      <td>297000.0</td>\n",
              "      <td>Unaccompanied</td>\n",
              "      <td>Working</td>\n",
              "      <td>Secondary / secondary special</td>\n",
              "      <td>Civil marriage</td>\n",
              "      <td>House / apartment</td>\n",
              "      <td>0.008019</td>\n",
              "      <td>-19005</td>\n",
              "      <td>-3039</td>\n",
              "      <td>-9833.0</td>\n",
              "      <td>-2437</td>\n",
              "      <td>1</td>\n",
              "      <td>1</td>\n",
              "      <td>0</td>\n",
              "      <td>1</td>\n",
              "      <td>0</td>\n",
              "      <td>0</td>\n",
              "      <td>Laborers</td>\n",
              "      <td>2.0</td>\n",
              "      <td>2</td>\n",
              "      <td>2</td>\n",
              "      <td>WEDNESDAY</td>\n",
              "      <td>17</td>\n",
              "      <td>0</td>\n",
              "      <td>0</td>\n",
              "      <td>0</td>\n",
              "      <td>0</td>\n",
              "      <td>0</td>\n",
              "      <td>0</td>\n",
              "      <td>Business Entity Type 3</td>\n",
              "      <td>0.650442</td>\n",
              "      <td>NaN</td>\n",
              "      <td>2.0</td>\n",
              "      <td>0.0</td>\n",
              "      <td>2.0</td>\n",
              "      <td>0.0</td>\n",
              "      <td>-617.0</td>\n",
              "      <td>0</td>\n",
              "      <td>1</td>\n",
              "      <td>0</td>\n",
              "      <td>0</td>\n",
              "      <td>0</td>\n",
              "      <td>0</td>\n",
              "      <td>0</td>\n",
              "      <td>0</td>\n",
              "      <td>0</td>\n",
              "      <td>0</td>\n",
              "      <td>0</td>\n",
              "      <td>0</td>\n",
              "      <td>0</td>\n",
              "      <td>0</td>\n",
              "      <td>0</td>\n",
              "      <td>0</td>\n",
              "      <td>0</td>\n",
              "      <td>0</td>\n",
              "      <td>0</td>\n",
              "      <td>0</td>\n",
              "      <td>NaN</td>\n",
              "      <td>NaN</td>\n",
              "      <td>NaN</td>\n",
              "      <td>NaN</td>\n",
              "      <td>NaN</td>\n",
              "      <td>NaN</td>\n",
              "    </tr>\n",
              "    <tr>\n",
              "      <th>4</th>\n",
              "      <td>100007</td>\n",
              "      <td>0</td>\n",
              "      <td>Cash loans</td>\n",
              "      <td>M</td>\n",
              "      <td>N</td>\n",
              "      <td>Y</td>\n",
              "      <td>0</td>\n",
              "      <td>121500.0</td>\n",
              "      <td>513000.0</td>\n",
              "      <td>21865.5</td>\n",
              "      <td>513000.0</td>\n",
              "      <td>Unaccompanied</td>\n",
              "      <td>Working</td>\n",
              "      <td>Secondary / secondary special</td>\n",
              "      <td>Single / not married</td>\n",
              "      <td>House / apartment</td>\n",
              "      <td>0.028663</td>\n",
              "      <td>-19932</td>\n",
              "      <td>-3038</td>\n",
              "      <td>-4311.0</td>\n",
              "      <td>-3458</td>\n",
              "      <td>1</td>\n",
              "      <td>1</td>\n",
              "      <td>0</td>\n",
              "      <td>1</td>\n",
              "      <td>0</td>\n",
              "      <td>0</td>\n",
              "      <td>Core staff</td>\n",
              "      <td>1.0</td>\n",
              "      <td>2</td>\n",
              "      <td>2</td>\n",
              "      <td>THURSDAY</td>\n",
              "      <td>11</td>\n",
              "      <td>0</td>\n",
              "      <td>0</td>\n",
              "      <td>0</td>\n",
              "      <td>0</td>\n",
              "      <td>1</td>\n",
              "      <td>1</td>\n",
              "      <td>Religion</td>\n",
              "      <td>0.322738</td>\n",
              "      <td>NaN</td>\n",
              "      <td>0.0</td>\n",
              "      <td>0.0</td>\n",
              "      <td>0.0</td>\n",
              "      <td>0.0</td>\n",
              "      <td>-1106.0</td>\n",
              "      <td>0</td>\n",
              "      <td>0</td>\n",
              "      <td>0</td>\n",
              "      <td>0</td>\n",
              "      <td>0</td>\n",
              "      <td>0</td>\n",
              "      <td>1</td>\n",
              "      <td>0</td>\n",
              "      <td>0</td>\n",
              "      <td>0</td>\n",
              "      <td>0</td>\n",
              "      <td>0</td>\n",
              "      <td>0</td>\n",
              "      <td>0</td>\n",
              "      <td>0</td>\n",
              "      <td>0</td>\n",
              "      <td>0</td>\n",
              "      <td>0</td>\n",
              "      <td>0</td>\n",
              "      <td>0</td>\n",
              "      <td>0.0</td>\n",
              "      <td>0.0</td>\n",
              "      <td>0.0</td>\n",
              "      <td>0.0</td>\n",
              "      <td>0.0</td>\n",
              "      <td>0.0</td>\n",
              "    </tr>\n",
              "    <tr>\n",
              "      <th>8</th>\n",
              "      <td>100011</td>\n",
              "      <td>0</td>\n",
              "      <td>Cash loans</td>\n",
              "      <td>F</td>\n",
              "      <td>N</td>\n",
              "      <td>Y</td>\n",
              "      <td>0</td>\n",
              "      <td>112500.0</td>\n",
              "      <td>1019610.0</td>\n",
              "      <td>33826.5</td>\n",
              "      <td>913500.0</td>\n",
              "      <td>Children</td>\n",
              "      <td>Pensioner</td>\n",
              "      <td>Secondary / secondary special</td>\n",
              "      <td>Married</td>\n",
              "      <td>House / apartment</td>\n",
              "      <td>0.018634</td>\n",
              "      <td>-20099</td>\n",
              "      <td>365243</td>\n",
              "      <td>-7427.0</td>\n",
              "      <td>-3514</td>\n",
              "      <td>1</td>\n",
              "      <td>0</td>\n",
              "      <td>0</td>\n",
              "      <td>1</td>\n",
              "      <td>0</td>\n",
              "      <td>0</td>\n",
              "      <td>NaN</td>\n",
              "      <td>2.0</td>\n",
              "      <td>2</td>\n",
              "      <td>2</td>\n",
              "      <td>WEDNESDAY</td>\n",
              "      <td>14</td>\n",
              "      <td>0</td>\n",
              "      <td>0</td>\n",
              "      <td>0</td>\n",
              "      <td>0</td>\n",
              "      <td>0</td>\n",
              "      <td>0</td>\n",
              "      <td>XNA</td>\n",
              "      <td>0.205747</td>\n",
              "      <td>0.751724</td>\n",
              "      <td>1.0</td>\n",
              "      <td>0.0</td>\n",
              "      <td>1.0</td>\n",
              "      <td>0.0</td>\n",
              "      <td>0.0</td>\n",
              "      <td>0</td>\n",
              "      <td>1</td>\n",
              "      <td>0</td>\n",
              "      <td>0</td>\n",
              "      <td>0</td>\n",
              "      <td>0</td>\n",
              "      <td>0</td>\n",
              "      <td>0</td>\n",
              "      <td>0</td>\n",
              "      <td>0</td>\n",
              "      <td>0</td>\n",
              "      <td>0</td>\n",
              "      <td>0</td>\n",
              "      <td>0</td>\n",
              "      <td>0</td>\n",
              "      <td>0</td>\n",
              "      <td>0</td>\n",
              "      <td>0</td>\n",
              "      <td>0</td>\n",
              "      <td>0</td>\n",
              "      <td>0.0</td>\n",
              "      <td>0.0</td>\n",
              "      <td>0.0</td>\n",
              "      <td>0.0</td>\n",
              "      <td>0.0</td>\n",
              "      <td>1.0</td>\n",
              "    </tr>\n",
              "    <tr>\n",
              "      <th>9</th>\n",
              "      <td>100012</td>\n",
              "      <td>0</td>\n",
              "      <td>Revolving loans</td>\n",
              "      <td>M</td>\n",
              "      <td>N</td>\n",
              "      <td>Y</td>\n",
              "      <td>0</td>\n",
              "      <td>135000.0</td>\n",
              "      <td>405000.0</td>\n",
              "      <td>20250.0</td>\n",
              "      <td>405000.0</td>\n",
              "      <td>Unaccompanied</td>\n",
              "      <td>Working</td>\n",
              "      <td>Secondary / secondary special</td>\n",
              "      <td>Single / not married</td>\n",
              "      <td>House / apartment</td>\n",
              "      <td>0.019689</td>\n",
              "      <td>-14469</td>\n",
              "      <td>-2019</td>\n",
              "      <td>-14437.0</td>\n",
              "      <td>-3992</td>\n",
              "      <td>1</td>\n",
              "      <td>1</td>\n",
              "      <td>0</td>\n",
              "      <td>1</td>\n",
              "      <td>0</td>\n",
              "      <td>0</td>\n",
              "      <td>Laborers</td>\n",
              "      <td>1.0</td>\n",
              "      <td>2</td>\n",
              "      <td>2</td>\n",
              "      <td>THURSDAY</td>\n",
              "      <td>8</td>\n",
              "      <td>0</td>\n",
              "      <td>0</td>\n",
              "      <td>0</td>\n",
              "      <td>0</td>\n",
              "      <td>0</td>\n",
              "      <td>0</td>\n",
              "      <td>Electricity</td>\n",
              "      <td>0.746644</td>\n",
              "      <td>NaN</td>\n",
              "      <td>2.0</td>\n",
              "      <td>0.0</td>\n",
              "      <td>2.0</td>\n",
              "      <td>0.0</td>\n",
              "      <td>-1673.0</td>\n",
              "      <td>0</td>\n",
              "      <td>0</td>\n",
              "      <td>0</td>\n",
              "      <td>0</td>\n",
              "      <td>0</td>\n",
              "      <td>0</td>\n",
              "      <td>0</td>\n",
              "      <td>0</td>\n",
              "      <td>0</td>\n",
              "      <td>0</td>\n",
              "      <td>0</td>\n",
              "      <td>0</td>\n",
              "      <td>0</td>\n",
              "      <td>0</td>\n",
              "      <td>0</td>\n",
              "      <td>0</td>\n",
              "      <td>0</td>\n",
              "      <td>0</td>\n",
              "      <td>0</td>\n",
              "      <td>0</td>\n",
              "      <td>NaN</td>\n",
              "      <td>NaN</td>\n",
              "      <td>NaN</td>\n",
              "      <td>NaN</td>\n",
              "      <td>NaN</td>\n",
              "      <td>NaN</td>\n",
              "    </tr>\n",
              "    <tr>\n",
              "      <th>...</th>\n",
              "      <td>...</td>\n",
              "      <td>...</td>\n",
              "      <td>...</td>\n",
              "      <td>...</td>\n",
              "      <td>...</td>\n",
              "      <td>...</td>\n",
              "      <td>...</td>\n",
              "      <td>...</td>\n",
              "      <td>...</td>\n",
              "      <td>...</td>\n",
              "      <td>...</td>\n",
              "      <td>...</td>\n",
              "      <td>...</td>\n",
              "      <td>...</td>\n",
              "      <td>...</td>\n",
              "      <td>...</td>\n",
              "      <td>...</td>\n",
              "      <td>...</td>\n",
              "      <td>...</td>\n",
              "      <td>...</td>\n",
              "      <td>...</td>\n",
              "      <td>...</td>\n",
              "      <td>...</td>\n",
              "      <td>...</td>\n",
              "      <td>...</td>\n",
              "      <td>...</td>\n",
              "      <td>...</td>\n",
              "      <td>...</td>\n",
              "      <td>...</td>\n",
              "      <td>...</td>\n",
              "      <td>...</td>\n",
              "      <td>...</td>\n",
              "      <td>...</td>\n",
              "      <td>...</td>\n",
              "      <td>...</td>\n",
              "      <td>...</td>\n",
              "      <td>...</td>\n",
              "      <td>...</td>\n",
              "      <td>...</td>\n",
              "      <td>...</td>\n",
              "      <td>...</td>\n",
              "      <td>...</td>\n",
              "      <td>...</td>\n",
              "      <td>...</td>\n",
              "      <td>...</td>\n",
              "      <td>...</td>\n",
              "      <td>...</td>\n",
              "      <td>...</td>\n",
              "      <td>...</td>\n",
              "      <td>...</td>\n",
              "      <td>...</td>\n",
              "      <td>...</td>\n",
              "      <td>...</td>\n",
              "      <td>...</td>\n",
              "      <td>...</td>\n",
              "      <td>...</td>\n",
              "      <td>...</td>\n",
              "      <td>...</td>\n",
              "      <td>...</td>\n",
              "      <td>...</td>\n",
              "      <td>...</td>\n",
              "      <td>...</td>\n",
              "      <td>...</td>\n",
              "      <td>...</td>\n",
              "      <td>...</td>\n",
              "      <td>...</td>\n",
              "      <td>...</td>\n",
              "      <td>...</td>\n",
              "      <td>...</td>\n",
              "      <td>...</td>\n",
              "      <td>...</td>\n",
              "      <td>...</td>\n",
              "      <td>...</td>\n",
              "    </tr>\n",
              "    <tr>\n",
              "      <th>307501</th>\n",
              "      <td>456245</td>\n",
              "      <td>0</td>\n",
              "      <td>Cash loans</td>\n",
              "      <td>F</td>\n",
              "      <td>N</td>\n",
              "      <td>Y</td>\n",
              "      <td>3</td>\n",
              "      <td>81000.0</td>\n",
              "      <td>269550.0</td>\n",
              "      <td>11871.0</td>\n",
              "      <td>225000.0</td>\n",
              "      <td>Unaccompanied</td>\n",
              "      <td>Commercial associate</td>\n",
              "      <td>Secondary / secondary special</td>\n",
              "      <td>Married</td>\n",
              "      <td>House / apartment</td>\n",
              "      <td>0.009175</td>\n",
              "      <td>-12961</td>\n",
              "      <td>-1046</td>\n",
              "      <td>-1398.0</td>\n",
              "      <td>-3780</td>\n",
              "      <td>1</td>\n",
              "      <td>1</td>\n",
              "      <td>1</td>\n",
              "      <td>1</td>\n",
              "      <td>0</td>\n",
              "      <td>0</td>\n",
              "      <td>Low-skill Laborers</td>\n",
              "      <td>5.0</td>\n",
              "      <td>2</td>\n",
              "      <td>2</td>\n",
              "      <td>WEDNESDAY</td>\n",
              "      <td>14</td>\n",
              "      <td>0</td>\n",
              "      <td>0</td>\n",
              "      <td>0</td>\n",
              "      <td>0</td>\n",
              "      <td>0</td>\n",
              "      <td>0</td>\n",
              "      <td>Industry: type 1</td>\n",
              "      <td>0.575481</td>\n",
              "      <td>NaN</td>\n",
              "      <td>2.0</td>\n",
              "      <td>1.0</td>\n",
              "      <td>2.0</td>\n",
              "      <td>1.0</td>\n",
              "      <td>-448.0</td>\n",
              "      <td>0</td>\n",
              "      <td>1</td>\n",
              "      <td>0</td>\n",
              "      <td>0</td>\n",
              "      <td>0</td>\n",
              "      <td>0</td>\n",
              "      <td>0</td>\n",
              "      <td>0</td>\n",
              "      <td>0</td>\n",
              "      <td>0</td>\n",
              "      <td>0</td>\n",
              "      <td>0</td>\n",
              "      <td>0</td>\n",
              "      <td>0</td>\n",
              "      <td>0</td>\n",
              "      <td>0</td>\n",
              "      <td>0</td>\n",
              "      <td>0</td>\n",
              "      <td>0</td>\n",
              "      <td>0</td>\n",
              "      <td>NaN</td>\n",
              "      <td>NaN</td>\n",
              "      <td>NaN</td>\n",
              "      <td>NaN</td>\n",
              "      <td>NaN</td>\n",
              "      <td>NaN</td>\n",
              "    </tr>\n",
              "    <tr>\n",
              "      <th>307504</th>\n",
              "      <td>456248</td>\n",
              "      <td>0</td>\n",
              "      <td>Cash loans</td>\n",
              "      <td>F</td>\n",
              "      <td>N</td>\n",
              "      <td>Y</td>\n",
              "      <td>0</td>\n",
              "      <td>153000.0</td>\n",
              "      <td>331920.0</td>\n",
              "      <td>16096.5</td>\n",
              "      <td>225000.0</td>\n",
              "      <td>Unaccompanied</td>\n",
              "      <td>Working</td>\n",
              "      <td>Secondary / secondary special</td>\n",
              "      <td>Separated</td>\n",
              "      <td>House / apartment</td>\n",
              "      <td>0.022625</td>\n",
              "      <td>-16705</td>\n",
              "      <td>-7258</td>\n",
              "      <td>-9798.0</td>\n",
              "      <td>-259</td>\n",
              "      <td>1</td>\n",
              "      <td>1</td>\n",
              "      <td>0</td>\n",
              "      <td>1</td>\n",
              "      <td>0</td>\n",
              "      <td>0</td>\n",
              "      <td>Sales staff</td>\n",
              "      <td>1.0</td>\n",
              "      <td>2</td>\n",
              "      <td>2</td>\n",
              "      <td>WEDNESDAY</td>\n",
              "      <td>11</td>\n",
              "      <td>0</td>\n",
              "      <td>0</td>\n",
              "      <td>0</td>\n",
              "      <td>0</td>\n",
              "      <td>0</td>\n",
              "      <td>0</td>\n",
              "      <td>Self-employed</td>\n",
              "      <td>0.530725</td>\n",
              "      <td>NaN</td>\n",
              "      <td>0.0</td>\n",
              "      <td>0.0</td>\n",
              "      <td>0.0</td>\n",
              "      <td>0.0</td>\n",
              "      <td>0.0</td>\n",
              "      <td>0</td>\n",
              "      <td>1</td>\n",
              "      <td>0</td>\n",
              "      <td>0</td>\n",
              "      <td>0</td>\n",
              "      <td>0</td>\n",
              "      <td>0</td>\n",
              "      <td>0</td>\n",
              "      <td>0</td>\n",
              "      <td>0</td>\n",
              "      <td>0</td>\n",
              "      <td>0</td>\n",
              "      <td>0</td>\n",
              "      <td>0</td>\n",
              "      <td>0</td>\n",
              "      <td>0</td>\n",
              "      <td>0</td>\n",
              "      <td>0</td>\n",
              "      <td>0</td>\n",
              "      <td>0</td>\n",
              "      <td>NaN</td>\n",
              "      <td>NaN</td>\n",
              "      <td>NaN</td>\n",
              "      <td>NaN</td>\n",
              "      <td>NaN</td>\n",
              "      <td>NaN</td>\n",
              "    </tr>\n",
              "    <tr>\n",
              "      <th>307505</th>\n",
              "      <td>456249</td>\n",
              "      <td>0</td>\n",
              "      <td>Cash loans</td>\n",
              "      <td>F</td>\n",
              "      <td>N</td>\n",
              "      <td>Y</td>\n",
              "      <td>0</td>\n",
              "      <td>112500.0</td>\n",
              "      <td>225000.0</td>\n",
              "      <td>22050.0</td>\n",
              "      <td>225000.0</td>\n",
              "      <td>Unaccompanied</td>\n",
              "      <td>Pensioner</td>\n",
              "      <td>Secondary / secondary special</td>\n",
              "      <td>Single / not married</td>\n",
              "      <td>House / apartment</td>\n",
              "      <td>0.022800</td>\n",
              "      <td>-24384</td>\n",
              "      <td>365243</td>\n",
              "      <td>-7369.0</td>\n",
              "      <td>-2357</td>\n",
              "      <td>1</td>\n",
              "      <td>0</td>\n",
              "      <td>0</td>\n",
              "      <td>1</td>\n",
              "      <td>1</td>\n",
              "      <td>0</td>\n",
              "      <td>NaN</td>\n",
              "      <td>1.0</td>\n",
              "      <td>2</td>\n",
              "      <td>2</td>\n",
              "      <td>MONDAY</td>\n",
              "      <td>15</td>\n",
              "      <td>0</td>\n",
              "      <td>0</td>\n",
              "      <td>0</td>\n",
              "      <td>0</td>\n",
              "      <td>0</td>\n",
              "      <td>0</td>\n",
              "      <td>XNA</td>\n",
              "      <td>0.346391</td>\n",
              "      <td>0.742182</td>\n",
              "      <td>0.0</td>\n",
              "      <td>0.0</td>\n",
              "      <td>0.0</td>\n",
              "      <td>0.0</td>\n",
              "      <td>0.0</td>\n",
              "      <td>0</td>\n",
              "      <td>0</td>\n",
              "      <td>0</td>\n",
              "      <td>0</td>\n",
              "      <td>1</td>\n",
              "      <td>0</td>\n",
              "      <td>0</td>\n",
              "      <td>0</td>\n",
              "      <td>0</td>\n",
              "      <td>0</td>\n",
              "      <td>0</td>\n",
              "      <td>0</td>\n",
              "      <td>0</td>\n",
              "      <td>0</td>\n",
              "      <td>0</td>\n",
              "      <td>0</td>\n",
              "      <td>0</td>\n",
              "      <td>0</td>\n",
              "      <td>0</td>\n",
              "      <td>0</td>\n",
              "      <td>0.0</td>\n",
              "      <td>0.0</td>\n",
              "      <td>0.0</td>\n",
              "      <td>2.0</td>\n",
              "      <td>0.0</td>\n",
              "      <td>0.0</td>\n",
              "    </tr>\n",
              "    <tr>\n",
              "      <th>307506</th>\n",
              "      <td>456251</td>\n",
              "      <td>0</td>\n",
              "      <td>Cash loans</td>\n",
              "      <td>M</td>\n",
              "      <td>N</td>\n",
              "      <td>N</td>\n",
              "      <td>0</td>\n",
              "      <td>157500.0</td>\n",
              "      <td>254700.0</td>\n",
              "      <td>27558.0</td>\n",
              "      <td>225000.0</td>\n",
              "      <td>Unaccompanied</td>\n",
              "      <td>Working</td>\n",
              "      <td>Secondary / secondary special</td>\n",
              "      <td>Separated</td>\n",
              "      <td>With parents</td>\n",
              "      <td>0.032561</td>\n",
              "      <td>-9327</td>\n",
              "      <td>-236</td>\n",
              "      <td>-8456.0</td>\n",
              "      <td>-1982</td>\n",
              "      <td>1</td>\n",
              "      <td>1</td>\n",
              "      <td>0</td>\n",
              "      <td>1</td>\n",
              "      <td>0</td>\n",
              "      <td>0</td>\n",
              "      <td>Sales staff</td>\n",
              "      <td>1.0</td>\n",
              "      <td>1</td>\n",
              "      <td>1</td>\n",
              "      <td>THURSDAY</td>\n",
              "      <td>15</td>\n",
              "      <td>0</td>\n",
              "      <td>0</td>\n",
              "      <td>0</td>\n",
              "      <td>0</td>\n",
              "      <td>0</td>\n",
              "      <td>0</td>\n",
              "      <td>Services</td>\n",
              "      <td>0.681632</td>\n",
              "      <td>NaN</td>\n",
              "      <td>0.0</td>\n",
              "      <td>0.0</td>\n",
              "      <td>0.0</td>\n",
              "      <td>0.0</td>\n",
              "      <td>-273.0</td>\n",
              "      <td>0</td>\n",
              "      <td>0</td>\n",
              "      <td>0</td>\n",
              "      <td>0</td>\n",
              "      <td>0</td>\n",
              "      <td>0</td>\n",
              "      <td>1</td>\n",
              "      <td>0</td>\n",
              "      <td>0</td>\n",
              "      <td>0</td>\n",
              "      <td>0</td>\n",
              "      <td>0</td>\n",
              "      <td>0</td>\n",
              "      <td>0</td>\n",
              "      <td>0</td>\n",
              "      <td>0</td>\n",
              "      <td>0</td>\n",
              "      <td>0</td>\n",
              "      <td>0</td>\n",
              "      <td>0</td>\n",
              "      <td>NaN</td>\n",
              "      <td>NaN</td>\n",
              "      <td>NaN</td>\n",
              "      <td>NaN</td>\n",
              "      <td>NaN</td>\n",
              "      <td>NaN</td>\n",
              "    </tr>\n",
              "    <tr>\n",
              "      <th>307507</th>\n",
              "      <td>456252</td>\n",
              "      <td>0</td>\n",
              "      <td>Cash loans</td>\n",
              "      <td>F</td>\n",
              "      <td>N</td>\n",
              "      <td>Y</td>\n",
              "      <td>0</td>\n",
              "      <td>72000.0</td>\n",
              "      <td>269550.0</td>\n",
              "      <td>12001.5</td>\n",
              "      <td>225000.0</td>\n",
              "      <td>Unaccompanied</td>\n",
              "      <td>Pensioner</td>\n",
              "      <td>Secondary / secondary special</td>\n",
              "      <td>Widow</td>\n",
              "      <td>House / apartment</td>\n",
              "      <td>0.025164</td>\n",
              "      <td>-20775</td>\n",
              "      <td>365243</td>\n",
              "      <td>-4388.0</td>\n",
              "      <td>-4090</td>\n",
              "      <td>1</td>\n",
              "      <td>0</td>\n",
              "      <td>0</td>\n",
              "      <td>1</td>\n",
              "      <td>1</td>\n",
              "      <td>0</td>\n",
              "      <td>NaN</td>\n",
              "      <td>1.0</td>\n",
              "      <td>2</td>\n",
              "      <td>2</td>\n",
              "      <td>MONDAY</td>\n",
              "      <td>8</td>\n",
              "      <td>0</td>\n",
              "      <td>0</td>\n",
              "      <td>0</td>\n",
              "      <td>0</td>\n",
              "      <td>0</td>\n",
              "      <td>0</td>\n",
              "      <td>XNA</td>\n",
              "      <td>0.115992</td>\n",
              "      <td>NaN</td>\n",
              "      <td>0.0</td>\n",
              "      <td>0.0</td>\n",
              "      <td>0.0</td>\n",
              "      <td>0.0</td>\n",
              "      <td>0.0</td>\n",
              "      <td>0</td>\n",
              "      <td>1</td>\n",
              "      <td>0</td>\n",
              "      <td>0</td>\n",
              "      <td>0</td>\n",
              "      <td>0</td>\n",
              "      <td>0</td>\n",
              "      <td>0</td>\n",
              "      <td>0</td>\n",
              "      <td>0</td>\n",
              "      <td>0</td>\n",
              "      <td>0</td>\n",
              "      <td>0</td>\n",
              "      <td>0</td>\n",
              "      <td>0</td>\n",
              "      <td>0</td>\n",
              "      <td>0</td>\n",
              "      <td>0</td>\n",
              "      <td>0</td>\n",
              "      <td>0</td>\n",
              "      <td>NaN</td>\n",
              "      <td>NaN</td>\n",
              "      <td>NaN</td>\n",
              "      <td>NaN</td>\n",
              "      <td>NaN</td>\n",
              "      <td>NaN</td>\n",
              "    </tr>\n",
              "  </tbody>\n",
              "</table>\n",
              "<p>139779 rows × 73 columns</p>\n",
              "</div>"
            ],
            "text/plain": [
              "        SK_ID_CURR  ...  AMT_REQ_CREDIT_BUREAU_YEAR\n",
              "1           100003  ...                         0.0\n",
              "3           100006  ...                         NaN\n",
              "4           100007  ...                         0.0\n",
              "8           100011  ...                         1.0\n",
              "9           100012  ...                         NaN\n",
              "...            ...  ...                         ...\n",
              "307501      456245  ...                         NaN\n",
              "307504      456248  ...                         NaN\n",
              "307505      456249  ...                         0.0\n",
              "307506      456251  ...                         NaN\n",
              "307507      456252  ...                         NaN\n",
              "\n",
              "[139779 rows x 73 columns]"
            ]
          },
          "metadata": {
            "tags": []
          },
          "execution_count": 17
        }
      ]
    },
    {
      "cell_type": "code",
      "metadata": {
        "colab": {
          "base_uri": "https://localhost:8080/"
        },
        "id": "MtgyrfL7_Vkm",
        "outputId": "f683007c-6c19-401b-c067-0d1dad36d9b8"
      },
      "source": [
        "data_app['EXT_SOURCE_3'].value_counts(normalize=True)"
      ],
      "execution_count": 18,
      "outputs": [
        {
          "output_type": "execute_result",
          "data": {
            "text/plain": [
              "0.746300    0.005922\n",
              "0.713631    0.005334\n",
              "0.694093    0.005176\n",
              "0.670652    0.004831\n",
              "0.652897    0.004681\n",
              "              ...   \n",
              "0.018137    0.000004\n",
              "0.017017    0.000004\n",
              "0.858178    0.000004\n",
              "0.018924    0.000004\n",
              "0.024057    0.000004\n",
              "Name: EXT_SOURCE_3, Length: 814, dtype: float64"
            ]
          },
          "metadata": {
            "tags": []
          },
          "execution_count": 18
        }
      ]
    },
    {
      "cell_type": "code",
      "metadata": {
        "id": "ZGAPNE8HBFKl"
      },
      "source": [
        "#This is normalized score form data source 3, we can impute missing values with average value\n",
        "data_app['EXT_SOURCE_3'].fillna(data_app.EXT_SOURCE_3.mean,inplace=True)"
      ],
      "execution_count": 19,
      "outputs": []
    },
    {
      "cell_type": "code",
      "metadata": {
        "colab": {
          "base_uri": "https://localhost:8080/"
        },
        "id": "vAX7V_kzt8gU",
        "outputId": "af42659b-beb4-4087-99a5-aa8958de372f"
      },
      "source": [
        "data_app['EXT_SOURCE_2'].value_counts(normalize=True)"
      ],
      "execution_count": 20,
      "outputs": [
        {
          "output_type": "execute_result",
          "data": {
            "text/plain": [
              "0.285898    0.002350\n",
              "0.262258    0.001359\n",
              "0.265256    0.001118\n",
              "0.159679    0.001049\n",
              "0.265312    0.000997\n",
              "              ...   \n",
              "0.169134    0.000003\n",
              "0.213753    0.000003\n",
              "0.057994    0.000003\n",
              "0.229146    0.000003\n",
              "0.336367    0.000003\n",
              "Name: EXT_SOURCE_2, Length: 119831, dtype: float64"
            ]
          },
          "metadata": {
            "tags": []
          },
          "execution_count": 20
        }
      ]
    },
    {
      "cell_type": "code",
      "metadata": {
        "colab": {
          "base_uri": "https://localhost:8080/"
        },
        "id": "jB7lbUsruP1s",
        "outputId": "6887fb58-e478-4d89-b327-7d317e2a7c1b"
      },
      "source": [
        "data_app['OCCUPATION_TYPE'].isnull().sum()"
      ],
      "execution_count": 23,
      "outputs": [
        {
          "output_type": "execute_result",
          "data": {
            "text/plain": [
              "96391"
            ]
          },
          "metadata": {
            "tags": []
          },
          "execution_count": 23
        }
      ]
    },
    {
      "cell_type": "code",
      "metadata": {
        "colab": {
          "base_uri": "https://localhost:8080/"
        },
        "id": "DRLDi_EhvIES",
        "outputId": "82ebdb7e-e8fb-4641-9921-a515da61abb4"
      },
      "source": [
        "data_app['OCCUPATION_TYPE'].value_counts()"
      ],
      "execution_count": 27,
      "outputs": [
        {
          "output_type": "execute_result",
          "data": {
            "text/plain": [
              "Unavailable              96391\n",
              "Laborers                 55186\n",
              "Sales staff              32102\n",
              "Core staff               27570\n",
              "Managers                 21371\n",
              "Drivers                  18603\n",
              "High skill tech staff    11380\n",
              "Accountants               9813\n",
              "Medicine staff            8537\n",
              "Security staff            6721\n",
              "Cooking staff             5946\n",
              "Cleaning staff            4653\n",
              "Private service staff     2652\n",
              "Low-skill Laborers        2093\n",
              "Waiters/barmen staff      1348\n",
              "Secretaries               1305\n",
              "Realty agents              751\n",
              "HR staff                   563\n",
              "IT staff                   526\n",
              "Name: OCCUPATION_TYPE, dtype: int64"
            ]
          },
          "metadata": {
            "tags": []
          },
          "execution_count": 27
        }
      ]
    },
    {
      "cell_type": "code",
      "metadata": {
        "id": "kGQxVxdDt-70"
      },
      "source": [
        "#OCCUPATION_TYPE column has unordered categorical values, we can impute missing values with a value 'Unavailable'\n",
        "data_app['OCCUPATION_TYPE'].fillna('Unavailable',inplace=True)"
      ],
      "execution_count": 26,
      "outputs": []
    },
    {
      "cell_type": "code",
      "metadata": {
        "colab": {
          "base_uri": "https://localhost:8080/"
        },
        "id": "NqMIoaOr2klj",
        "outputId": "e91092a5-27a5-4a6f-f0b3-7485bf2eb197"
      },
      "source": [
        "#Lets look at CNT_FAM_MEMBERS column, number of missing values\n",
        "data_app['CNT_FAM_MEMBERS'].isnull().sum()"
      ],
      "execution_count": 104,
      "outputs": [
        {
          "output_type": "execute_result",
          "data": {
            "text/plain": [
              "0"
            ]
          },
          "metadata": {
            "tags": []
          },
          "execution_count": 104
        }
      ]
    },
    {
      "cell_type": "code",
      "metadata": {
        "id": "NRgwTY52v7ik"
      },
      "source": [
        "#Lets look at CNT_FAM_MEMBERS column, \n",
        "df = data_app['CNT_FAM_MEMBERS'].value_counts().to_frame(name='Number of Families')\n",
        "df['Count of Family Members']= df.index.astype('Int64')\n",
        "df.reset_index(drop=True, inplace=True)"
      ],
      "execution_count": 101,
      "outputs": []
    },
    {
      "cell_type": "code",
      "metadata": {
        "id": "8PtVg3InzFH4"
      },
      "source": [
        "sns.barplot(data=df, x='Count of Family Members', y='Number of Families')\n",
        "plt.show()"
      ],
      "execution_count": 92,
      "outputs": []
    },
    {
      "cell_type": "markdown",
      "metadata": {
        "id": "qrUun-q92_R3"
      },
      "source": [
        "It can be seen most of the families 2 family members, hence it is safe to impute missing values with Mode of CNT_FAM_MEMBERS column"
      ]
    },
    {
      "cell_type": "code",
      "metadata": {
        "id": "Qh0CYhpx3QIu"
      },
      "source": [
        "data_app['CNT_FAM_MEMBERS'].fillna(data_app.CNT_FAM_MEMBERS.mode,inplace=True)"
      ],
      "execution_count": 103,
      "outputs": []
    },
    {
      "cell_type": "code",
      "metadata": {
        "colab": {
          "base_uri": "https://localhost:8080/",
          "height": 711
        },
        "id": "gmG2HHw56t7Y",
        "outputId": "79db626e-dd32-49c0-e87d-dfdc4a0a44ac"
      },
      "source": [
        "#Lets see the AMT_REQ_CREDIT_BUREAU_* columns\n",
        "\n",
        "plt.figure(figsize=[16,10],)\n",
        "\n",
        "plt.subplot(2,3,1) \n",
        "tmp_df = data_app.AMT_REQ_CREDIT_BUREAU_DAY.value_counts(normalize=True)*100\n",
        "tmp_df.plot.bar().set(xlabel= 'No. of Days', ylabel='Percent count of records',title='No of Days vs Percent Count of records')\n",
        "\n",
        "plt.subplot(2,3,2) \n",
        "tmp_df1 = data_app.AMT_REQ_CREDIT_BUREAU_WEEK.value_counts(normalize=True)*100\n",
        "tmp_df1.plot.bar().set(xlabel= 'No. of Weeks', ylabel='Percent count of records',title='No of Weeks vs Percent Count of records')\n",
        "\n",
        "plt.subplot(2,3,3) \n",
        "tmp_df2 = data_app.AMT_REQ_CREDIT_BUREAU_MON.value_counts(normalize=True)*100\n",
        "tmp_df2.plot.bar().set(xlabel= 'No. of Months', ylabel='Percent count of records',title='No of Months vs Percent Count of records')\n",
        "\n",
        "plt.subplot(2,3,4) \n",
        "tmp_df3 = data_app.AMT_REQ_CREDIT_BUREAU_QRT.value_counts(normalize=True)*100\n",
        "tmp_df3.plot.bar().set(xlabel= 'No. of Quarters', ylabel='Percent count of records',title='No of Quarters vs Percent Count of records')\n",
        "\n",
        "plt.subplot(2,3,5) \n",
        "tmp_df4 = data_app.AMT_REQ_CREDIT_BUREAU_YEAR.value_counts(normalize=True)*100\n",
        "tmp_df4.plot.bar().set(xlabel= 'No. of Years', ylabel='Percent count of records',title='No of Years vs Percent Count of records')\n",
        "\n",
        "plt.subplot(2,3,6) \n",
        "tmp_df5 = data_app.AMT_REQ_CREDIT_BUREAU_HOUR.value_counts(normalize=True)*100\n",
        "tmp_df5.plot.bar().set(xlabel= 'No. of Hours', ylabel='Percent count of records',title='No of Hours vs Percent Count of records')\n",
        "plt.tight_layout(pad=2.0)\n",
        "plt.show()\n"
      ],
      "execution_count": 162,
      "outputs": [
        {
          "output_type": "display_data",
          "data": {
            "image/png": "[encoded data removed]",
            "text/plain": [
              "<Figure size 1152x720 with 6 Axes>"
            ]
          },
          "metadata": {
            "tags": [],
            "needs_background": "light"
          }
        }
      ]
    },
    {
      "cell_type": "markdown",
      "metadata": {
        "id": "PR4-DLg98zAE"
      },
      "source": [
        "As 99% of the values in AMT_REQ_CREDIT_BUREAU_HOUR, AMT_REQ_CREDIT_BUREAU_DAY, AMT_REQ_CREDIT_BUREAU_MON, AMT_REQ_CREDIT_BUREAU_WEEK, AMT_REQ_CREDIT_BUREAU_QRT columns are 0, hence it is safe to impute missing values with 0\n",
        "\n",
        "For AMT_REQ_CREDIT_BUREAU_YEAR column we can impute missing values with the median number of years"
      ]
    },
    {
      "cell_type": "code",
      "metadata": {
        "id": "wrktz_A19eG7"
      },
      "source": [
        "data_app.fillna({'AMT_REQ_CREDIT_BUREAU_HOUR':0,\n",
        " 'AMT_REQ_CREDIT_BUREAU_DAY':0,\n",
        " 'AMT_REQ_CREDIT_BUREAU_WEEK':0,\n",
        " 'AMT_REQ_CREDIT_BUREAU_MON':0,\n",
        " 'AMT_REQ_CREDIT_BUREAU_QRT':0,\n",
        " 'AMT_REQ_CREDIT_BUREAU_YEAR':data_app.AMT_REQ_CREDIT_BUREAU_YEAR.median},inplace=True,)"
      ],
      "execution_count": 186,
      "outputs": []
    },
    {
      "cell_type": "code",
      "metadata": {
        "colab": {
          "base_uri": "https://localhost:8080/"
        },
        "id": "QAJrU1c591_7",
        "outputId": "7c2fd440-66f3-4f31-cdae-9114cfe76991"
      },
      "source": [
        "data_app.info(verbose=True)"
      ],
      "execution_count": 187,
      "outputs": [
        {
          "output_type": "stream",
          "text": [
            "<class 'pandas.core.frame.DataFrame'>\n",
            "RangeIndex: 307511 entries, 0 to 307510\n",
            "Data columns (total 73 columns):\n",
            " #   Column                       Non-Null Count   Dtype  \n",
            "---  ------                       --------------   -----  \n",
            " 0   SK_ID_CURR                   307511 non-null  int64  \n",
            " 1   TARGET                       307511 non-null  int64  \n",
            " 2   NAME_CONTRACT_TYPE           307511 non-null  object \n",
            " 3   CODE_GENDER                  307511 non-null  object \n",
            " 4   FLAG_OWN_CAR                 307511 non-null  object \n",
            " 5   FLAG_OWN_REALTY              307511 non-null  object \n",
            " 6   CNT_CHILDREN                 307511 non-null  int64  \n",
            " 7   AMT_INCOME_TOTAL             307511 non-null  float64\n",
            " 8   AMT_CREDIT                   307511 non-null  float64\n",
            " 9   AMT_ANNUITY                  307499 non-null  float64\n",
            " 10  AMT_GOODS_PRICE              307233 non-null  float64\n",
            " 11  NAME_TYPE_SUITE              306219 non-null  object \n",
            " 12  NAME_INCOME_TYPE             307511 non-null  object \n",
            " 13  NAME_EDUCATION_TYPE          307511 non-null  object \n",
            " 14  NAME_FAMILY_STATUS           307511 non-null  object \n",
            " 15  NAME_HOUSING_TYPE            307511 non-null  object \n",
            " 16  REGION_POPULATION_RELATIVE   307511 non-null  float64\n",
            " 17  DAYS_BIRTH                   307511 non-null  int64  \n",
            " 18  DAYS_EMPLOYED                307511 non-null  int64  \n",
            " 19  DAYS_REGISTRATION            307511 non-null  float64\n",
            " 20  DAYS_ID_PUBLISH              307511 non-null  int64  \n",
            " 21  FLAG_MOBIL                   307511 non-null  int64  \n",
            " 22  FLAG_EMP_PHONE               307511 non-null  int64  \n",
            " 23  FLAG_WORK_PHONE              307511 non-null  int64  \n",
            " 24  FLAG_CONT_MOBILE             307511 non-null  int64  \n",
            " 25  FLAG_PHONE                   307511 non-null  int64  \n",
            " 26  FLAG_EMAIL                   307511 non-null  int64  \n",
            " 27  OCCUPATION_TYPE              307511 non-null  object \n",
            " 28  CNT_FAM_MEMBERS              307511 non-null  object \n",
            " 29  REGION_RATING_CLIENT         307511 non-null  int64  \n",
            " 30  REGION_RATING_CLIENT_W_CITY  307511 non-null  int64  \n",
            " 31  WEEKDAY_APPR_PROCESS_START   307511 non-null  object \n",
            " 32  HOUR_APPR_PROCESS_START      307511 non-null  int64  \n",
            " 33  REG_REGION_NOT_LIVE_REGION   307511 non-null  int64  \n",
            " 34  REG_REGION_NOT_WORK_REGION   307511 non-null  int64  \n",
            " 35  LIVE_REGION_NOT_WORK_REGION  307511 non-null  int64  \n",
            " 36  REG_CITY_NOT_LIVE_CITY       307511 non-null  int64  \n",
            " 37  REG_CITY_NOT_WORK_CITY       307511 non-null  int64  \n",
            " 38  LIVE_CITY_NOT_WORK_CITY      307511 non-null  int64  \n",
            " 39  ORGANIZATION_TYPE            307511 non-null  object \n",
            " 40  EXT_SOURCE_2                 307511 non-null  object \n",
            " 41  EXT_SOURCE_3                 307511 non-null  object \n",
            " 42  OBS_30_CNT_SOCIAL_CIRCLE     306490 non-null  float64\n",
            " 43  DEF_30_CNT_SOCIAL_CIRCLE     306490 non-null  float64\n",
            " 44  OBS_60_CNT_SOCIAL_CIRCLE     306490 non-null  float64\n",
            " 45  DEF_60_CNT_SOCIAL_CIRCLE     306490 non-null  float64\n",
            " 46  DAYS_LAST_PHONE_CHANGE       307510 non-null  float64\n",
            " 47  FLAG_DOCUMENT_2              307511 non-null  int64  \n",
            " 48  FLAG_DOCUMENT_3              307511 non-null  int64  \n",
            " 49  FLAG_DOCUMENT_4              307511 non-null  int64  \n",
            " 50  FLAG_DOCUMENT_5              307511 non-null  int64  \n",
            " 51  FLAG_DOCUMENT_6              307511 non-null  int64  \n",
            " 52  FLAG_DOCUMENT_7              307511 non-null  int64  \n",
            " 53  FLAG_DOCUMENT_8              307511 non-null  int64  \n",
            " 54  FLAG_DOCUMENT_9              307511 non-null  int64  \n",
            " 55  FLAG_DOCUMENT_10             307511 non-null  int64  \n",
            " 56  FLAG_DOCUMENT_11             307511 non-null  int64  \n",
            " 57  FLAG_DOCUMENT_12             307511 non-null  int64  \n",
            " 58  FLAG_DOCUMENT_13             307511 non-null  int64  \n",
            " 59  FLAG_DOCUMENT_14             307511 non-null  int64  \n",
            " 60  FLAG_DOCUMENT_15             307511 non-null  int64  \n",
            " 61  FLAG_DOCUMENT_16             307511 non-null  int64  \n",
            " 62  FLAG_DOCUMENT_17             307511 non-null  int64  \n",
            " 63  FLAG_DOCUMENT_18             307511 non-null  int64  \n",
            " 64  FLAG_DOCUMENT_19             307511 non-null  int64  \n",
            " 65  FLAG_DOCUMENT_20             307511 non-null  int64  \n",
            " 66  FLAG_DOCUMENT_21             307511 non-null  int64  \n",
            " 67  AMT_REQ_CREDIT_BUREAU_HOUR   307511 non-null  float64\n",
            " 68  AMT_REQ_CREDIT_BUREAU_DAY    307511 non-null  float64\n",
            " 69  AMT_REQ_CREDIT_BUREAU_WEEK   307511 non-null  float64\n",
            " 70  AMT_REQ_CREDIT_BUREAU_MON    307511 non-null  float64\n",
            " 71  AMT_REQ_CREDIT_BUREAU_QRT    307511 non-null  float64\n",
            " 72  AMT_REQ_CREDIT_BUREAU_YEAR   307511 non-null  object \n",
            "dtypes: float64(16), int64(41), object(16)\n",
            "memory usage: 171.3+ MB\n"
          ],
          "name": "stdout"
        }
      ]
    }
  ]
}